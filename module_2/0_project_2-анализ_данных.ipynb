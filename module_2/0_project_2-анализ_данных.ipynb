{
 "cells": [
  {
   "cell_type": "markdown",
   "metadata": {},
   "source": [
    "### Общая информация\n",
    "В этом проекте будем работать с данными об условиях жизни учащихся в возрасте от 15 до 22 лет и их успеваемостью по математике.\n",
    "Необходимо по имеющемуся датасету провести разведывательный анализ данных и отобрать признаки, оказывающие влияние на оценку по математике, для модели, предсказывающей результаты госэкзамена для каждого ученика школы и еще на ранней стадии помогающей выявить студентов, находящихся в группе риска не сдачи итогового экзамена.     \n",
    "Давайте попробуем!"
   ]
  },
  {
   "cell_type": "code",
   "execution_count": 1,
   "metadata": {},
   "outputs": [],
   "source": [
    "import warnings\n",
    "import pandas as pd\n",
    "import numpy as np\n",
    "import matplotlib.pyplot as plt\n",
    "from itertools import combinations\n",
    "from scipy.stats import ttest_ind\n",
    "import seaborn as sns\n",
    "%matplotlib inline\n",
    "warnings.simplefilter('ignore')\n",
    "\n",
    "sns.set(style=\"darkgrid\")\n",
    "pd.set_option('display.max_rows', 50)  # показывать больше строк\n",
    "pd.set_option('display.max_columns', 50)  # показывать больше колонок"
   ]
  },
  {
   "cell_type": "code",
   "execution_count": 2,
   "metadata": {},
   "outputs": [],
   "source": [
    "stud_math = pd.read_csv('stud_math.xls')"
   ]
  },
  {
   "cell_type": "markdown",
   "metadata": {},
   "source": [
    "### 1. Первичный осмотр данных"
   ]
  },
  {
   "cell_type": "markdown",
   "metadata": {},
   "source": [
    "Итак, начнем с того, что посмотрим какие данные хранятся в файле и какие типы данных у столбцов:"
   ]
  },
  {
   "cell_type": "code",
   "execution_count": 3,
   "metadata": {},
   "outputs": [
    {
     "data": {
      "text/html": [
       "<div>\n",
       "<style scoped>\n",
       "    .dataframe tbody tr th:only-of-type {\n",
       "        vertical-align: middle;\n",
       "    }\n",
       "\n",
       "    .dataframe tbody tr th {\n",
       "        vertical-align: top;\n",
       "    }\n",
       "\n",
       "    .dataframe thead th {\n",
       "        text-align: right;\n",
       "    }\n",
       "</style>\n",
       "<table border=\"1\" class=\"dataframe\">\n",
       "  <thead>\n",
       "    <tr style=\"text-align: right;\">\n",
       "      <th></th>\n",
       "      <th>school</th>\n",
       "      <th>sex</th>\n",
       "      <th>age</th>\n",
       "      <th>address</th>\n",
       "      <th>famsize</th>\n",
       "      <th>Pstatus</th>\n",
       "      <th>Medu</th>\n",
       "      <th>Fedu</th>\n",
       "      <th>Mjob</th>\n",
       "      <th>Fjob</th>\n",
       "      <th>reason</th>\n",
       "      <th>guardian</th>\n",
       "      <th>traveltime</th>\n",
       "      <th>studytime</th>\n",
       "      <th>failures</th>\n",
       "      <th>schoolsup</th>\n",
       "      <th>famsup</th>\n",
       "      <th>paid</th>\n",
       "      <th>activities</th>\n",
       "      <th>nursery</th>\n",
       "      <th>studytime, granular</th>\n",
       "      <th>higher</th>\n",
       "      <th>internet</th>\n",
       "      <th>romantic</th>\n",
       "      <th>famrel</th>\n",
       "      <th>freetime</th>\n",
       "      <th>goout</th>\n",
       "      <th>health</th>\n",
       "      <th>absences</th>\n",
       "      <th>score</th>\n",
       "    </tr>\n",
       "  </thead>\n",
       "  <tbody>\n",
       "    <tr>\n",
       "      <th>0</th>\n",
       "      <td>GP</td>\n",
       "      <td>F</td>\n",
       "      <td>18</td>\n",
       "      <td>U</td>\n",
       "      <td>NaN</td>\n",
       "      <td>A</td>\n",
       "      <td>4.0</td>\n",
       "      <td>4.0</td>\n",
       "      <td>at_home</td>\n",
       "      <td>teacher</td>\n",
       "      <td>course</td>\n",
       "      <td>mother</td>\n",
       "      <td>2.0</td>\n",
       "      <td>2.0</td>\n",
       "      <td>0.0</td>\n",
       "      <td>yes</td>\n",
       "      <td>no</td>\n",
       "      <td>no</td>\n",
       "      <td>no</td>\n",
       "      <td>yes</td>\n",
       "      <td>-6.0</td>\n",
       "      <td>yes</td>\n",
       "      <td>NaN</td>\n",
       "      <td>no</td>\n",
       "      <td>4.0</td>\n",
       "      <td>3.0</td>\n",
       "      <td>4.0</td>\n",
       "      <td>3.0</td>\n",
       "      <td>6.0</td>\n",
       "      <td>30.0</td>\n",
       "    </tr>\n",
       "    <tr>\n",
       "      <th>1</th>\n",
       "      <td>GP</td>\n",
       "      <td>F</td>\n",
       "      <td>17</td>\n",
       "      <td>U</td>\n",
       "      <td>GT3</td>\n",
       "      <td>NaN</td>\n",
       "      <td>1.0</td>\n",
       "      <td>1.0</td>\n",
       "      <td>at_home</td>\n",
       "      <td>other</td>\n",
       "      <td>course</td>\n",
       "      <td>father</td>\n",
       "      <td>1.0</td>\n",
       "      <td>2.0</td>\n",
       "      <td>0.0</td>\n",
       "      <td>no</td>\n",
       "      <td>yes</td>\n",
       "      <td>no</td>\n",
       "      <td>no</td>\n",
       "      <td>no</td>\n",
       "      <td>-6.0</td>\n",
       "      <td>yes</td>\n",
       "      <td>yes</td>\n",
       "      <td>no</td>\n",
       "      <td>5.0</td>\n",
       "      <td>3.0</td>\n",
       "      <td>3.0</td>\n",
       "      <td>3.0</td>\n",
       "      <td>4.0</td>\n",
       "      <td>30.0</td>\n",
       "    </tr>\n",
       "    <tr>\n",
       "      <th>2</th>\n",
       "      <td>GP</td>\n",
       "      <td>F</td>\n",
       "      <td>15</td>\n",
       "      <td>U</td>\n",
       "      <td>LE3</td>\n",
       "      <td>T</td>\n",
       "      <td>1.0</td>\n",
       "      <td>1.0</td>\n",
       "      <td>at_home</td>\n",
       "      <td>other</td>\n",
       "      <td>other</td>\n",
       "      <td>mother</td>\n",
       "      <td>1.0</td>\n",
       "      <td>2.0</td>\n",
       "      <td>3.0</td>\n",
       "      <td>yes</td>\n",
       "      <td>no</td>\n",
       "      <td>NaN</td>\n",
       "      <td>no</td>\n",
       "      <td>yes</td>\n",
       "      <td>-6.0</td>\n",
       "      <td>yes</td>\n",
       "      <td>yes</td>\n",
       "      <td>NaN</td>\n",
       "      <td>4.0</td>\n",
       "      <td>3.0</td>\n",
       "      <td>2.0</td>\n",
       "      <td>3.0</td>\n",
       "      <td>10.0</td>\n",
       "      <td>50.0</td>\n",
       "    </tr>\n",
       "    <tr>\n",
       "      <th>3</th>\n",
       "      <td>GP</td>\n",
       "      <td>F</td>\n",
       "      <td>15</td>\n",
       "      <td>U</td>\n",
       "      <td>GT3</td>\n",
       "      <td>T</td>\n",
       "      <td>4.0</td>\n",
       "      <td>2.0</td>\n",
       "      <td>health</td>\n",
       "      <td>NaN</td>\n",
       "      <td>home</td>\n",
       "      <td>mother</td>\n",
       "      <td>1.0</td>\n",
       "      <td>3.0</td>\n",
       "      <td>0.0</td>\n",
       "      <td>no</td>\n",
       "      <td>yes</td>\n",
       "      <td>yes</td>\n",
       "      <td>yes</td>\n",
       "      <td>yes</td>\n",
       "      <td>-9.0</td>\n",
       "      <td>yes</td>\n",
       "      <td>yes</td>\n",
       "      <td>yes</td>\n",
       "      <td>3.0</td>\n",
       "      <td>2.0</td>\n",
       "      <td>2.0</td>\n",
       "      <td>5.0</td>\n",
       "      <td>2.0</td>\n",
       "      <td>75.0</td>\n",
       "    </tr>\n",
       "    <tr>\n",
       "      <th>4</th>\n",
       "      <td>GP</td>\n",
       "      <td>F</td>\n",
       "      <td>16</td>\n",
       "      <td>U</td>\n",
       "      <td>GT3</td>\n",
       "      <td>T</td>\n",
       "      <td>3.0</td>\n",
       "      <td>3.0</td>\n",
       "      <td>other</td>\n",
       "      <td>other</td>\n",
       "      <td>home</td>\n",
       "      <td>father</td>\n",
       "      <td>1.0</td>\n",
       "      <td>2.0</td>\n",
       "      <td>0.0</td>\n",
       "      <td>no</td>\n",
       "      <td>yes</td>\n",
       "      <td>yes</td>\n",
       "      <td>no</td>\n",
       "      <td>yes</td>\n",
       "      <td>-6.0</td>\n",
       "      <td>yes</td>\n",
       "      <td>no</td>\n",
       "      <td>no</td>\n",
       "      <td>4.0</td>\n",
       "      <td>3.0</td>\n",
       "      <td>2.0</td>\n",
       "      <td>5.0</td>\n",
       "      <td>4.0</td>\n",
       "      <td>50.0</td>\n",
       "    </tr>\n",
       "  </tbody>\n",
       "</table>\n",
       "</div>"
      ],
      "text/plain": [
       "  school sex  age address famsize Pstatus  Medu  Fedu     Mjob     Fjob  \\\n",
       "0     GP   F   18       U     NaN       A   4.0   4.0  at_home  teacher   \n",
       "1     GP   F   17       U     GT3     NaN   1.0   1.0  at_home    other   \n",
       "2     GP   F   15       U     LE3       T   1.0   1.0  at_home    other   \n",
       "3     GP   F   15       U     GT3       T   4.0   2.0   health      NaN   \n",
       "4     GP   F   16       U     GT3       T   3.0   3.0    other    other   \n",
       "\n",
       "   reason guardian  traveltime  studytime  failures schoolsup famsup paid  \\\n",
       "0  course   mother         2.0        2.0       0.0       yes     no   no   \n",
       "1  course   father         1.0        2.0       0.0        no    yes   no   \n",
       "2   other   mother         1.0        2.0       3.0       yes     no  NaN   \n",
       "3    home   mother         1.0        3.0       0.0        no    yes  yes   \n",
       "4    home   father         1.0        2.0       0.0        no    yes  yes   \n",
       "\n",
       "  activities nursery  studytime, granular higher internet romantic  famrel  \\\n",
       "0         no     yes                 -6.0    yes      NaN       no     4.0   \n",
       "1         no      no                 -6.0    yes      yes       no     5.0   \n",
       "2         no     yes                 -6.0    yes      yes      NaN     4.0   \n",
       "3        yes     yes                 -9.0    yes      yes      yes     3.0   \n",
       "4         no     yes                 -6.0    yes       no       no     4.0   \n",
       "\n",
       "   freetime  goout  health  absences  score  \n",
       "0       3.0    4.0     3.0       6.0   30.0  \n",
       "1       3.0    3.0     3.0       4.0   30.0  \n",
       "2       3.0    2.0     3.0      10.0   50.0  \n",
       "3       2.0    2.0     5.0       2.0   75.0  \n",
       "4       3.0    2.0     5.0       4.0   50.0  "
      ]
     },
     "execution_count": 3,
     "metadata": {},
     "output_type": "execute_result"
    }
   ],
   "source": [
    "stud_math.head()"
   ]
  },
  {
   "cell_type": "code",
   "execution_count": 4,
   "metadata": {
    "scrolled": true
   },
   "outputs": [
    {
     "name": "stdout",
     "output_type": "stream",
     "text": [
      "<class 'pandas.core.frame.DataFrame'>\n",
      "RangeIndex: 395 entries, 0 to 394\n",
      "Data columns (total 30 columns):\n",
      " #   Column               Non-Null Count  Dtype  \n",
      "---  ------               --------------  -----  \n",
      " 0   school               395 non-null    object \n",
      " 1   sex                  395 non-null    object \n",
      " 2   age                  395 non-null    int64  \n",
      " 3   address              378 non-null    object \n",
      " 4   famsize              368 non-null    object \n",
      " 5   Pstatus              350 non-null    object \n",
      " 6   Medu                 392 non-null    float64\n",
      " 7   Fedu                 371 non-null    float64\n",
      " 8   Mjob                 376 non-null    object \n",
      " 9   Fjob                 359 non-null    object \n",
      " 10  reason               378 non-null    object \n",
      " 11  guardian             364 non-null    object \n",
      " 12  traveltime           367 non-null    float64\n",
      " 13  studytime            388 non-null    float64\n",
      " 14  failures             373 non-null    float64\n",
      " 15  schoolsup            386 non-null    object \n",
      " 16  famsup               356 non-null    object \n",
      " 17  paid                 355 non-null    object \n",
      " 18  activities           381 non-null    object \n",
      " 19  nursery              379 non-null    object \n",
      " 20  studytime, granular  388 non-null    float64\n",
      " 21  higher               375 non-null    object \n",
      " 22  internet             361 non-null    object \n",
      " 23  romantic             364 non-null    object \n",
      " 24  famrel               368 non-null    float64\n",
      " 25  freetime             384 non-null    float64\n",
      " 26  goout                387 non-null    float64\n",
      " 27  health               380 non-null    float64\n",
      " 28  absences             383 non-null    float64\n",
      " 29  score                389 non-null    float64\n",
      "dtypes: float64(12), int64(1), object(17)\n",
      "memory usage: 92.7+ KB\n"
     ]
    }
   ],
   "source": [
    "stud_math.info()"
   ]
  },
  {
   "cell_type": "markdown",
   "metadata": {},
   "source": [
    "В датасете содержится информация о 395 учениках. Все столбцы, кроме первых 3-х (shool, sex, age) имеют в значениях пропуски. Данные представлены в 30 столбцах, из них 17 столбцов имеют строковый тип, остальные 13 - числовой тип.   "
   ]
  },
  {
   "cell_type": "markdown",
   "metadata": {},
   "source": [
    "Однако в числовые столбцы попали категориальные переменные, у которых значения закодированы числовым диапазоном.    "
   ]
  },
  {
   "cell_type": "markdown",
   "metadata": {},
   "source": [
    "Поэтому по факту у нас есть только 3 количественных переменных: age (непрерывная количиственная), absences и score (дискретные количественные переменные), при этом score - целевая переменная.    "
   ]
  },
  {
   "cell_type": "markdown",
   "metadata": {},
   "source": [
    "Остальные 27 переменных являются категориальными, из них 10 (Medu; Fedu; traveltime; studytime; failures; studytime,granular; famrel; freetime; goout; health) - качественные порядковые переменные;    \n",
    "и 17 (school, sex, address, famsize, Pstatus, Mjob, Fjob, reason, guardian, schoolsup, famsup, paid, activities, nursery, higher, internet, romantic) - качественные номинативные переменные"
   ]
  },
  {
   "cell_type": "markdown",
   "metadata": {},
   "source": [
    "Посмотрим есть ли у нас неинформативные признаки, у которых более 95% строк содержат одно и тоже значение."
   ]
  },
  {
   "cell_type": "code",
   "execution_count": 5,
   "metadata": {},
   "outputs": [
    {
     "name": "stdout",
     "output_type": "stream",
     "text": [
      "Неинформативные признаки отсутствуют\n"
     ]
    }
   ],
   "source": [
    "num_rows = len(stud_math.index)\n",
    "low_information_cols = []\n",
    "\n",
    "for col in stud_math.columns:\n",
    "    cnts = stud_math[col].value_counts(dropna=False)\n",
    "    top_pct = (cnts/num_rows).iloc[0]\n",
    "    if top_pct > 0.95:\n",
    "        low_information_cols.append(col)\n",
    "        print(f'{col}: {top_pct*100 :.5%}')\n",
    "        print(cnts)\n",
    "        print()\n",
    "print(f'Неинформативные признаки отсутствуют')"
   ]
  },
  {
   "cell_type": "markdown",
   "metadata": {},
   "source": [
    " А есть ли дубликаты строк?"
   ]
  },
  {
   "cell_type": "code",
   "execution_count": 6,
   "metadata": {},
   "outputs": [
    {
     "name": "stdout",
     "output_type": "stream",
     "text": [
      "Дубликаты строк отсутствуют\n"
     ]
    }
   ],
   "source": [
    "if stud_math.duplicated().sum() == 0:\n",
    "    print(f'Дубликаты строк отсутствуют')\n",
    "else:\n",
    "    print(f'Есть дубликаты строк')"
   ]
  },
  {
   "cell_type": "code",
   "execution_count": 7,
   "metadata": {},
   "outputs": [],
   "source": [
    "# отбор числовых колонок\n",
    "stud_numeric = stud_math.select_dtypes(include=[np.number])\n",
    "numeric_col = stud_numeric.columns.values\n",
    "\n",
    "# отбор нечисловых колонок - категориальных номинальных переменных\n",
    "stud_non_numeric = stud_math.select_dtypes(exclude=[np.number])\n",
    "non_numeric_col = stud_non_numeric.columns.values\n",
    "\n",
    "# отбор числовых переменных\n",
    "stud_num = ['age', 'absences', 'score']\n",
    "\n",
    "# отбор категориальных порядковых переменных\n",
    "stud_kat_num = [x for x in numeric_col if x not in stud_num]"
   ]
  },
  {
   "cell_type": "markdown",
   "metadata": {},
   "source": [
    "### 2. Анализ данных в столбцах"
   ]
  },
  {
   "cell_type": "markdown",
   "metadata": {},
   "source": [
    "***- по количественным переменным:***"
   ]
  },
  {
   "cell_type": "code",
   "execution_count": 8,
   "metadata": {},
   "outputs": [
    {
     "data": {
      "text/html": [
       "<div>\n",
       "<style scoped>\n",
       "    .dataframe tbody tr th:only-of-type {\n",
       "        vertical-align: middle;\n",
       "    }\n",
       "\n",
       "    .dataframe tbody tr th {\n",
       "        vertical-align: top;\n",
       "    }\n",
       "\n",
       "    .dataframe thead th {\n",
       "        text-align: right;\n",
       "    }\n",
       "</style>\n",
       "<table border=\"1\" class=\"dataframe\">\n",
       "  <thead>\n",
       "    <tr style=\"text-align: right;\">\n",
       "      <th></th>\n",
       "      <th>age</th>\n",
       "      <th>absences</th>\n",
       "      <th>score</th>\n",
       "    </tr>\n",
       "  </thead>\n",
       "  <tbody>\n",
       "    <tr>\n",
       "      <th>count</th>\n",
       "      <td>395.000000</td>\n",
       "      <td>383.000000</td>\n",
       "      <td>389.000000</td>\n",
       "    </tr>\n",
       "    <tr>\n",
       "      <th>mean</th>\n",
       "      <td>16.696203</td>\n",
       "      <td>7.279373</td>\n",
       "      <td>52.262211</td>\n",
       "    </tr>\n",
       "    <tr>\n",
       "      <th>std</th>\n",
       "      <td>1.276043</td>\n",
       "      <td>23.465197</td>\n",
       "      <td>22.919022</td>\n",
       "    </tr>\n",
       "    <tr>\n",
       "      <th>min</th>\n",
       "      <td>15.000000</td>\n",
       "      <td>0.000000</td>\n",
       "      <td>0.000000</td>\n",
       "    </tr>\n",
       "    <tr>\n",
       "      <th>25%</th>\n",
       "      <td>16.000000</td>\n",
       "      <td>0.000000</td>\n",
       "      <td>40.000000</td>\n",
       "    </tr>\n",
       "    <tr>\n",
       "      <th>50%</th>\n",
       "      <td>17.000000</td>\n",
       "      <td>4.000000</td>\n",
       "      <td>55.000000</td>\n",
       "    </tr>\n",
       "    <tr>\n",
       "      <th>75%</th>\n",
       "      <td>18.000000</td>\n",
       "      <td>8.000000</td>\n",
       "      <td>70.000000</td>\n",
       "    </tr>\n",
       "    <tr>\n",
       "      <th>max</th>\n",
       "      <td>22.000000</td>\n",
       "      <td>385.000000</td>\n",
       "      <td>100.000000</td>\n",
       "    </tr>\n",
       "  </tbody>\n",
       "</table>\n",
       "</div>"
      ],
      "text/plain": [
       "              age    absences       score\n",
       "count  395.000000  383.000000  389.000000\n",
       "mean    16.696203    7.279373   52.262211\n",
       "std      1.276043   23.465197   22.919022\n",
       "min     15.000000    0.000000    0.000000\n",
       "25%     16.000000    0.000000   40.000000\n",
       "50%     17.000000    4.000000   55.000000\n",
       "75%     18.000000    8.000000   70.000000\n",
       "max     22.000000  385.000000  100.000000"
      ]
     },
     "execution_count": 8,
     "metadata": {},
     "output_type": "execute_result"
    }
   ],
   "source": [
    "stud_math[stud_num].describe()"
   ]
  },
  {
   "cell_type": "markdown",
   "metadata": {},
   "source": [
    "Предварительно по основным статистическим характеристикам видим, что есть пропущенные значения, а также:\n",
    "1. данные по количеству пропущенных занятий (absences) и по баллам по госэкзамену (score) сильно рассеяны относительно своего среднего, т.к. имеют большое значение стандартного отклонения\n",
    "2. в данных по количеству пропущенных занятий (absences) скорее всего будут обнаружены выбросы, т.к. значение max=385, а медиана=4"
   ]
  },
  {
   "cell_type": "markdown",
   "metadata": {},
   "source": [
    "Давайте посмотрим на распределение признаков, наличие выбросов и пропусков в данных"
   ]
  },
  {
   "cell_type": "code",
   "execution_count": 9,
   "metadata": {},
   "outputs": [],
   "source": [
    "def an_intcol(col, value=None):\n",
    "    print(f'Признак: \\033[1m\\033[30m{col}')\n",
    "    print(f'mode     {stud_math[col].mode().loc[0]}')\n",
    "    display(stud_math[col].describe())\n",
    "    \n",
    "    # Построим график распределения признака\n",
    "    fig, ax = plt.subplots()\n",
    "    stud_math[col].hist(ax=ax)\n",
    "    plt.show()\n",
    "\n",
    "    pct_missing = stud_math[col].isna().mean()  # определение процента выбросов\n",
    "    print(f'Признак {col} имеет {pct_missing :.2%} пропусков')\n",
    "\n",
    "    # Проверка на наличие выбросов по межквартильному размаху\n",
    "    # и выбранным диапозонам данных в датасете\n",
    "    IQR = stud_math[col].quantile(0.75) - stud_math[col].quantile(0.25)\n",
    "    l = stud_math[col].quantile(0.25) - 1.5*IQR\n",
    "    r = stud_math[col].quantile(0.75) + 1.5*IQR\n",
    "\n",
    "    if stud_math[stud_math[col].between(l, r)].shape[0] > 0 and value == None:\n",
    "        print(f'Признак {col} имеет выбросы:')\n",
    "        display(stud_math[(stud_math[col] < l) | (stud_math[col] > r)])\n",
    "    elif value != None and stud_math[~((stud_math[col].between(\n",
    "            value[0], value[1])) | (pd.isna(stud_math[col])))].shape[0] > 0:\n",
    "        print(f'Признак {col} имеет выбросы:')\n",
    "        display(stud_math[~((stud_math[col].between(\n",
    "            value[0], value[1])) | (pd.isna(stud_math[col])))])\n",
    "    else:\n",
    "        print(f'У признака {col} выбросов нет')\n",
    "    print()\n",
    "    print()"
   ]
  },
  {
   "cell_type": "code",
   "execution_count": 10,
   "metadata": {
    "scrolled": false
   },
   "outputs": [
    {
     "name": "stdout",
     "output_type": "stream",
     "text": [
      "Признак: \u001b[1m\u001b[30mage\n",
      "mode     16\n"
     ]
    },
    {
     "data": {
      "text/plain": [
       "count    395.000000\n",
       "mean      16.696203\n",
       "std        1.276043\n",
       "min       15.000000\n",
       "25%       16.000000\n",
       "50%       17.000000\n",
       "75%       18.000000\n",
       "max       22.000000\n",
       "Name: age, dtype: float64"
      ]
     },
     "metadata": {},
     "output_type": "display_data"
    },
    {
     "data": {
      "image/png": "[encoded data removed]",
      "text/plain": [
       "<Figure size 432x288 with 1 Axes>"
      ]
     },
     "metadata": {},
     "output_type": "display_data"
    },
    {
     "name": "stdout",
     "output_type": "stream",
     "text": [
      "Признак age имеет 0.00% пропусков\n",
      "Признак age имеет выбросы:\n"
     ]
    },
    {
     "data": {
      "text/html": [
       "<div>\n",
       "<style scoped>\n",
       "    .dataframe tbody tr th:only-of-type {\n",
       "        vertical-align: middle;\n",
       "    }\n",
       "\n",
       "    .dataframe tbody tr th {\n",
       "        vertical-align: top;\n",
       "    }\n",
       "\n",
       "    .dataframe thead th {\n",
       "        text-align: right;\n",
       "    }\n",
       "</style>\n",
       "<table border=\"1\" class=\"dataframe\">\n",
       "  <thead>\n",
       "    <tr style=\"text-align: right;\">\n",
       "      <th></th>\n",
       "      <th>school</th>\n",
       "      <th>sex</th>\n",
       "      <th>age</th>\n",
       "      <th>address</th>\n",
       "      <th>famsize</th>\n",
       "      <th>Pstatus</th>\n",
       "      <th>Medu</th>\n",
       "      <th>Fedu</th>\n",
       "      <th>Mjob</th>\n",
       "      <th>Fjob</th>\n",
       "      <th>reason</th>\n",
       "      <th>guardian</th>\n",
       "      <th>traveltime</th>\n",
       "      <th>studytime</th>\n",
       "      <th>failures</th>\n",
       "      <th>schoolsup</th>\n",
       "      <th>famsup</th>\n",
       "      <th>paid</th>\n",
       "      <th>activities</th>\n",
       "      <th>nursery</th>\n",
       "      <th>studytime, granular</th>\n",
       "      <th>higher</th>\n",
       "      <th>internet</th>\n",
       "      <th>romantic</th>\n",
       "      <th>famrel</th>\n",
       "      <th>freetime</th>\n",
       "      <th>goout</th>\n",
       "      <th>health</th>\n",
       "      <th>absences</th>\n",
       "      <th>score</th>\n",
       "    </tr>\n",
       "  </thead>\n",
       "  <tbody>\n",
       "    <tr>\n",
       "      <th>247</th>\n",
       "      <td>GP</td>\n",
       "      <td>M</td>\n",
       "      <td>22</td>\n",
       "      <td>U</td>\n",
       "      <td>GT3</td>\n",
       "      <td>T</td>\n",
       "      <td>3.0</td>\n",
       "      <td>1.0</td>\n",
       "      <td>services</td>\n",
       "      <td>services</td>\n",
       "      <td>other</td>\n",
       "      <td>mother</td>\n",
       "      <td>1.0</td>\n",
       "      <td>1.0</td>\n",
       "      <td>3.0</td>\n",
       "      <td>no</td>\n",
       "      <td>no</td>\n",
       "      <td>no</td>\n",
       "      <td>no</td>\n",
       "      <td>no</td>\n",
       "      <td>-3.0</td>\n",
       "      <td>no</td>\n",
       "      <td>yes</td>\n",
       "      <td>yes</td>\n",
       "      <td>5.0</td>\n",
       "      <td>4.0</td>\n",
       "      <td>5.0</td>\n",
       "      <td>1.0</td>\n",
       "      <td>16.0</td>\n",
       "      <td>40.0</td>\n",
       "    </tr>\n",
       "  </tbody>\n",
       "</table>\n",
       "</div>"
      ],
      "text/plain": [
       "    school sex  age address famsize Pstatus  Medu  Fedu      Mjob      Fjob  \\\n",
       "247     GP   M   22       U     GT3       T   3.0   1.0  services  services   \n",
       "\n",
       "    reason guardian  traveltime  studytime  failures schoolsup famsup paid  \\\n",
       "247  other   mother         1.0        1.0       3.0        no     no   no   \n",
       "\n",
       "    activities nursery  studytime, granular higher internet romantic  famrel  \\\n",
       "247         no      no                 -3.0     no      yes      yes     5.0   \n",
       "\n",
       "     freetime  goout  health  absences  score  \n",
       "247       4.0    5.0     1.0      16.0   40.0  "
      ]
     },
     "metadata": {},
     "output_type": "display_data"
    },
    {
     "name": "stdout",
     "output_type": "stream",
     "text": [
      "\n",
      "\n",
      "Признак: \u001b[1m\u001b[30mabsences\n",
      "mode     0.0\n"
     ]
    },
    {
     "data": {
      "text/plain": [
       "count    383.000000\n",
       "mean       7.279373\n",
       "std       23.465197\n",
       "min        0.000000\n",
       "25%        0.000000\n",
       "50%        4.000000\n",
       "75%        8.000000\n",
       "max      385.000000\n",
       "Name: absences, dtype: float64"
      ]
     },
     "metadata": {},
     "output_type": "display_data"
    },
    {
     "data": {
      "image/png": "[encoded data removed]",
      "text/plain": [
       "<Figure size 432x288 with 1 Axes>"
      ]
     },
     "metadata": {},
     "output_type": "display_data"
    },
    {
     "name": "stdout",
     "output_type": "stream",
     "text": [
      "Признак absences имеет 3.04% пропусков\n",
      "Признак absences имеет выбросы:\n"
     ]
    },
    {
     "data": {
      "text/html": [
       "<div>\n",
       "<style scoped>\n",
       "    .dataframe tbody tr th:only-of-type {\n",
       "        vertical-align: middle;\n",
       "    }\n",
       "\n",
       "    .dataframe tbody tr th {\n",
       "        vertical-align: top;\n",
       "    }\n",
       "\n",
       "    .dataframe thead th {\n",
       "        text-align: right;\n",
       "    }\n",
       "</style>\n",
       "<table border=\"1\" class=\"dataframe\">\n",
       "  <thead>\n",
       "    <tr style=\"text-align: right;\">\n",
       "      <th></th>\n",
       "      <th>school</th>\n",
       "      <th>sex</th>\n",
       "      <th>age</th>\n",
       "      <th>address</th>\n",
       "      <th>famsize</th>\n",
       "      <th>Pstatus</th>\n",
       "      <th>Medu</th>\n",
       "      <th>Fedu</th>\n",
       "      <th>Mjob</th>\n",
       "      <th>Fjob</th>\n",
       "      <th>reason</th>\n",
       "      <th>guardian</th>\n",
       "      <th>traveltime</th>\n",
       "      <th>studytime</th>\n",
       "      <th>failures</th>\n",
       "      <th>schoolsup</th>\n",
       "      <th>famsup</th>\n",
       "      <th>paid</th>\n",
       "      <th>activities</th>\n",
       "      <th>nursery</th>\n",
       "      <th>studytime, granular</th>\n",
       "      <th>higher</th>\n",
       "      <th>internet</th>\n",
       "      <th>romantic</th>\n",
       "      <th>famrel</th>\n",
       "      <th>freetime</th>\n",
       "      <th>goout</th>\n",
       "      <th>health</th>\n",
       "      <th>absences</th>\n",
       "      <th>score</th>\n",
       "    </tr>\n",
       "  </thead>\n",
       "  <tbody>\n",
       "    <tr>\n",
       "      <th>40</th>\n",
       "      <td>GP</td>\n",
       "      <td>F</td>\n",
       "      <td>16</td>\n",
       "      <td>U</td>\n",
       "      <td>LE3</td>\n",
       "      <td>T</td>\n",
       "      <td>2.0</td>\n",
       "      <td>2.0</td>\n",
       "      <td>other</td>\n",
       "      <td>other</td>\n",
       "      <td>home</td>\n",
       "      <td>mother</td>\n",
       "      <td>2.0</td>\n",
       "      <td>2.0</td>\n",
       "      <td>1.0</td>\n",
       "      <td>no</td>\n",
       "      <td>NaN</td>\n",
       "      <td>no</td>\n",
       "      <td>yes</td>\n",
       "      <td>no</td>\n",
       "      <td>-6.0</td>\n",
       "      <td>yes</td>\n",
       "      <td>yes</td>\n",
       "      <td>yes</td>\n",
       "      <td>3.0</td>\n",
       "      <td>3.0</td>\n",
       "      <td>3.0</td>\n",
       "      <td>3.0</td>\n",
       "      <td>25.0</td>\n",
       "      <td>55.0</td>\n",
       "    </tr>\n",
       "    <tr>\n",
       "      <th>74</th>\n",
       "      <td>GP</td>\n",
       "      <td>F</td>\n",
       "      <td>16</td>\n",
       "      <td>U</td>\n",
       "      <td>GT3</td>\n",
       "      <td>T</td>\n",
       "      <td>3.0</td>\n",
       "      <td>3.0</td>\n",
       "      <td>other</td>\n",
       "      <td>services</td>\n",
       "      <td>home</td>\n",
       "      <td>mother</td>\n",
       "      <td>1.0</td>\n",
       "      <td>2.0</td>\n",
       "      <td>0.0</td>\n",
       "      <td>yes</td>\n",
       "      <td>yes</td>\n",
       "      <td>yes</td>\n",
       "      <td>yes</td>\n",
       "      <td>yes</td>\n",
       "      <td>-6.0</td>\n",
       "      <td>yes</td>\n",
       "      <td>yes</td>\n",
       "      <td>no</td>\n",
       "      <td>4.0</td>\n",
       "      <td>NaN</td>\n",
       "      <td>3.0</td>\n",
       "      <td>5.0</td>\n",
       "      <td>54.0</td>\n",
       "      <td>55.0</td>\n",
       "    </tr>\n",
       "    <tr>\n",
       "      <th>103</th>\n",
       "      <td>GP</td>\n",
       "      <td>F</td>\n",
       "      <td>15</td>\n",
       "      <td>U</td>\n",
       "      <td>GT3</td>\n",
       "      <td>T</td>\n",
       "      <td>3.0</td>\n",
       "      <td>2.0</td>\n",
       "      <td>services</td>\n",
       "      <td>other</td>\n",
       "      <td>home</td>\n",
       "      <td>mother</td>\n",
       "      <td>2.0</td>\n",
       "      <td>2.0</td>\n",
       "      <td>0.0</td>\n",
       "      <td>yes</td>\n",
       "      <td>yes</td>\n",
       "      <td>yes</td>\n",
       "      <td>no</td>\n",
       "      <td>yes</td>\n",
       "      <td>-6.0</td>\n",
       "      <td>yes</td>\n",
       "      <td>yes</td>\n",
       "      <td>no</td>\n",
       "      <td>4.0</td>\n",
       "      <td>3.0</td>\n",
       "      <td>5.0</td>\n",
       "      <td>2.0</td>\n",
       "      <td>26.0</td>\n",
       "      <td>30.0</td>\n",
       "    </tr>\n",
       "    <tr>\n",
       "      <th>183</th>\n",
       "      <td>GP</td>\n",
       "      <td>F</td>\n",
       "      <td>17</td>\n",
       "      <td>U</td>\n",
       "      <td>LE3</td>\n",
       "      <td>NaN</td>\n",
       "      <td>3.0</td>\n",
       "      <td>3.0</td>\n",
       "      <td>other</td>\n",
       "      <td>other</td>\n",
       "      <td>reputation</td>\n",
       "      <td>mother</td>\n",
       "      <td>1.0</td>\n",
       "      <td>2.0</td>\n",
       "      <td>0.0</td>\n",
       "      <td>no</td>\n",
       "      <td>yes</td>\n",
       "      <td>no</td>\n",
       "      <td>yes</td>\n",
       "      <td>yes</td>\n",
       "      <td>-6.0</td>\n",
       "      <td>yes</td>\n",
       "      <td>yes</td>\n",
       "      <td>yes</td>\n",
       "      <td>5.0</td>\n",
       "      <td>3.0</td>\n",
       "      <td>3.0</td>\n",
       "      <td>1.0</td>\n",
       "      <td>56.0</td>\n",
       "      <td>40.0</td>\n",
       "    </tr>\n",
       "    <tr>\n",
       "      <th>198</th>\n",
       "      <td>GP</td>\n",
       "      <td>F</td>\n",
       "      <td>17</td>\n",
       "      <td>U</td>\n",
       "      <td>GT3</td>\n",
       "      <td>NaN</td>\n",
       "      <td>4.0</td>\n",
       "      <td>4.0</td>\n",
       "      <td>services</td>\n",
       "      <td>teacher</td>\n",
       "      <td>home</td>\n",
       "      <td>mother</td>\n",
       "      <td>2.0</td>\n",
       "      <td>1.0</td>\n",
       "      <td>1.0</td>\n",
       "      <td>no</td>\n",
       "      <td>yes</td>\n",
       "      <td>no</td>\n",
       "      <td>no</td>\n",
       "      <td>yes</td>\n",
       "      <td>-3.0</td>\n",
       "      <td>yes</td>\n",
       "      <td>NaN</td>\n",
       "      <td>no</td>\n",
       "      <td>4.0</td>\n",
       "      <td>2.0</td>\n",
       "      <td>4.0</td>\n",
       "      <td>2.0</td>\n",
       "      <td>24.0</td>\n",
       "      <td>90.0</td>\n",
       "    </tr>\n",
       "    <tr>\n",
       "      <th>205</th>\n",
       "      <td>GP</td>\n",
       "      <td>F</td>\n",
       "      <td>17</td>\n",
       "      <td>U</td>\n",
       "      <td>GT3</td>\n",
       "      <td>T</td>\n",
       "      <td>3.0</td>\n",
       "      <td>4.0</td>\n",
       "      <td>at_home</td>\n",
       "      <td>services</td>\n",
       "      <td>home</td>\n",
       "      <td>mother</td>\n",
       "      <td>1.0</td>\n",
       "      <td>3.0</td>\n",
       "      <td>1.0</td>\n",
       "      <td>no</td>\n",
       "      <td>yes</td>\n",
       "      <td>yes</td>\n",
       "      <td>no</td>\n",
       "      <td>yes</td>\n",
       "      <td>-9.0</td>\n",
       "      <td>yes</td>\n",
       "      <td>yes</td>\n",
       "      <td>yes</td>\n",
       "      <td>4.0</td>\n",
       "      <td>4.0</td>\n",
       "      <td>3.0</td>\n",
       "      <td>5.0</td>\n",
       "      <td>28.0</td>\n",
       "      <td>45.0</td>\n",
       "    </tr>\n",
       "    <tr>\n",
       "      <th>216</th>\n",
       "      <td>GP</td>\n",
       "      <td>F</td>\n",
       "      <td>17</td>\n",
       "      <td>U</td>\n",
       "      <td>GT3</td>\n",
       "      <td>T</td>\n",
       "      <td>4.0</td>\n",
       "      <td>3.0</td>\n",
       "      <td>other</td>\n",
       "      <td>NaN</td>\n",
       "      <td>reputation</td>\n",
       "      <td>mother</td>\n",
       "      <td>1.0</td>\n",
       "      <td>2.0</td>\n",
       "      <td>2.0</td>\n",
       "      <td>no</td>\n",
       "      <td>no</td>\n",
       "      <td>yes</td>\n",
       "      <td>no</td>\n",
       "      <td>yes</td>\n",
       "      <td>-6.0</td>\n",
       "      <td>yes</td>\n",
       "      <td>yes</td>\n",
       "      <td>yes</td>\n",
       "      <td>3.0</td>\n",
       "      <td>4.0</td>\n",
       "      <td>5.0</td>\n",
       "      <td>1.0</td>\n",
       "      <td>22.0</td>\n",
       "      <td>20.0</td>\n",
       "    </tr>\n",
       "    <tr>\n",
       "      <th>222</th>\n",
       "      <td>GP</td>\n",
       "      <td>F</td>\n",
       "      <td>16</td>\n",
       "      <td>U</td>\n",
       "      <td>GT3</td>\n",
       "      <td>T</td>\n",
       "      <td>2.0</td>\n",
       "      <td>3.0</td>\n",
       "      <td>services</td>\n",
       "      <td>teacher</td>\n",
       "      <td>other</td>\n",
       "      <td>mother</td>\n",
       "      <td>1.0</td>\n",
       "      <td>2.0</td>\n",
       "      <td>0.0</td>\n",
       "      <td>yes</td>\n",
       "      <td>NaN</td>\n",
       "      <td>no</td>\n",
       "      <td>no</td>\n",
       "      <td>yes</td>\n",
       "      <td>-6.0</td>\n",
       "      <td>yes</td>\n",
       "      <td>yes</td>\n",
       "      <td>no</td>\n",
       "      <td>2.0</td>\n",
       "      <td>3.0</td>\n",
       "      <td>1.0</td>\n",
       "      <td>3.0</td>\n",
       "      <td>385.0</td>\n",
       "      <td>85.0</td>\n",
       "    </tr>\n",
       "    <tr>\n",
       "      <th>260</th>\n",
       "      <td>GP</td>\n",
       "      <td>F</td>\n",
       "      <td>18</td>\n",
       "      <td>U</td>\n",
       "      <td>GT3</td>\n",
       "      <td>NaN</td>\n",
       "      <td>4.0</td>\n",
       "      <td>3.0</td>\n",
       "      <td>NaN</td>\n",
       "      <td>other</td>\n",
       "      <td>home</td>\n",
       "      <td>father</td>\n",
       "      <td>1.0</td>\n",
       "      <td>2.0</td>\n",
       "      <td>0.0</td>\n",
       "      <td>no</td>\n",
       "      <td>yes</td>\n",
       "      <td>yes</td>\n",
       "      <td>no</td>\n",
       "      <td>yes</td>\n",
       "      <td>-6.0</td>\n",
       "      <td>yes</td>\n",
       "      <td>yes</td>\n",
       "      <td>yes</td>\n",
       "      <td>3.0</td>\n",
       "      <td>1.0</td>\n",
       "      <td>2.0</td>\n",
       "      <td>2.0</td>\n",
       "      <td>21.0</td>\n",
       "      <td>90.0</td>\n",
       "    </tr>\n",
       "    <tr>\n",
       "      <th>276</th>\n",
       "      <td>GP</td>\n",
       "      <td>F</td>\n",
       "      <td>18</td>\n",
       "      <td>R</td>\n",
       "      <td>GT3</td>\n",
       "      <td>A</td>\n",
       "      <td>3.0</td>\n",
       "      <td>2.0</td>\n",
       "      <td>other</td>\n",
       "      <td>services</td>\n",
       "      <td>home</td>\n",
       "      <td>mother</td>\n",
       "      <td>2.0</td>\n",
       "      <td>2.0</td>\n",
       "      <td>0.0</td>\n",
       "      <td>no</td>\n",
       "      <td>NaN</td>\n",
       "      <td>no</td>\n",
       "      <td>no</td>\n",
       "      <td>no</td>\n",
       "      <td>-6.0</td>\n",
       "      <td>no</td>\n",
       "      <td>yes</td>\n",
       "      <td>yes</td>\n",
       "      <td>NaN</td>\n",
       "      <td>1.0</td>\n",
       "      <td>1.0</td>\n",
       "      <td>5.0</td>\n",
       "      <td>75.0</td>\n",
       "      <td>45.0</td>\n",
       "    </tr>\n",
       "    <tr>\n",
       "      <th>277</th>\n",
       "      <td>GP</td>\n",
       "      <td>M</td>\n",
       "      <td>18</td>\n",
       "      <td>U</td>\n",
       "      <td>GT3</td>\n",
       "      <td>T</td>\n",
       "      <td>4.0</td>\n",
       "      <td>4.0</td>\n",
       "      <td>NaN</td>\n",
       "      <td>services</td>\n",
       "      <td>home</td>\n",
       "      <td>mother</td>\n",
       "      <td>2.0</td>\n",
       "      <td>1.0</td>\n",
       "      <td>0.0</td>\n",
       "      <td>no</td>\n",
       "      <td>no</td>\n",
       "      <td>yes</td>\n",
       "      <td>yes</td>\n",
       "      <td>yes</td>\n",
       "      <td>-3.0</td>\n",
       "      <td>yes</td>\n",
       "      <td>yes</td>\n",
       "      <td>no</td>\n",
       "      <td>3.0</td>\n",
       "      <td>2.0</td>\n",
       "      <td>4.0</td>\n",
       "      <td>3.0</td>\n",
       "      <td>22.0</td>\n",
       "      <td>45.0</td>\n",
       "    </tr>\n",
       "    <tr>\n",
       "      <th>280</th>\n",
       "      <td>GP</td>\n",
       "      <td>M</td>\n",
       "      <td>17</td>\n",
       "      <td>U</td>\n",
       "      <td>NaN</td>\n",
       "      <td>A</td>\n",
       "      <td>4.0</td>\n",
       "      <td>NaN</td>\n",
       "      <td>services</td>\n",
       "      <td>other</td>\n",
       "      <td>home</td>\n",
       "      <td>mother</td>\n",
       "      <td>2.0</td>\n",
       "      <td>1.0</td>\n",
       "      <td>NaN</td>\n",
       "      <td>no</td>\n",
       "      <td>no</td>\n",
       "      <td>yes</td>\n",
       "      <td>yes</td>\n",
       "      <td>yes</td>\n",
       "      <td>-3.0</td>\n",
       "      <td>yes</td>\n",
       "      <td>yes</td>\n",
       "      <td>NaN</td>\n",
       "      <td>4.0</td>\n",
       "      <td>NaN</td>\n",
       "      <td>4.0</td>\n",
       "      <td>5.0</td>\n",
       "      <td>30.0</td>\n",
       "      <td>40.0</td>\n",
       "    </tr>\n",
       "    <tr>\n",
       "      <th>307</th>\n",
       "      <td>GP</td>\n",
       "      <td>M</td>\n",
       "      <td>19</td>\n",
       "      <td>U</td>\n",
       "      <td>GT3</td>\n",
       "      <td>NaN</td>\n",
       "      <td>4.0</td>\n",
       "      <td>4.0</td>\n",
       "      <td>teacher</td>\n",
       "      <td>services</td>\n",
       "      <td>reputation</td>\n",
       "      <td>other</td>\n",
       "      <td>2.0</td>\n",
       "      <td>1.0</td>\n",
       "      <td>1.0</td>\n",
       "      <td>no</td>\n",
       "      <td>yes</td>\n",
       "      <td>yes</td>\n",
       "      <td>no</td>\n",
       "      <td>yes</td>\n",
       "      <td>-3.0</td>\n",
       "      <td>yes</td>\n",
       "      <td>yes</td>\n",
       "      <td>yes</td>\n",
       "      <td>4.0</td>\n",
       "      <td>3.0</td>\n",
       "      <td>4.0</td>\n",
       "      <td>4.0</td>\n",
       "      <td>38.0</td>\n",
       "      <td>40.0</td>\n",
       "    </tr>\n",
       "    <tr>\n",
       "      <th>313</th>\n",
       "      <td>GP</td>\n",
       "      <td>F</td>\n",
       "      <td>19</td>\n",
       "      <td>U</td>\n",
       "      <td>NaN</td>\n",
       "      <td>NaN</td>\n",
       "      <td>3.0</td>\n",
       "      <td>2.0</td>\n",
       "      <td>services</td>\n",
       "      <td>other</td>\n",
       "      <td>reputation</td>\n",
       "      <td>other</td>\n",
       "      <td>2.0</td>\n",
       "      <td>2.0</td>\n",
       "      <td>NaN</td>\n",
       "      <td>no</td>\n",
       "      <td>NaN</td>\n",
       "      <td>NaN</td>\n",
       "      <td>no</td>\n",
       "      <td>no</td>\n",
       "      <td>-6.0</td>\n",
       "      <td>yes</td>\n",
       "      <td>yes</td>\n",
       "      <td>yes</td>\n",
       "      <td>4.0</td>\n",
       "      <td>2.0</td>\n",
       "      <td>2.0</td>\n",
       "      <td>1.0</td>\n",
       "      <td>22.0</td>\n",
       "      <td>55.0</td>\n",
       "    </tr>\n",
       "    <tr>\n",
       "      <th>315</th>\n",
       "      <td>GP</td>\n",
       "      <td>F</td>\n",
       "      <td>19</td>\n",
       "      <td>R</td>\n",
       "      <td>GT3</td>\n",
       "      <td>T</td>\n",
       "      <td>2.0</td>\n",
       "      <td>3.0</td>\n",
       "      <td>other</td>\n",
       "      <td>other</td>\n",
       "      <td>reputation</td>\n",
       "      <td>other</td>\n",
       "      <td>1.0</td>\n",
       "      <td>3.0</td>\n",
       "      <td>1.0</td>\n",
       "      <td>no</td>\n",
       "      <td>no</td>\n",
       "      <td>no</td>\n",
       "      <td>no</td>\n",
       "      <td>yes</td>\n",
       "      <td>-9.0</td>\n",
       "      <td>yes</td>\n",
       "      <td>yes</td>\n",
       "      <td>yes</td>\n",
       "      <td>4.0</td>\n",
       "      <td>1.0</td>\n",
       "      <td>2.0</td>\n",
       "      <td>3.0</td>\n",
       "      <td>40.0</td>\n",
       "      <td>55.0</td>\n",
       "    </tr>\n",
       "    <tr>\n",
       "      <th>320</th>\n",
       "      <td>GP</td>\n",
       "      <td>F</td>\n",
       "      <td>17</td>\n",
       "      <td>U</td>\n",
       "      <td>GT3</td>\n",
       "      <td>A</td>\n",
       "      <td>4.0</td>\n",
       "      <td>3.0</td>\n",
       "      <td>services</td>\n",
       "      <td>services</td>\n",
       "      <td>course</td>\n",
       "      <td>mother</td>\n",
       "      <td>1.0</td>\n",
       "      <td>2.0</td>\n",
       "      <td>NaN</td>\n",
       "      <td>no</td>\n",
       "      <td>yes</td>\n",
       "      <td>yes</td>\n",
       "      <td>no</td>\n",
       "      <td>yes</td>\n",
       "      <td>-6.0</td>\n",
       "      <td>NaN</td>\n",
       "      <td>yes</td>\n",
       "      <td>yes</td>\n",
       "      <td>5.0</td>\n",
       "      <td>2.0</td>\n",
       "      <td>2.0</td>\n",
       "      <td>5.0</td>\n",
       "      <td>23.0</td>\n",
       "      <td>65.0</td>\n",
       "    </tr>\n",
       "    <tr>\n",
       "      <th>390</th>\n",
       "      <td>MS</td>\n",
       "      <td>M</td>\n",
       "      <td>20</td>\n",
       "      <td>U</td>\n",
       "      <td>LE3</td>\n",
       "      <td>A</td>\n",
       "      <td>2.0</td>\n",
       "      <td>2.0</td>\n",
       "      <td>services</td>\n",
       "      <td>services</td>\n",
       "      <td>course</td>\n",
       "      <td>NaN</td>\n",
       "      <td>1.0</td>\n",
       "      <td>2.0</td>\n",
       "      <td>2.0</td>\n",
       "      <td>no</td>\n",
       "      <td>yes</td>\n",
       "      <td>yes</td>\n",
       "      <td>no</td>\n",
       "      <td>yes</td>\n",
       "      <td>-6.0</td>\n",
       "      <td>yes</td>\n",
       "      <td>no</td>\n",
       "      <td>no</td>\n",
       "      <td>5.0</td>\n",
       "      <td>5.0</td>\n",
       "      <td>4.0</td>\n",
       "      <td>4.0</td>\n",
       "      <td>212.0</td>\n",
       "      <td>45.0</td>\n",
       "    </tr>\n",
       "  </tbody>\n",
       "</table>\n",
       "</div>"
      ],
      "text/plain": [
       "    school sex  age address famsize Pstatus  Medu  Fedu      Mjob      Fjob  \\\n",
       "40      GP   F   16       U     LE3       T   2.0   2.0     other     other   \n",
       "74      GP   F   16       U     GT3       T   3.0   3.0     other  services   \n",
       "103     GP   F   15       U     GT3       T   3.0   2.0  services     other   \n",
       "183     GP   F   17       U     LE3     NaN   3.0   3.0     other     other   \n",
       "198     GP   F   17       U     GT3     NaN   4.0   4.0  services   teacher   \n",
       "205     GP   F   17       U     GT3       T   3.0   4.0   at_home  services   \n",
       "216     GP   F   17       U     GT3       T   4.0   3.0     other       NaN   \n",
       "222     GP   F   16       U     GT3       T   2.0   3.0  services   teacher   \n",
       "260     GP   F   18       U     GT3     NaN   4.0   3.0       NaN     other   \n",
       "276     GP   F   18       R     GT3       A   3.0   2.0     other  services   \n",
       "277     GP   M   18       U     GT3       T   4.0   4.0       NaN  services   \n",
       "280     GP   M   17       U     NaN       A   4.0   NaN  services     other   \n",
       "307     GP   M   19       U     GT3     NaN   4.0   4.0   teacher  services   \n",
       "313     GP   F   19       U     NaN     NaN   3.0   2.0  services     other   \n",
       "315     GP   F   19       R     GT3       T   2.0   3.0     other     other   \n",
       "320     GP   F   17       U     GT3       A   4.0   3.0  services  services   \n",
       "390     MS   M   20       U     LE3       A   2.0   2.0  services  services   \n",
       "\n",
       "         reason guardian  traveltime  studytime  failures schoolsup famsup  \\\n",
       "40         home   mother         2.0        2.0       1.0        no    NaN   \n",
       "74         home   mother         1.0        2.0       0.0       yes    yes   \n",
       "103        home   mother         2.0        2.0       0.0       yes    yes   \n",
       "183  reputation   mother         1.0        2.0       0.0        no    yes   \n",
       "198        home   mother         2.0        1.0       1.0        no    yes   \n",
       "205        home   mother         1.0        3.0       1.0        no    yes   \n",
       "216  reputation   mother         1.0        2.0       2.0        no     no   \n",
       "222       other   mother         1.0        2.0       0.0       yes    NaN   \n",
       "260        home   father         1.0        2.0       0.0        no    yes   \n",
       "276        home   mother         2.0        2.0       0.0        no    NaN   \n",
       "277        home   mother         2.0        1.0       0.0        no     no   \n",
       "280        home   mother         2.0        1.0       NaN        no     no   \n",
       "307  reputation    other         2.0        1.0       1.0        no    yes   \n",
       "313  reputation    other         2.0        2.0       NaN        no    NaN   \n",
       "315  reputation    other         1.0        3.0       1.0        no     no   \n",
       "320      course   mother         1.0        2.0       NaN        no    yes   \n",
       "390      course      NaN         1.0        2.0       2.0        no    yes   \n",
       "\n",
       "    paid activities nursery  studytime, granular higher internet romantic  \\\n",
       "40    no        yes      no                 -6.0    yes      yes      yes   \n",
       "74   yes        yes     yes                 -6.0    yes      yes       no   \n",
       "103  yes         no     yes                 -6.0    yes      yes       no   \n",
       "183   no        yes     yes                 -6.0    yes      yes      yes   \n",
       "198   no         no     yes                 -3.0    yes      NaN       no   \n",
       "205  yes         no     yes                 -9.0    yes      yes      yes   \n",
       "216  yes         no     yes                 -6.0    yes      yes      yes   \n",
       "222   no         no     yes                 -6.0    yes      yes       no   \n",
       "260  yes         no     yes                 -6.0    yes      yes      yes   \n",
       "276   no         no      no                 -6.0     no      yes      yes   \n",
       "277  yes        yes     yes                 -3.0    yes      yes       no   \n",
       "280  yes        yes     yes                 -3.0    yes      yes      NaN   \n",
       "307  yes         no     yes                 -3.0    yes      yes      yes   \n",
       "313  NaN         no      no                 -6.0    yes      yes      yes   \n",
       "315   no         no     yes                 -9.0    yes      yes      yes   \n",
       "320  yes         no     yes                 -6.0    NaN      yes      yes   \n",
       "390  yes         no     yes                 -6.0    yes       no       no   \n",
       "\n",
       "     famrel  freetime  goout  health  absences  score  \n",
       "40      3.0       3.0    3.0     3.0      25.0   55.0  \n",
       "74      4.0       NaN    3.0     5.0      54.0   55.0  \n",
       "103     4.0       3.0    5.0     2.0      26.0   30.0  \n",
       "183     5.0       3.0    3.0     1.0      56.0   40.0  \n",
       "198     4.0       2.0    4.0     2.0      24.0   90.0  \n",
       "205     4.0       4.0    3.0     5.0      28.0   45.0  \n",
       "216     3.0       4.0    5.0     1.0      22.0   20.0  \n",
       "222     2.0       3.0    1.0     3.0     385.0   85.0  \n",
       "260     3.0       1.0    2.0     2.0      21.0   90.0  \n",
       "276     NaN       1.0    1.0     5.0      75.0   45.0  \n",
       "277     3.0       2.0    4.0     3.0      22.0   45.0  \n",
       "280     4.0       NaN    4.0     5.0      30.0   40.0  \n",
       "307     4.0       3.0    4.0     4.0      38.0   40.0  \n",
       "313     4.0       2.0    2.0     1.0      22.0   55.0  \n",
       "315     4.0       1.0    2.0     3.0      40.0   55.0  \n",
       "320     5.0       2.0    2.0     5.0      23.0   65.0  \n",
       "390     5.0       5.0    4.0     4.0     212.0   45.0  "
      ]
     },
     "metadata": {},
     "output_type": "display_data"
    },
    {
     "name": "stdout",
     "output_type": "stream",
     "text": [
      "\n",
      "\n",
      "Признак: \u001b[1m\u001b[30mscore\n",
      "mode     50.0\n"
     ]
    },
    {
     "data": {
      "text/plain": [
       "count    389.000000\n",
       "mean      52.262211\n",
       "std       22.919022\n",
       "min        0.000000\n",
       "25%       40.000000\n",
       "50%       55.000000\n",
       "75%       70.000000\n",
       "max      100.000000\n",
       "Name: score, dtype: float64"
      ]
     },
     "metadata": {},
     "output_type": "display_data"
    },
    {
     "data": {
      "image/png": "[encoded data removed]",
      "text/plain": [
       "<Figure size 432x288 with 1 Axes>"
      ]
     },
     "metadata": {},
     "output_type": "display_data"
    },
    {
     "name": "stdout",
     "output_type": "stream",
     "text": [
      "Признак score имеет 1.52% пропусков\n",
      "У признака score выбросов нет\n",
      "\n",
      "\n"
     ]
    }
   ],
   "source": [
    "an_intcol('age')\n",
    "an_intcol('absences')\n",
    "an_intcol('score', value=(0, 100))"
   ]
  },
  {
   "cell_type": "markdown",
   "metadata": {},
   "source": [
    "### age"
   ]
  },
  {
   "cell_type": "markdown",
   "metadata": {},
   "source": [
    "У данного признака нет пропущенных значений, наибольшее количество данных расположено в возрастном диапазоне от 15 до 17 лет включительно. При помощи метода межквартильного размаха обнаружен 1 выброс со значением 22 года, однако мы его не будем считать за выброс, т.к. он по условиям проекта входит в рассматриваемый диапазон возрастных значений.     \n",
    "Давайте из этого количественного признака сделаем порядковый категориальный с диапазоном возрастов: 1 - от 15 до 17 лет, 2 - от 18 до 19 лет, 3 - остальные возраста"
   ]
  },
  {
   "cell_type": "code",
   "execution_count": 11,
   "metadata": {},
   "outputs": [],
   "source": [
    "stud_math['age_kat'] = stud_math['age'].apply(lambda x: 1 if 15 <= x <= 17 else 2 if 18 <= x <= 19 else 3)"
   ]
  },
  {
   "cell_type": "markdown",
   "metadata": {},
   "source": [
    "### absences"
   ]
  },
  {
   "cell_type": "markdown",
   "metadata": {},
   "source": [
    "Посмотрим на эти данные повнимательней"
   ]
  },
  {
   "cell_type": "code",
   "execution_count": 12,
   "metadata": {},
   "outputs": [
    {
     "data": {
      "text/plain": [
       "<AxesSubplot:>"
      ]
     },
     "execution_count": 12,
     "metadata": {},
     "output_type": "execute_result"
    },
    {
     "data": {
      "image/png": "[encoded data removed]",
      "text/plain": [
       "<Figure size 432x288 with 1 Axes>"
      ]
     },
     "metadata": {},
     "output_type": "display_data"
    }
   ],
   "source": [
    "stud_math.boxplot(column=['absences'], figsize=(6, 4))"
   ]
  },
  {
   "cell_type": "markdown",
   "metadata": {},
   "source": [
    "Уберем самые большие значения выбросов: 212 и 385. И опять посмотрим на распределение данных"
   ]
  },
  {
   "cell_type": "code",
   "execution_count": 13,
   "metadata": {},
   "outputs": [
    {
     "data": {
      "text/plain": [
       "<matplotlib.axes._axes.Axes at 0xba7d130>"
      ]
     },
     "execution_count": 13,
     "metadata": {},
     "output_type": "execute_result"
    },
    {
     "data": {
      "image/png": "[encoded data removed]",
      "text/plain": [
       "<Figure size 432x288 with 1 Axes>"
      ]
     },
     "metadata": {},
     "output_type": "display_data"
    }
   ],
   "source": [
    "fig = plt.figure()\n",
    "axes = fig.add_axes([0, 0, 1, 1])\n",
    "# устанавливаем границы осей (устраняет некоторые выбросы)\n",
    "axes.set_ylim(0, 80)\n",
    "stud_math.boxplot(column=['absences'])"
   ]
  },
  {
   "cell_type": "markdown",
   "metadata": {},
   "source": [
    "Выбросы не превышающие значения 30 возможно могут быть допустимыми, так как занятий в учебном году должно быть больше этой цифры"
   ]
  },
  {
   "cell_type": "code",
   "execution_count": 14,
   "metadata": {},
   "outputs": [
    {
     "data": {
      "text/plain": [
       "<matplotlib.legend.Legend at 0xbacbe20>"
      ]
     },
     "execution_count": 14,
     "metadata": {},
     "output_type": "execute_result"
    },
    {
     "data": {
      "image/png": "[encoded data removed]",
      "text/plain": [
       "<Figure size 432x288 with 1 Axes>"
      ]
     },
     "metadata": {},
     "output_type": "display_data"
    }
   ],
   "source": [
    "stud_math['absences'].hist(alpha=0.5, bins=16,\n",
    "                           range=(0, 60), label='Пропущенные занятия')\n",
    "plt.legend()"
   ]
  },
  {
   "cell_type": "code",
   "execution_count": 15,
   "metadata": {},
   "outputs": [
    {
     "name": "stdout",
     "output_type": "stream",
     "text": [
      "25-й перцентиль: 0.0, 75-й перцентиль: 8.0, IQR: 8.0, Границы выбросов: [-12.0, 20.0]\n"
     ]
    },
    {
     "data": {
      "text/plain": [
       "<matplotlib.legend.Legend at 0xbb7a7f0>"
      ]
     },
     "execution_count": 15,
     "metadata": {},
     "output_type": "execute_result"
    },
    {
     "data": {
      "image/png": "[encoded data removed]",
      "text/plain": [
       "<Figure size 432x288 with 1 Axes>"
      ]
     },
     "metadata": {},
     "output_type": "display_data"
    }
   ],
   "source": [
    "perc25 = stud_math['absences'].quantile(0.25)\n",
    "perc75 = stud_math['absences'].quantile(0.75)\n",
    "IQR = perc75 - perc25\n",
    "print(f'25-й перцентиль: {perc25}, 75-й перцентиль: {perc75}, IQR: {IQR},\\\n",
    " Границы выбросов: [{perc25 - 1.5*IQR}, {perc75 + 1.5*IQR}]')\n",
    "stud_math['absences'].loc[stud_math['absences'].between(\n",
    "    perc25 - 1.5*IQR, perc75 + 1.5*IQR)].hist(bins=10,\\\n",
    "                                              range=(0, 50),\\\n",
    "                                              label='IQR межквартильный размах')\n",
    "stud_math['absences'].loc[stud_math['absences'] <= 60].hist(\n",
    "    alpha=0.5, bins=10, range=(0, 50), label='Допустимые значения')\n",
    "plt.legend()"
   ]
  },
  {
   "cell_type": "markdown",
   "metadata": {},
   "source": [
    "Видим, что основное распределение лежит между 0 и 20 и есть выбросы больше 20. Имеются 2 выброса с критическими значениями: 212 и 385. Хотя выбросом по межквартильному размаху в этих данных являются значения больше 20, видим что также допустимыми для анализа значениями могут быть и данные, которые не превышают значения 30. Поэтому для устранения выбросов возьмем данные по этому признаку в пределах от нижней границы межквартильного размаха до 30. "
   ]
  },
  {
   "cell_type": "code",
   "execution_count": 16,
   "metadata": {},
   "outputs": [
    {
     "data": {
      "text/plain": [
       "260     21.0\n",
       "313     22.0\n",
       "277     22.0\n",
       "216     22.0\n",
       "320     23.0\n",
       "198     24.0\n",
       "40      25.0\n",
       "103     26.0\n",
       "205     28.0\n",
       "280     30.0\n",
       "307     38.0\n",
       "315     40.0\n",
       "74      54.0\n",
       "183     56.0\n",
       "276     75.0\n",
       "390    212.0\n",
       "222    385.0\n",
       "Name: absences, dtype: float64"
      ]
     },
     "execution_count": 16,
     "metadata": {},
     "output_type": "execute_result"
    }
   ],
   "source": [
    "stud_math.loc[~(stud_math['absences'].between(\n",
    "    perc25 - 1.5*IQR, perc75 + 1.5*IQR) |\n",
    "    pd.isna(stud_math['absences'])), 'absences'].sort_values()"
   ]
  },
  {
   "cell_type": "code",
   "execution_count": 17,
   "metadata": {},
   "outputs": [],
   "source": [
    "stud_math = stud_math.loc[stud_math['absences'].between(\n",
    "    perc25 - 1.5*IQR, 30) | pd.isna(stud_math['absences'])]"
   ]
  },
  {
   "cell_type": "markdown",
   "metadata": {},
   "source": [
    "Посмотрим на эти данные после преобразования:"
   ]
  },
  {
   "cell_type": "code",
   "execution_count": 18,
   "metadata": {},
   "outputs": [
    {
     "data": {
      "text/plain": [
       "<AxesSubplot:>"
      ]
     },
     "execution_count": 18,
     "metadata": {},
     "output_type": "execute_result"
    },
    {
     "data": {
      "image/png": "[encoded data removed]",
      "text/plain": [
       "<Figure size 432x288 with 1 Axes>"
      ]
     },
     "metadata": {},
     "output_type": "display_data"
    }
   ],
   "source": [
    "stud_math.boxplot(column=['absences'], figsize=(6, 4))"
   ]
  },
  {
   "cell_type": "markdown",
   "metadata": {},
   "source": [
    "### score"
   ]
  },
  {
   "cell_type": "markdown",
   "metadata": {},
   "source": [
    "У целевой переменной небольшое количество пропусков. Хотя выбросов значений нет, однако достаточно много учеников с нулевым баллом по госэкзамену по математике. Не сдавали экзамен или набрали совсем мало баллов и не сдали? Оставим данные без изменения, учитывая, что балл по условиям проекта может находится в диапазоне от 0 до 100."
   ]
  },
  {
   "cell_type": "markdown",
   "metadata": {},
   "source": [
    "***- по порядковым категориальным переменным:***"
   ]
  },
  {
   "cell_type": "code",
   "execution_count": 19,
   "metadata": {},
   "outputs": [],
   "source": [
    "stud_kat_num.append('age_kat') # добавили новую категориальную переменную"
   ]
  },
  {
   "cell_type": "code",
   "execution_count": 20,
   "metadata": {},
   "outputs": [
    {
     "data": {
      "text/html": [
       "<div>\n",
       "<style scoped>\n",
       "    .dataframe tbody tr th:only-of-type {\n",
       "        vertical-align: middle;\n",
       "    }\n",
       "\n",
       "    .dataframe tbody tr th {\n",
       "        vertical-align: top;\n",
       "    }\n",
       "\n",
       "    .dataframe thead th {\n",
       "        text-align: right;\n",
       "    }\n",
       "</style>\n",
       "<table border=\"1\" class=\"dataframe\">\n",
       "  <thead>\n",
       "    <tr style=\"text-align: right;\">\n",
       "      <th></th>\n",
       "      <th>Medu</th>\n",
       "      <th>Fedu</th>\n",
       "      <th>traveltime</th>\n",
       "      <th>studytime</th>\n",
       "      <th>failures</th>\n",
       "      <th>studytime, granular</th>\n",
       "      <th>famrel</th>\n",
       "      <th>freetime</th>\n",
       "      <th>goout</th>\n",
       "      <th>health</th>\n",
       "      <th>age_kat</th>\n",
       "    </tr>\n",
       "  </thead>\n",
       "  <tbody>\n",
       "    <tr>\n",
       "      <th>count</th>\n",
       "      <td>385.000000</td>\n",
       "      <td>364.000000</td>\n",
       "      <td>360.000000</td>\n",
       "      <td>381.00000</td>\n",
       "      <td>366.000000</td>\n",
       "      <td>381.00000</td>\n",
       "      <td>362.000000</td>\n",
       "      <td>378.000000</td>\n",
       "      <td>380.000000</td>\n",
       "      <td>373.000000</td>\n",
       "      <td>388.000000</td>\n",
       "    </tr>\n",
       "    <tr>\n",
       "      <th>mean</th>\n",
       "      <td>2.750649</td>\n",
       "      <td>2.609890</td>\n",
       "      <td>1.441667</td>\n",
       "      <td>2.03937</td>\n",
       "      <td>0.333333</td>\n",
       "      <td>-6.11811</td>\n",
       "      <td>3.936464</td>\n",
       "      <td>3.240741</td>\n",
       "      <td>3.115789</td>\n",
       "      <td>3.530831</td>\n",
       "      <td>1.286082</td>\n",
       "    </tr>\n",
       "    <tr>\n",
       "      <th>std</th>\n",
       "      <td>1.104044</td>\n",
       "      <td>2.248112</td>\n",
       "      <td>0.697738</td>\n",
       "      <td>0.84668</td>\n",
       "      <td>0.742697</td>\n",
       "      <td>2.54004</td>\n",
       "      <td>0.925985</td>\n",
       "      <td>0.984081</td>\n",
       "      <td>1.112303</td>\n",
       "      <td>1.397863</td>\n",
       "      <td>0.474804</td>\n",
       "    </tr>\n",
       "    <tr>\n",
       "      <th>min</th>\n",
       "      <td>0.000000</td>\n",
       "      <td>0.000000</td>\n",
       "      <td>1.000000</td>\n",
       "      <td>1.00000</td>\n",
       "      <td>0.000000</td>\n",
       "      <td>-12.00000</td>\n",
       "      <td>-1.000000</td>\n",
       "      <td>1.000000</td>\n",
       "      <td>1.000000</td>\n",
       "      <td>1.000000</td>\n",
       "      <td>1.000000</td>\n",
       "    </tr>\n",
       "    <tr>\n",
       "      <th>25%</th>\n",
       "      <td>2.000000</td>\n",
       "      <td>2.000000</td>\n",
       "      <td>1.000000</td>\n",
       "      <td>1.00000</td>\n",
       "      <td>0.000000</td>\n",
       "      <td>-6.00000</td>\n",
       "      <td>4.000000</td>\n",
       "      <td>3.000000</td>\n",
       "      <td>2.000000</td>\n",
       "      <td>3.000000</td>\n",
       "      <td>1.000000</td>\n",
       "    </tr>\n",
       "    <tr>\n",
       "      <th>50%</th>\n",
       "      <td>3.000000</td>\n",
       "      <td>2.000000</td>\n",
       "      <td>1.000000</td>\n",
       "      <td>2.00000</td>\n",
       "      <td>0.000000</td>\n",
       "      <td>-6.00000</td>\n",
       "      <td>4.000000</td>\n",
       "      <td>3.000000</td>\n",
       "      <td>3.000000</td>\n",
       "      <td>4.000000</td>\n",
       "      <td>1.000000</td>\n",
       "    </tr>\n",
       "    <tr>\n",
       "      <th>75%</th>\n",
       "      <td>4.000000</td>\n",
       "      <td>3.000000</td>\n",
       "      <td>2.000000</td>\n",
       "      <td>2.00000</td>\n",
       "      <td>0.000000</td>\n",
       "      <td>-3.00000</td>\n",
       "      <td>5.000000</td>\n",
       "      <td>4.000000</td>\n",
       "      <td>4.000000</td>\n",
       "      <td>5.000000</td>\n",
       "      <td>2.000000</td>\n",
       "    </tr>\n",
       "    <tr>\n",
       "      <th>max</th>\n",
       "      <td>4.000000</td>\n",
       "      <td>40.000000</td>\n",
       "      <td>4.000000</td>\n",
       "      <td>4.00000</td>\n",
       "      <td>3.000000</td>\n",
       "      <td>-3.00000</td>\n",
       "      <td>5.000000</td>\n",
       "      <td>5.000000</td>\n",
       "      <td>5.000000</td>\n",
       "      <td>5.000000</td>\n",
       "      <td>3.000000</td>\n",
       "    </tr>\n",
       "  </tbody>\n",
       "</table>\n",
       "</div>"
      ],
      "text/plain": [
       "             Medu        Fedu  traveltime  studytime    failures  \\\n",
       "count  385.000000  364.000000  360.000000  381.00000  366.000000   \n",
       "mean     2.750649    2.609890    1.441667    2.03937    0.333333   \n",
       "std      1.104044    2.248112    0.697738    0.84668    0.742697   \n",
       "min      0.000000    0.000000    1.000000    1.00000    0.000000   \n",
       "25%      2.000000    2.000000    1.000000    1.00000    0.000000   \n",
       "50%      3.000000    2.000000    1.000000    2.00000    0.000000   \n",
       "75%      4.000000    3.000000    2.000000    2.00000    0.000000   \n",
       "max      4.000000   40.000000    4.000000    4.00000    3.000000   \n",
       "\n",
       "       studytime, granular      famrel    freetime       goout      health  \\\n",
       "count            381.00000  362.000000  378.000000  380.000000  373.000000   \n",
       "mean              -6.11811    3.936464    3.240741    3.115789    3.530831   \n",
       "std                2.54004    0.925985    0.984081    1.112303    1.397863   \n",
       "min              -12.00000   -1.000000    1.000000    1.000000    1.000000   \n",
       "25%               -6.00000    4.000000    3.000000    2.000000    3.000000   \n",
       "50%               -6.00000    4.000000    3.000000    3.000000    4.000000   \n",
       "75%               -3.00000    5.000000    4.000000    4.000000    5.000000   \n",
       "max               -3.00000    5.000000    5.000000    5.000000    5.000000   \n",
       "\n",
       "          age_kat  \n",
       "count  388.000000  \n",
       "mean     1.286082  \n",
       "std      0.474804  \n",
       "min      1.000000  \n",
       "25%      1.000000  \n",
       "50%      1.000000  \n",
       "75%      2.000000  \n",
       "max      3.000000  "
      ]
     },
     "execution_count": 20,
     "metadata": {},
     "output_type": "execute_result"
    }
   ],
   "source": [
    "stud_math[stud_kat_num].describe()"
   ]
  },
  {
   "cell_type": "markdown",
   "metadata": {},
   "source": [
    "Предварительно по основным статистическим характеристикам видим, что есть пропущенные значения, а также:\n",
    "1. в данных в столбцах Fedu, famrel вероятно есть ошибки в сборе данных, т.к. присутствуют значения, несоответствующие выбранной классификации для этих данных. Для Fedu - это значение 40, для famrel - это значение -1 \n"
   ]
  },
  {
   "cell_type": "markdown",
   "metadata": {},
   "source": [
    "Давайте посмотрим на распределение признаков, наличие выбросов и пропусков в данных"
   ]
  },
  {
   "cell_type": "code",
   "execution_count": 21,
   "metadata": {},
   "outputs": [],
   "source": [
    "def an_pkatcol(col, value=None):\n",
    "    print(f'Признак: \\033[1m\\033[30m{col}')\n",
    "    print(f'mode     {stud_math[col].mode().loc[0]}')\n",
    "    display(stud_math[col].describe())\n",
    "    \n",
    "    # Построим график распределения признака\n",
    "    fig, axes = plt.subplots(ncols=3)\n",
    "    sns.countplot(stud_math[col], ax=axes[0])\n",
    "    axes[0].set_title('График распределения признака')\n",
    "    sns.barplot(x=col, y='score', data=stud_math, ax=axes[1])\n",
    "    axes[1].set_title('Влияние признака на оценку')\n",
    "    sns.boxplot(x=col, y='score', data=stud_math, ax=axes[2])\n",
    "    axes[2].set_title('Влияние признака на оценку')\n",
    "    fig.tight_layout(rect=[-1, 0.03, 1, 0.95])\n",
    "    plt.show()\n",
    "\n",
    "    pct_missing = stud_math[col].isna().mean()  # определение процента выбросов\n",
    "    print(f'Признак {col} имеет {pct_missing :.2%} пропусков')\n",
    "\n",
    "    # Проверка на наличие выбросов \n",
    "    IQR = stud_math[col].quantile(0.75) - stud_math[col].quantile(0.25)\n",
    "    l = stud_math[col].quantile(0.25) - 1.5*IQR\n",
    "    r = stud_math[col].quantile(0.75) + 1.5*IQR\n",
    "    \n",
    "    if stud_math[stud_math[col].between(l, r)].shape[0] > 0 and value == None:\n",
    "        print(f'Признак {col} имеет выбросы:')\n",
    "        display(stud_math[(stud_math[col] < l) | (stud_math[col] > r)])\n",
    "    elif value != None and stud_math[~((stud_math[col].between(\n",
    "            value[0], value[1])) | (pd.isna(stud_math[col])))].shape[0] > 0:\n",
    "        print(f'Признак {col} имеет выбросы:')\n",
    "        display(stud_math[~((stud_math[col].between(\n",
    "            value[0], value[1])) | (pd.isna(stud_math[col])))])\n",
    "    else:\n",
    "        print(f'У признака {col} выбросов нет')\n",
    "        \n",
    "    # Сколько уникальных значений содержится в признаке?\n",
    "    print(f'У признака {stud_math[col].nunique()} уникальных значений:')\n",
    "    print(f'{stud_math[col].unique()}')\n",
    "    \n",
    "    print()\n",
    "    print()"
   ]
  },
  {
   "cell_type": "code",
   "execution_count": 22,
   "metadata": {
    "scrolled": false
   },
   "outputs": [
    {
     "name": "stdout",
     "output_type": "stream",
     "text": [
      "Признак: \u001b[1m\u001b[30mMedu\n",
      "mode     4.0\n"
     ]
    },
    {
     "data": {
      "text/plain": [
       "count    385.000000\n",
       "mean       2.750649\n",
       "std        1.104044\n",
       "min        0.000000\n",
       "25%        2.000000\n",
       "50%        3.000000\n",
       "75%        4.000000\n",
       "max        4.000000\n",
       "Name: Medu, dtype: float64"
      ]
     },
     "metadata": {},
     "output_type": "display_data"
    },
    {
     "data": {
      "image/png": "[encoded data removed]",
      "text/plain": [
       "<Figure size 432x288 with 3 Axes>"
      ]
     },
     "metadata": {},
     "output_type": "display_data"
    },
    {
     "name": "stdout",
     "output_type": "stream",
     "text": [
      "Признак Medu имеет 0.77% пропусков\n",
      "У признака Medu выбросов нет\n",
      "У признака 5 уникальных значений:\n",
      "[ 4.  1.  3.  2. nan  0.]\n",
      "\n",
      "\n",
      "Признак: \u001b[1m\u001b[30mFedu\n",
      "mode     2.0\n"
     ]
    },
    {
     "data": {
      "text/plain": [
       "count    364.000000\n",
       "mean       2.609890\n",
       "std        2.248112\n",
       "min        0.000000\n",
       "25%        2.000000\n",
       "50%        2.000000\n",
       "75%        3.000000\n",
       "max       40.000000\n",
       "Name: Fedu, dtype: float64"
      ]
     },
     "metadata": {},
     "output_type": "display_data"
    },
    {
     "data": {
      "image/png": "[encoded data removed]",
      "text/plain": [
       "<Figure size 432x288 with 3 Axes>"
      ]
     },
     "metadata": {},
     "output_type": "display_data"
    },
    {
     "name": "stdout",
     "output_type": "stream",
     "text": [
      "Признак Fedu имеет 6.19% пропусков\n",
      "Признак Fedu имеет выбросы:\n"
     ]
    },
    {
     "data": {
      "text/html": [
       "<div>\n",
       "<style scoped>\n",
       "    .dataframe tbody tr th:only-of-type {\n",
       "        vertical-align: middle;\n",
       "    }\n",
       "\n",
       "    .dataframe tbody tr th {\n",
       "        vertical-align: top;\n",
       "    }\n",
       "\n",
       "    .dataframe thead th {\n",
       "        text-align: right;\n",
       "    }\n",
       "</style>\n",
       "<table border=\"1\" class=\"dataframe\">\n",
       "  <thead>\n",
       "    <tr style=\"text-align: right;\">\n",
       "      <th></th>\n",
       "      <th>school</th>\n",
       "      <th>sex</th>\n",
       "      <th>age</th>\n",
       "      <th>address</th>\n",
       "      <th>famsize</th>\n",
       "      <th>Pstatus</th>\n",
       "      <th>Medu</th>\n",
       "      <th>Fedu</th>\n",
       "      <th>Mjob</th>\n",
       "      <th>Fjob</th>\n",
       "      <th>reason</th>\n",
       "      <th>guardian</th>\n",
       "      <th>traveltime</th>\n",
       "      <th>studytime</th>\n",
       "      <th>failures</th>\n",
       "      <th>schoolsup</th>\n",
       "      <th>famsup</th>\n",
       "      <th>paid</th>\n",
       "      <th>activities</th>\n",
       "      <th>nursery</th>\n",
       "      <th>studytime, granular</th>\n",
       "      <th>higher</th>\n",
       "      <th>internet</th>\n",
       "      <th>romantic</th>\n",
       "      <th>famrel</th>\n",
       "      <th>freetime</th>\n",
       "      <th>goout</th>\n",
       "      <th>health</th>\n",
       "      <th>absences</th>\n",
       "      <th>score</th>\n",
       "      <th>age_kat</th>\n",
       "    </tr>\n",
       "  </thead>\n",
       "  <tbody>\n",
       "    <tr>\n",
       "      <th>11</th>\n",
       "      <td>GP</td>\n",
       "      <td>F</td>\n",
       "      <td>15</td>\n",
       "      <td>U</td>\n",
       "      <td>GT3</td>\n",
       "      <td>NaN</td>\n",
       "      <td>2.0</td>\n",
       "      <td>40.0</td>\n",
       "      <td>services</td>\n",
       "      <td>other</td>\n",
       "      <td>reputation</td>\n",
       "      <td>father</td>\n",
       "      <td>3.0</td>\n",
       "      <td>3.0</td>\n",
       "      <td>0.0</td>\n",
       "      <td>no</td>\n",
       "      <td>yes</td>\n",
       "      <td>no</td>\n",
       "      <td>yes</td>\n",
       "      <td>yes</td>\n",
       "      <td>-9.0</td>\n",
       "      <td>yes</td>\n",
       "      <td>yes</td>\n",
       "      <td>no</td>\n",
       "      <td>5.0</td>\n",
       "      <td>2.0</td>\n",
       "      <td>2.0</td>\n",
       "      <td>4.0</td>\n",
       "      <td>4.0</td>\n",
       "      <td>60.0</td>\n",
       "      <td>1</td>\n",
       "    </tr>\n",
       "  </tbody>\n",
       "</table>\n",
       "</div>"
      ],
      "text/plain": [
       "   school sex  age address famsize Pstatus  Medu  Fedu      Mjob   Fjob  \\\n",
       "11     GP   F   15       U     GT3     NaN   2.0  40.0  services  other   \n",
       "\n",
       "        reason guardian  traveltime  studytime  failures schoolsup famsup  \\\n",
       "11  reputation   father         3.0        3.0       0.0        no    yes   \n",
       "\n",
       "   paid activities nursery  studytime, granular higher internet romantic  \\\n",
       "11   no        yes     yes                 -9.0    yes      yes       no   \n",
       "\n",
       "    famrel  freetime  goout  health  absences  score  age_kat  \n",
       "11     5.0       2.0    2.0     4.0       4.0   60.0        1  "
      ]
     },
     "metadata": {},
     "output_type": "display_data"
    },
    {
     "name": "stdout",
     "output_type": "stream",
     "text": [
      "У признака 6 уникальных значений:\n",
      "[ 4.  1.  2.  3. 40. nan  0.]\n",
      "\n",
      "\n",
      "Признак: \u001b[1m\u001b[30mtraveltime\n",
      "mode     1.0\n"
     ]
    },
    {
     "data": {
      "text/plain": [
       "count    360.000000\n",
       "mean       1.441667\n",
       "std        0.697738\n",
       "min        1.000000\n",
       "25%        1.000000\n",
       "50%        1.000000\n",
       "75%        2.000000\n",
       "max        4.000000\n",
       "Name: traveltime, dtype: float64"
      ]
     },
     "metadata": {},
     "output_type": "display_data"
    },
    {
     "data": {
      "image/png": "[encoded data removed]",
      "text/plain": [
       "<Figure size 432x288 with 3 Axes>"
      ]
     },
     "metadata": {},
     "output_type": "display_data"
    },
    {
     "name": "stdout",
     "output_type": "stream",
     "text": [
      "Признак traveltime имеет 7.22% пропусков\n",
      "У признака traveltime выбросов нет\n",
      "У признака 4 уникальных значений:\n",
      "[ 2.  1.  3. nan  4.]\n",
      "\n",
      "\n",
      "Признак: \u001b[1m\u001b[30mstudytime\n",
      "mode     2.0\n"
     ]
    },
    {
     "data": {
      "text/plain": [
       "count    381.00000\n",
       "mean       2.03937\n",
       "std        0.84668\n",
       "min        1.00000\n",
       "25%        1.00000\n",
       "50%        2.00000\n",
       "75%        2.00000\n",
       "max        4.00000\n",
       "Name: studytime, dtype: float64"
      ]
     },
     "metadata": {},
     "output_type": "display_data"
    },
    {
     "data": {
      "image/png": "[encoded data removed]",
      "text/plain": [
       "<Figure size 432x288 with 3 Axes>"
      ]
     },
     "metadata": {},
     "output_type": "display_data"
    },
    {
     "name": "stdout",
     "output_type": "stream",
     "text": [
      "Признак studytime имеет 1.80% пропусков\n",
      "У признака studytime выбросов нет\n",
      "У признака 4 уникальных значений:\n",
      "[ 2.  3.  1. nan  4.]\n",
      "\n",
      "\n",
      "Признак: \u001b[1m\u001b[30mfailures\n",
      "mode     0.0\n"
     ]
    },
    {
     "data": {
      "text/plain": [
       "count    366.000000\n",
       "mean       0.333333\n",
       "std        0.742697\n",
       "min        0.000000\n",
       "25%        0.000000\n",
       "50%        0.000000\n",
       "75%        0.000000\n",
       "max        3.000000\n",
       "Name: failures, dtype: float64"
      ]
     },
     "metadata": {},
     "output_type": "display_data"
    },
    {
     "data": {
      "image/png": "[encoded data removed]",
      "text/plain": [
       "<Figure size 432x288 with 3 Axes>"
      ]
     },
     "metadata": {},
     "output_type": "display_data"
    },
    {
     "name": "stdout",
     "output_type": "stream",
     "text": [
      "Признак failures имеет 5.67% пропусков\n",
      "У признака failures выбросов нет\n",
      "У признака 4 уникальных значений:\n",
      "[ 0.  3. nan  2.  1.]\n",
      "\n",
      "\n",
      "Признак: \u001b[1m\u001b[30mstudytime, granular\n",
      "mode     -6.0\n"
     ]
    },
    {
     "data": {
      "text/plain": [
       "count    381.00000\n",
       "mean      -6.11811\n",
       "std        2.54004\n",
       "min      -12.00000\n",
       "25%       -6.00000\n",
       "50%       -6.00000\n",
       "75%       -3.00000\n",
       "max       -3.00000\n",
       "Name: studytime, granular, dtype: float64"
      ]
     },
     "metadata": {},
     "output_type": "display_data"
    },
    {
     "data": {
      "image/png": "[encoded data removed]",
      "text/plain": [
       "<Figure size 432x288 with 3 Axes>"
      ]
     },
     "metadata": {},
     "output_type": "display_data"
    },
    {
     "name": "stdout",
     "output_type": "stream",
     "text": [
      "Признак studytime, granular имеет 1.80% пропусков\n",
      "У признака studytime, granular выбросов нет\n",
      "У признака 4 уникальных значений:\n",
      "[ -6.  -9.  -3.  nan -12.]\n",
      "\n",
      "\n",
      "Признак: \u001b[1m\u001b[30mfamrel\n",
      "mode     4.0\n"
     ]
    },
    {
     "data": {
      "text/plain": [
       "count    362.000000\n",
       "mean       3.936464\n",
       "std        0.925985\n",
       "min       -1.000000\n",
       "25%        4.000000\n",
       "50%        4.000000\n",
       "75%        5.000000\n",
       "max        5.000000\n",
       "Name: famrel, dtype: float64"
      ]
     },
     "metadata": {},
     "output_type": "display_data"
    },
    {
     "data": {
      "image/png": "[encoded data removed]",
      "text/plain": [
       "<Figure size 432x288 with 3 Axes>"
      ]
     },
     "metadata": {},
     "output_type": "display_data"
    },
    {
     "name": "stdout",
     "output_type": "stream",
     "text": [
      "Признак famrel имеет 6.70% пропусков\n",
      "Признак famrel имеет выбросы:\n"
     ]
    },
    {
     "data": {
      "text/html": [
       "<div>\n",
       "<style scoped>\n",
       "    .dataframe tbody tr th:only-of-type {\n",
       "        vertical-align: middle;\n",
       "    }\n",
       "\n",
       "    .dataframe tbody tr th {\n",
       "        vertical-align: top;\n",
       "    }\n",
       "\n",
       "    .dataframe thead th {\n",
       "        text-align: right;\n",
       "    }\n",
       "</style>\n",
       "<table border=\"1\" class=\"dataframe\">\n",
       "  <thead>\n",
       "    <tr style=\"text-align: right;\">\n",
       "      <th></th>\n",
       "      <th>school</th>\n",
       "      <th>sex</th>\n",
       "      <th>age</th>\n",
       "      <th>address</th>\n",
       "      <th>famsize</th>\n",
       "      <th>Pstatus</th>\n",
       "      <th>Medu</th>\n",
       "      <th>Fedu</th>\n",
       "      <th>Mjob</th>\n",
       "      <th>Fjob</th>\n",
       "      <th>reason</th>\n",
       "      <th>guardian</th>\n",
       "      <th>traveltime</th>\n",
       "      <th>studytime</th>\n",
       "      <th>failures</th>\n",
       "      <th>schoolsup</th>\n",
       "      <th>famsup</th>\n",
       "      <th>paid</th>\n",
       "      <th>activities</th>\n",
       "      <th>nursery</th>\n",
       "      <th>studytime, granular</th>\n",
       "      <th>higher</th>\n",
       "      <th>internet</th>\n",
       "      <th>romantic</th>\n",
       "      <th>famrel</th>\n",
       "      <th>freetime</th>\n",
       "      <th>goout</th>\n",
       "      <th>health</th>\n",
       "      <th>absences</th>\n",
       "      <th>score</th>\n",
       "      <th>age_kat</th>\n",
       "    </tr>\n",
       "  </thead>\n",
       "  <tbody>\n",
       "    <tr>\n",
       "      <th>25</th>\n",
       "      <td>GP</td>\n",
       "      <td>F</td>\n",
       "      <td>16</td>\n",
       "      <td>U</td>\n",
       "      <td>GT3</td>\n",
       "      <td>NaN</td>\n",
       "      <td>2.0</td>\n",
       "      <td>2.0</td>\n",
       "      <td>services</td>\n",
       "      <td>services</td>\n",
       "      <td>home</td>\n",
       "      <td>mother</td>\n",
       "      <td>1.0</td>\n",
       "      <td>1.0</td>\n",
       "      <td>2.0</td>\n",
       "      <td>no</td>\n",
       "      <td>yes</td>\n",
       "      <td>yes</td>\n",
       "      <td>no</td>\n",
       "      <td>no</td>\n",
       "      <td>-3.0</td>\n",
       "      <td>yes</td>\n",
       "      <td>yes</td>\n",
       "      <td>no</td>\n",
       "      <td>-1.0</td>\n",
       "      <td>2.0</td>\n",
       "      <td>2.0</td>\n",
       "      <td>5.0</td>\n",
       "      <td>14.0</td>\n",
       "      <td>40.0</td>\n",
       "      <td>1</td>\n",
       "    </tr>\n",
       "  </tbody>\n",
       "</table>\n",
       "</div>"
      ],
      "text/plain": [
       "   school sex  age address famsize Pstatus  Medu  Fedu      Mjob      Fjob  \\\n",
       "25     GP   F   16       U     GT3     NaN   2.0   2.0  services  services   \n",
       "\n",
       "   reason guardian  traveltime  studytime  failures schoolsup famsup paid  \\\n",
       "25   home   mother         1.0        1.0       2.0        no    yes  yes   \n",
       "\n",
       "   activities nursery  studytime, granular higher internet romantic  famrel  \\\n",
       "25         no      no                 -3.0    yes      yes       no    -1.0   \n",
       "\n",
       "    freetime  goout  health  absences  score  age_kat  \n",
       "25       2.0    2.0     5.0      14.0   40.0        1  "
      ]
     },
     "metadata": {},
     "output_type": "display_data"
    },
    {
     "name": "stdout",
     "output_type": "stream",
     "text": [
      "У признака 6 уникальных значений:\n",
      "[ 4.  5.  3. nan -1.  2.  1.]\n",
      "\n",
      "\n",
      "Признак: \u001b[1m\u001b[30mfreetime\n",
      "mode     3.0\n"
     ]
    },
    {
     "data": {
      "text/plain": [
       "count    378.000000\n",
       "mean       3.240741\n",
       "std        0.984081\n",
       "min        1.000000\n",
       "25%        3.000000\n",
       "50%        3.000000\n",
       "75%        4.000000\n",
       "max        5.000000\n",
       "Name: freetime, dtype: float64"
      ]
     },
     "metadata": {},
     "output_type": "display_data"
    },
    {
     "data": {
      "image/png": "[encoded data removed]",
      "text/plain": [
       "<Figure size 432x288 with 3 Axes>"
      ]
     },
     "metadata": {},
     "output_type": "display_data"
    },
    {
     "name": "stdout",
     "output_type": "stream",
     "text": [
      "Признак freetime имеет 2.58% пропусков\n",
      "У признака freetime выбросов нет\n",
      "У признака 5 уникальных значений:\n",
      "[ 3.  2.  4.  1.  5. nan]\n",
      "\n",
      "\n",
      "Признак: \u001b[1m\u001b[30mgoout\n",
      "mode     3.0\n"
     ]
    },
    {
     "data": {
      "text/plain": [
       "count    380.000000\n",
       "mean       3.115789\n",
       "std        1.112303\n",
       "min        1.000000\n",
       "25%        2.000000\n",
       "50%        3.000000\n",
       "75%        4.000000\n",
       "max        5.000000\n",
       "Name: goout, dtype: float64"
      ]
     },
     "metadata": {},
     "output_type": "display_data"
    },
    {
     "data": {
      "image/png": "[encoded data removed]",
      "text/plain": [
       "<Figure size 432x288 with 3 Axes>"
      ]
     },
     "metadata": {},
     "output_type": "display_data"
    },
    {
     "name": "stdout",
     "output_type": "stream",
     "text": [
      "Признак goout имеет 2.06% пропусков\n",
      "У признака goout выбросов нет\n",
      "У признака 5 уникальных значений:\n",
      "[ 4.  3.  2.  1.  5. nan]\n",
      "\n",
      "\n",
      "Признак: \u001b[1m\u001b[30mhealth\n",
      "mode     5.0\n"
     ]
    },
    {
     "data": {
      "text/plain": [
       "count    373.000000\n",
       "mean       3.530831\n",
       "std        1.397863\n",
       "min        1.000000\n",
       "25%        3.000000\n",
       "50%        4.000000\n",
       "75%        5.000000\n",
       "max        5.000000\n",
       "Name: health, dtype: float64"
      ]
     },
     "metadata": {},
     "output_type": "display_data"
    },
    {
     "data": {
      "image/png": "[encoded data removed]",
      "text/plain": [
       "<Figure size 432x288 with 3 Axes>"
      ]
     },
     "metadata": {},
     "output_type": "display_data"
    },
    {
     "name": "stdout",
     "output_type": "stream",
     "text": [
      "Признак health имеет 3.87% пропусков\n",
      "У признака health выбросов нет\n",
      "У признака 5 уникальных значений:\n",
      "[ 3.  5.  1.  2.  4. nan]\n",
      "\n",
      "\n",
      "Признак: \u001b[1m\u001b[30mage_kat\n",
      "mode     1\n"
     ]
    },
    {
     "data": {
      "text/plain": [
       "count    388.000000\n",
       "mean       1.286082\n",
       "std        0.474804\n",
       "min        1.000000\n",
       "25%        1.000000\n",
       "50%        1.000000\n",
       "75%        2.000000\n",
       "max        3.000000\n",
       "Name: age_kat, dtype: float64"
      ]
     },
     "metadata": {},
     "output_type": "display_data"
    },
    {
     "data": {
      "image/png": "[encoded data removed]",
      "text/plain": [
       "<Figure size 432x288 with 3 Axes>"
      ]
     },
     "metadata": {},
     "output_type": "display_data"
    },
    {
     "name": "stdout",
     "output_type": "stream",
     "text": [
      "Признак age_kat имеет 0.00% пропусков\n",
      "У признака age_kat выбросов нет\n",
      "У признака 3 уникальных значений:\n",
      "[2 1 3]\n",
      "\n",
      "\n"
     ]
    }
   ],
   "source": [
    "an_pkatcol('Medu', value=(0, 4))\n",
    "an_pkatcol('Fedu', value=(0, 4))\n",
    "an_pkatcol('traveltime', value=(0, 4))\n",
    "an_pkatcol('studytime', value=(0, 4))\n",
    "an_pkatcol('failures', value=(0, 3))\n",
    "an_pkatcol('studytime, granular', value=(-12, -3))\n",
    "an_pkatcol('famrel', value=(1, 5))\n",
    "an_pkatcol('freetime', value=(1, 5))\n",
    "an_pkatcol('goout', value=(1, 5))\n",
    "an_pkatcol('health', value=(1, 5))\n",
    "an_pkatcol('age_kat', value=(1,3))"
   ]
  },
  {
   "cell_type": "markdown",
   "metadata": {},
   "source": [
    "По графикам что все признаки в той или иной степени оказывают влияние на оценку по математике, при этом обнаружены любопытные вещи:\n",
    "- отсутствие образования у матери и отца приводит к высоким оценкам у учеников, при этом повышение роста образования родителей плавно отражается на росте оценок. Распределение этих признаков в образовании родителей одинаковы, поэтому можно их объединить в один\n",
    "- если предположить, что под цифрой 0 в признаке количества внеучебных неудач закодировано отсутствие этих неудач или наоборот их очень большое количество (все силы брошены на изучение математики), то это приводит только к высоким оценкам по математике\n",
    "- интересно, что чем хуже здоровье ученика, тем выше у него оценка. Все остальные состояния здоровья примерно одинаково влияют на оценку. Поэтому можем эти данные разбить на 2 диапозона: плохое здоровье, нормальное здоровье.\n",
    "- ученики младших возрастных категорий имеют в целом средние оценки, становясь старше успеваемость падает (наверное другим интересуются) и уже в самой старшей категории оценка увеличивается по сравнению с другими возрастными группами (наверное берутся за ум или сильно долго учились и наконец-то выучились)"
   ]
  },
  {
   "cell_type": "markdown",
   "metadata": {},
   "source": [
    "В целом данные достаточно чистые, т.к. процент пропуска в значениях не превышает 7.22%, замечены небольшие выбросы в столбцах age, Fedu, famrel. Давайте рассмотрим подробнее эти данные."
   ]
  },
  {
   "cell_type": "markdown",
   "metadata": {},
   "source": [
    "### Fedu"
   ]
  },
  {
   "cell_type": "markdown",
   "metadata": {},
   "source": [
    "У данного признака есть 24 пропущенных значения и один выброс, который не соответствует выбранной для него классификации значений в диапозоне от 0 до 4. Можем предположить, что этот выброс вызван ошибкой при вводе данных. Этот выброс можем удалить или преобразовать его в значение 4, преобразуем в значение 4."
   ]
  },
  {
   "cell_type": "code",
   "execution_count": 23,
   "metadata": {},
   "outputs": [],
   "source": [
    "stud_math['Fedu'][11] = 4"
   ]
  },
  {
   "cell_type": "markdown",
   "metadata": {},
   "source": [
    "### famrel"
   ]
  },
  {
   "cell_type": "markdown",
   "metadata": {},
   "source": [
    "У признака есть один выброс и пропуски. Выброс не соотвествует условиям проекта по своему значению, поэтому удалим его. "
   ]
  },
  {
   "cell_type": "code",
   "execution_count": 24,
   "metadata": {},
   "outputs": [],
   "source": [
    "stud_math = stud_math.loc[stud_math['famrel'].between(\n",
    "    1, 5) | pd.isna(stud_math['famrel'])]"
   ]
  },
  {
   "cell_type": "markdown",
   "metadata": {},
   "source": [
    "***- по номинальным категориальным переменным:***"
   ]
  },
  {
   "cell_type": "code",
   "execution_count": 25,
   "metadata": {
    "scrolled": true
   },
   "outputs": [
    {
     "data": {
      "text/html": [
       "<div>\n",
       "<style scoped>\n",
       "    .dataframe tbody tr th:only-of-type {\n",
       "        vertical-align: middle;\n",
       "    }\n",
       "\n",
       "    .dataframe tbody tr th {\n",
       "        vertical-align: top;\n",
       "    }\n",
       "\n",
       "    .dataframe thead th {\n",
       "        text-align: right;\n",
       "    }\n",
       "</style>\n",
       "<table border=\"1\" class=\"dataframe\">\n",
       "  <thead>\n",
       "    <tr style=\"text-align: right;\">\n",
       "      <th></th>\n",
       "      <th>school</th>\n",
       "      <th>sex</th>\n",
       "      <th>address</th>\n",
       "      <th>famsize</th>\n",
       "      <th>Pstatus</th>\n",
       "      <th>Mjob</th>\n",
       "      <th>Fjob</th>\n",
       "      <th>reason</th>\n",
       "      <th>guardian</th>\n",
       "      <th>schoolsup</th>\n",
       "      <th>famsup</th>\n",
       "      <th>paid</th>\n",
       "      <th>activities</th>\n",
       "      <th>nursery</th>\n",
       "      <th>higher</th>\n",
       "      <th>internet</th>\n",
       "      <th>romantic</th>\n",
       "    </tr>\n",
       "  </thead>\n",
       "  <tbody>\n",
       "    <tr>\n",
       "      <th>count</th>\n",
       "      <td>387</td>\n",
       "      <td>387</td>\n",
       "      <td>370</td>\n",
       "      <td>360</td>\n",
       "      <td>345</td>\n",
       "      <td>368</td>\n",
       "      <td>351</td>\n",
       "      <td>370</td>\n",
       "      <td>357</td>\n",
       "      <td>378</td>\n",
       "      <td>350</td>\n",
       "      <td>347</td>\n",
       "      <td>373</td>\n",
       "      <td>371</td>\n",
       "      <td>367</td>\n",
       "      <td>353</td>\n",
       "      <td>356</td>\n",
       "    </tr>\n",
       "    <tr>\n",
       "      <th>unique</th>\n",
       "      <td>2</td>\n",
       "      <td>2</td>\n",
       "      <td>2</td>\n",
       "      <td>2</td>\n",
       "      <td>2</td>\n",
       "      <td>5</td>\n",
       "      <td>5</td>\n",
       "      <td>4</td>\n",
       "      <td>3</td>\n",
       "      <td>2</td>\n",
       "      <td>2</td>\n",
       "      <td>2</td>\n",
       "      <td>2</td>\n",
       "      <td>2</td>\n",
       "      <td>2</td>\n",
       "      <td>2</td>\n",
       "      <td>2</td>\n",
       "    </tr>\n",
       "    <tr>\n",
       "      <th>top</th>\n",
       "      <td>GP</td>\n",
       "      <td>F</td>\n",
       "      <td>U</td>\n",
       "      <td>GT3</td>\n",
       "      <td>T</td>\n",
       "      <td>other</td>\n",
       "      <td>other</td>\n",
       "      <td>course</td>\n",
       "      <td>mother</td>\n",
       "      <td>no</td>\n",
       "      <td>yes</td>\n",
       "      <td>no</td>\n",
       "      <td>yes</td>\n",
       "      <td>yes</td>\n",
       "      <td>yes</td>\n",
       "      <td>yes</td>\n",
       "      <td>no</td>\n",
       "    </tr>\n",
       "    <tr>\n",
       "      <th>freq</th>\n",
       "      <td>342</td>\n",
       "      <td>202</td>\n",
       "      <td>289</td>\n",
       "      <td>255</td>\n",
       "      <td>311</td>\n",
       "      <td>129</td>\n",
       "      <td>195</td>\n",
       "      <td>136</td>\n",
       "      <td>245</td>\n",
       "      <td>329</td>\n",
       "      <td>214</td>\n",
       "      <td>196</td>\n",
       "      <td>193</td>\n",
       "      <td>294</td>\n",
       "      <td>349</td>\n",
       "      <td>298</td>\n",
       "      <td>236</td>\n",
       "    </tr>\n",
       "  </tbody>\n",
       "</table>\n",
       "</div>"
      ],
      "text/plain": [
       "       school  sex address famsize Pstatus   Mjob   Fjob  reason guardian  \\\n",
       "count     387  387     370     360     345    368    351     370      357   \n",
       "unique      2    2       2       2       2      5      5       4        3   \n",
       "top        GP    F       U     GT3       T  other  other  course   mother   \n",
       "freq      342  202     289     255     311    129    195     136      245   \n",
       "\n",
       "       schoolsup famsup paid activities nursery higher internet romantic  \n",
       "count        378    350  347        373     371    367      353      356  \n",
       "unique         2      2    2          2       2      2        2        2  \n",
       "top           no    yes   no        yes     yes    yes      yes       no  \n",
       "freq         329    214  196        193     294    349      298      236  "
      ]
     },
     "execution_count": 25,
     "metadata": {},
     "output_type": "execute_result"
    }
   ],
   "source": [
    "stud_math.describe(include=['object'])"
   ]
  },
  {
   "cell_type": "markdown",
   "metadata": {},
   "source": [
    "Предварительно по основным характеристикам видим, что в нашем датасете преимущественно больше учеников:\n",
    "- женского пола\n",
    "- проживающих в городе\n",
    "- в семьях, в которых членов семьи больше 3-х и опекуном является мать\n",
    "- у которых оба родителя работают в сферах, отличных от отдельно выделенных в данном датасете\n",
    "- причиной выбора школы является образовательная программа в этой школе\n",
    "- не имеющих дополнительной образовательной поддержки и платных занятий по математике, и не находящихся в романтических отношениях\n",
    "- но имеющие семейную образовательную поддержку, дополнительные внеучебные занятия, желание получить высшее образование и наличие интернета дома"
   ]
  },
  {
   "cell_type": "markdown",
   "metadata": {},
   "source": [
    "Давайте посмотрим на распределение признаков, наличие выбросов и пропусков в данных"
   ]
  },
  {
   "cell_type": "code",
   "execution_count": 26,
   "metadata": {},
   "outputs": [],
   "source": [
    "def an_nkatcol(col, value=None):\n",
    "    print(f'Признак: \\033[1m\\033[30m{col}')\n",
    "    print()\n",
    "    print(f'mode     {stud_math[col].mode().loc[0]}')\n",
    "    display(stud_math[col].describe())\n",
    "    \n",
    "    # Построим график распределения признака\n",
    "    fig, axes = plt.subplots(ncols=3)\n",
    "    sns.countplot(stud_math[col], ax=axes[0])\n",
    "    axes[0].set_title('График распределения признака')\n",
    "    sns.barplot(x=col, y='score', data=stud_math, ax=axes[1])\n",
    "    axes[1].set_title('Влияние признака на оценку')\n",
    "    sns.boxplot(x=col, y='score', data=stud_math, ax=axes[2])\n",
    "    axes[2].set_title('Влияние признака на оценку')\n",
    "    fig.tight_layout(rect=[-1, 0.03, 1, 0.95])\n",
    "    plt.show()\n",
    "\n",
    "    pct_missing = stud_math[col].isna().mean()  # определение процента выбросов\n",
    "    print(f'Признак {col} имеет {pct_missing :.2%} пропусков')\n",
    "\n",
    "    # Сколько уникальных значений содержится в признаке?\n",
    "    print(f'У признака {stud_math[col].nunique()} уникальных значений:')\n",
    "    print(f'{stud_math[col].unique()}')\n",
    "    print()\n",
    "    print()"
   ]
  },
  {
   "cell_type": "code",
   "execution_count": 27,
   "metadata": {
    "scrolled": false
   },
   "outputs": [
    {
     "name": "stdout",
     "output_type": "stream",
     "text": [
      "Признак: \u001b[1m\u001b[30mschool\n",
      "\n",
      "mode     GP\n"
     ]
    },
    {
     "data": {
      "text/plain": [
       "count     387\n",
       "unique      2\n",
       "top        GP\n",
       "freq      342\n",
       "Name: school, dtype: object"
      ]
     },
     "metadata": {},
     "output_type": "display_data"
    },
    {
     "data": {
      "image/png": "[encoded data removed]",
      "text/plain": [
       "<Figure size 432x288 with 3 Axes>"
      ]
     },
     "metadata": {},
     "output_type": "display_data"
    },
    {
     "name": "stdout",
     "output_type": "stream",
     "text": [
      "Признак school имеет 0.00% пропусков\n",
      "У признака 2 уникальных значений:\n",
      "['GP' 'MS']\n",
      "\n",
      "\n",
      "Признак: \u001b[1m\u001b[30msex\n",
      "\n",
      "mode     F\n"
     ]
    },
    {
     "data": {
      "text/plain": [
       "count     387\n",
       "unique      2\n",
       "top         F\n",
       "freq      202\n",
       "Name: sex, dtype: object"
      ]
     },
     "metadata": {},
     "output_type": "display_data"
    },
    {
     "data": {
      "image/png": "[encoded data removed]",
      "text/plain": [
       "<Figure size 432x288 with 3 Axes>"
      ]
     },
     "metadata": {},
     "output_type": "display_data"
    },
    {
     "name": "stdout",
     "output_type": "stream",
     "text": [
      "Признак sex имеет 0.00% пропусков\n",
      "У признака 2 уникальных значений:\n",
      "['F' 'M']\n",
      "\n",
      "\n",
      "Признак: \u001b[1m\u001b[30maddress\n",
      "\n",
      "mode     U\n"
     ]
    },
    {
     "data": {
      "text/plain": [
       "count     370\n",
       "unique      2\n",
       "top         U\n",
       "freq      289\n",
       "Name: address, dtype: object"
      ]
     },
     "metadata": {},
     "output_type": "display_data"
    },
    {
     "data": {
      "image/png": "[encoded data removed]",
      "text/plain": [
       "<Figure size 432x288 with 3 Axes>"
      ]
     },
     "metadata": {},
     "output_type": "display_data"
    },
    {
     "name": "stdout",
     "output_type": "stream",
     "text": [
      "Признак address имеет 4.39% пропусков\n",
      "У признака 2 уникальных значений:\n",
      "['U' nan 'R']\n",
      "\n",
      "\n",
      "Признак: \u001b[1m\u001b[30mfamsize\n",
      "\n",
      "mode     GT3\n"
     ]
    },
    {
     "data": {
      "text/plain": [
       "count     360\n",
       "unique      2\n",
       "top       GT3\n",
       "freq      255\n",
       "Name: famsize, dtype: object"
      ]
     },
     "metadata": {},
     "output_type": "display_data"
    },
    {
     "data": {
      "image/png": "[encoded data removed]",
      "text/plain": [
       "<Figure size 432x288 with 3 Axes>"
      ]
     },
     "metadata": {},
     "output_type": "display_data"
    },
    {
     "name": "stdout",
     "output_type": "stream",
     "text": [
      "Признак famsize имеет 6.98% пропусков\n",
      "У признака 2 уникальных значений:\n",
      "[nan 'GT3' 'LE3']\n",
      "\n",
      "\n",
      "Признак: \u001b[1m\u001b[30mPstatus\n",
      "\n",
      "mode     T\n"
     ]
    },
    {
     "data": {
      "text/plain": [
       "count     345\n",
       "unique      2\n",
       "top         T\n",
       "freq      311\n",
       "Name: Pstatus, dtype: object"
      ]
     },
     "metadata": {},
     "output_type": "display_data"
    },
    {
     "data": {
      "image/png": "[encoded data removed]",
      "text/plain": [
       "<Figure size 432x288 with 3 Axes>"
      ]
     },
     "metadata": {},
     "output_type": "display_data"
    },
    {
     "name": "stdout",
     "output_type": "stream",
     "text": [
      "Признак Pstatus имеет 10.85% пропусков\n",
      "У признака 2 уникальных значений:\n",
      "['A' nan 'T']\n",
      "\n",
      "\n",
      "Признак: \u001b[1m\u001b[30mMjob\n",
      "\n",
      "mode     other\n"
     ]
    },
    {
     "data": {
      "text/plain": [
       "count       368\n",
       "unique        5\n",
       "top       other\n",
       "freq        129\n",
       "Name: Mjob, dtype: object"
      ]
     },
     "metadata": {},
     "output_type": "display_data"
    },
    {
     "data": {
      "image/png": "[encoded data removed]",
      "text/plain": [
       "<Figure size 432x288 with 3 Axes>"
      ]
     },
     "metadata": {},
     "output_type": "display_data"
    },
    {
     "name": "stdout",
     "output_type": "stream",
     "text": [
      "Признак Mjob имеет 4.91% пропусков\n",
      "У признака 5 уникальных значений:\n",
      "['at_home' 'health' 'other' 'services' 'teacher' nan]\n",
      "\n",
      "\n",
      "Признак: \u001b[1m\u001b[30mFjob\n",
      "\n",
      "mode     other\n"
     ]
    },
    {
     "data": {
      "text/plain": [
       "count       351\n",
       "unique        5\n",
       "top       other\n",
       "freq        195\n",
       "Name: Fjob, dtype: object"
      ]
     },
     "metadata": {},
     "output_type": "display_data"
    },
    {
     "data": {
      "image/png": "[encoded data removed]",
      "text/plain": [
       "<Figure size 432x288 with 3 Axes>"
      ]
     },
     "metadata": {},
     "output_type": "display_data"
    },
    {
     "name": "stdout",
     "output_type": "stream",
     "text": [
      "Признак Fjob имеет 9.30% пропусков\n",
      "У признака 5 уникальных значений:\n",
      "['teacher' 'other' nan 'health' 'services' 'at_home']\n",
      "\n",
      "\n",
      "Признак: \u001b[1m\u001b[30mreason\n",
      "\n",
      "mode     course\n"
     ]
    },
    {
     "data": {
      "text/plain": [
       "count        370\n",
       "unique         4\n",
       "top       course\n",
       "freq         136\n",
       "Name: reason, dtype: object"
      ]
     },
     "metadata": {},
     "output_type": "display_data"
    },
    {
     "data": {
      "image/png": "[encoded data removed]",
      "text/plain": [
       "<Figure size 432x288 with 3 Axes>"
      ]
     },
     "metadata": {},
     "output_type": "display_data"
    },
    {
     "name": "stdout",
     "output_type": "stream",
     "text": [
      "Признак reason имеет 4.39% пропусков\n",
      "У признака 4 уникальных значений:\n",
      "['course' 'other' 'home' 'reputation' nan]\n",
      "\n",
      "\n",
      "Признак: \u001b[1m\u001b[30mguardian\n",
      "\n",
      "mode     mother\n"
     ]
    },
    {
     "data": {
      "text/plain": [
       "count        357\n",
       "unique         3\n",
       "top       mother\n",
       "freq         245\n",
       "Name: guardian, dtype: object"
      ]
     },
     "metadata": {},
     "output_type": "display_data"
    },
    {
     "data": {
      "image/png": "[encoded data removed]",
      "text/plain": [
       "<Figure size 432x288 with 3 Axes>"
      ]
     },
     "metadata": {},
     "output_type": "display_data"
    },
    {
     "name": "stdout",
     "output_type": "stream",
     "text": [
      "Признак guardian имеет 7.75% пропусков\n",
      "У признака 3 уникальных значений:\n",
      "['mother' 'father' 'other' nan]\n",
      "\n",
      "\n",
      "Признак: \u001b[1m\u001b[30mschoolsup\n",
      "\n",
      "mode     no\n"
     ]
    },
    {
     "data": {
      "text/plain": [
       "count     378\n",
       "unique      2\n",
       "top        no\n",
       "freq      329\n",
       "Name: schoolsup, dtype: object"
      ]
     },
     "metadata": {},
     "output_type": "display_data"
    },
    {
     "data": {
      "image/png": "[encoded data removed]",
      "text/plain": [
       "<Figure size 432x288 with 3 Axes>"
      ]
     },
     "metadata": {},
     "output_type": "display_data"
    },
    {
     "name": "stdout",
     "output_type": "stream",
     "text": [
      "Признак schoolsup имеет 2.33% пропусков\n",
      "У признака 2 уникальных значений:\n",
      "['yes' 'no' nan]\n",
      "\n",
      "\n",
      "Признак: \u001b[1m\u001b[30mfamsup\n",
      "\n",
      "mode     yes\n"
     ]
    },
    {
     "data": {
      "text/plain": [
       "count     350\n",
       "unique      2\n",
       "top       yes\n",
       "freq      214\n",
       "Name: famsup, dtype: object"
      ]
     },
     "metadata": {},
     "output_type": "display_data"
    },
    {
     "data": {
      "image/png": "[encoded data removed]",
      "text/plain": [
       "<Figure size 432x288 with 3 Axes>"
      ]
     },
     "metadata": {},
     "output_type": "display_data"
    },
    {
     "name": "stdout",
     "output_type": "stream",
     "text": [
      "Признак famsup имеет 9.56% пропусков\n",
      "У признака 2 уникальных значений:\n",
      "['no' 'yes' nan]\n",
      "\n",
      "\n",
      "Признак: \u001b[1m\u001b[30mpaid\n",
      "\n",
      "mode     no\n"
     ]
    },
    {
     "data": {
      "text/plain": [
       "count     347\n",
       "unique      2\n",
       "top        no\n",
       "freq      196\n",
       "Name: paid, dtype: object"
      ]
     },
     "metadata": {},
     "output_type": "display_data"
    },
    {
     "data": {
      "image/png": "[encoded data removed]",
      "text/plain": [
       "<Figure size 432x288 with 3 Axes>"
      ]
     },
     "metadata": {},
     "output_type": "display_data"
    },
    {
     "name": "stdout",
     "output_type": "stream",
     "text": [
      "Признак paid имеет 10.34% пропусков\n",
      "У признака 2 уникальных значений:\n",
      "['no' nan 'yes']\n",
      "\n",
      "\n",
      "Признак: \u001b[1m\u001b[30mactivities\n",
      "\n",
      "mode     yes\n"
     ]
    },
    {
     "data": {
      "text/plain": [
       "count     373\n",
       "unique      2\n",
       "top       yes\n",
       "freq      193\n",
       "Name: activities, dtype: object"
      ]
     },
     "metadata": {},
     "output_type": "display_data"
    },
    {
     "data": {
      "image/png": "[encoded data removed]",
      "text/plain": [
       "<Figure size 432x288 with 3 Axes>"
      ]
     },
     "metadata": {},
     "output_type": "display_data"
    },
    {
     "name": "stdout",
     "output_type": "stream",
     "text": [
      "Признак activities имеет 3.62% пропусков\n",
      "У признака 2 уникальных значений:\n",
      "['no' 'yes' nan]\n",
      "\n",
      "\n",
      "Признак: \u001b[1m\u001b[30mnursery\n",
      "\n",
      "mode     yes\n"
     ]
    },
    {
     "data": {
      "text/plain": [
       "count     371\n",
       "unique      2\n",
       "top       yes\n",
       "freq      294\n",
       "Name: nursery, dtype: object"
      ]
     },
     "metadata": {},
     "output_type": "display_data"
    },
    {
     "data": {
      "image/png": "[encoded data removed]",
      "text/plain": [
       "<Figure size 432x288 with 3 Axes>"
      ]
     },
     "metadata": {},
     "output_type": "display_data"
    },
    {
     "name": "stdout",
     "output_type": "stream",
     "text": [
      "Признак nursery имеет 4.13% пропусков\n",
      "У признака 2 уникальных значений:\n",
      "['yes' 'no' nan]\n",
      "\n",
      "\n",
      "Признак: \u001b[1m\u001b[30mhigher\n",
      "\n",
      "mode     yes\n"
     ]
    },
    {
     "data": {
      "text/plain": [
       "count     367\n",
       "unique      2\n",
       "top       yes\n",
       "freq      349\n",
       "Name: higher, dtype: object"
      ]
     },
     "metadata": {},
     "output_type": "display_data"
    },
    {
     "data": {
      "image/png": "[encoded data removed]",
      "text/plain": [
       "<Figure size 432x288 with 3 Axes>"
      ]
     },
     "metadata": {},
     "output_type": "display_data"
    },
    {
     "name": "stdout",
     "output_type": "stream",
     "text": [
      "Признак higher имеет 5.17% пропусков\n",
      "У признака 2 уникальных значений:\n",
      "['yes' nan 'no']\n",
      "\n",
      "\n",
      "Признак: \u001b[1m\u001b[30minternet\n",
      "\n",
      "mode     yes\n"
     ]
    },
    {
     "data": {
      "text/plain": [
       "count     353\n",
       "unique      2\n",
       "top       yes\n",
       "freq      298\n",
       "Name: internet, dtype: object"
      ]
     },
     "metadata": {},
     "output_type": "display_data"
    },
    {
     "data": {
      "image/png": "[encoded data removed]",
      "text/plain": [
       "<Figure size 432x288 with 3 Axes>"
      ]
     },
     "metadata": {},
     "output_type": "display_data"
    },
    {
     "name": "stdout",
     "output_type": "stream",
     "text": [
      "Признак internet имеет 8.79% пропусков\n",
      "У признака 2 уникальных значений:\n",
      "[nan 'yes' 'no']\n",
      "\n",
      "\n",
      "Признак: \u001b[1m\u001b[30mromantic\n",
      "\n",
      "mode     no\n"
     ]
    },
    {
     "data": {
      "text/plain": [
       "count     356\n",
       "unique      2\n",
       "top        no\n",
       "freq      236\n",
       "Name: romantic, dtype: object"
      ]
     },
     "metadata": {},
     "output_type": "display_data"
    },
    {
     "data": {
      "image/png": "[encoded data removed]",
      "text/plain": [
       "<Figure size 432x288 with 3 Axes>"
      ]
     },
     "metadata": {},
     "output_type": "display_data"
    },
    {
     "name": "stdout",
     "output_type": "stream",
     "text": [
      "Признак romantic имеет 8.01% пропусков\n",
      "У признака 2 уникальных значений:\n",
      "['no' nan 'yes']\n",
      "\n",
      "\n"
     ]
    }
   ],
   "source": [
    "an_nkatcol('school')\n",
    "an_nkatcol('sex')\n",
    "an_nkatcol('address')\n",
    "an_nkatcol('famsize')\n",
    "an_nkatcol('Pstatus')\n",
    "an_nkatcol('Mjob')\n",
    "an_nkatcol('Fjob')\n",
    "an_nkatcol('reason')\n",
    "an_nkatcol('guardian')\n",
    "an_nkatcol('schoolsup')\n",
    "an_nkatcol('famsup')\n",
    "an_nkatcol('paid')\n",
    "an_nkatcol('activities')\n",
    "an_nkatcol('nursery')\n",
    "an_nkatcol('higher')\n",
    "an_nkatcol('internet')\n",
    "an_nkatcol('romantic')"
   ]
  },
  {
   "cell_type": "markdown",
   "metadata": {},
   "source": [
    "Только 2 категорийных признака не имеют пропусков. Это: school и sex. У остальных процент пропусков колеблется от 2.33% до 10.85%. Высокий уровень пропусков имеют признаки Pstatus 10.85%, Fjob 9,3%, famsup 9.56%, paid 10.34% и internet 8.79%.   \n",
    "По признаку Fjob работа отца видно, что все виды работ отца существенно не влияют на оценку ученика по математике, за исключением случаев, когда отец работает учителем.    \n",
    "По графикам видно, что все признаки так или иначе влияют на оценку по математике, кроме признака famsup семейной образовательной поддержки (это странно)."
   ]
  },
  {
   "cell_type": "markdown",
   "metadata": {},
   "source": [
    "### 3. Анализ номинативных переменных"
   ]
  },
  {
   "cell_type": "markdown",
   "metadata": {},
   "source": [
    "С помощью теста Стьюдента проверим есть ли статистическая разница в распределении оценок по категориальным признакам, проверив нулевую гипотезу о том, что распределение оценок по госэкзамену по различным параметрам неразличимы"
   ]
  },
  {
   "cell_type": "code",
   "execution_count": 28,
   "metadata": {},
   "outputs": [],
   "source": [
    "# посчитаем статистику\n",
    "def get_nomvar(column):\n",
    "    cols = stud_math.loc[:, col].dropna().unique()\n",
    "    combinations_all = list(combinations(cols, 2))\n",
    "    for comb in combinations_all:\n",
    "        if ttest_ind(stud_math.loc[stud_math.loc[:, column] == comb[0], 'score'].dropna(),\n",
    "                     stud_math.loc[stud_math.loc[:, column] == comb[1], 'score'].dropna()).pvalue \\\n",
    "                <= 0.05/len(combinations_all):  # Учли поправку Бонферони\n",
    "            print('Найдены статистически значимые различия для колонки', column)\n",
    "            break"
   ]
  },
  {
   "cell_type": "markdown",
   "metadata": {},
   "source": [
    "Посчитаем статистику для порядковых категориальных признаков:"
   ]
  },
  {
   "cell_type": "code",
   "execution_count": 29,
   "metadata": {},
   "outputs": [
    {
     "name": "stdout",
     "output_type": "stream",
     "text": [
      "Найдены статистически значимые различия для колонки Medu\n",
      "Найдены статистически значимые различия для колонки failures\n",
      "Найдены статистически значимые различия для колонки goout\n",
      "Найдены статистически значимые различия для колонки age_kat\n"
     ]
    }
   ],
   "source": [
    "for col in stud_kat_num:\n",
    "    get_nomvar(col)"
   ]
  },
  {
   "cell_type": "markdown",
   "metadata": {},
   "source": [
    "Посчитаем статистику для номинальных категориальных признаков:"
   ]
  },
  {
   "cell_type": "code",
   "execution_count": 30,
   "metadata": {
    "scrolled": false
   },
   "outputs": [
    {
     "name": "stdout",
     "output_type": "stream",
     "text": [
      "Найдены статистически значимые различия для колонки sex\n",
      "Найдены статистически значимые различия для колонки address\n",
      "Найдены статистически значимые различия для колонки Mjob\n",
      "Найдены статистически значимые различия для колонки schoolsup\n",
      "Найдены статистически значимые различия для колонки paid\n",
      "Найдены статистически значимые различия для колонки higher\n",
      "Найдены статистически значимые различия для колонки romantic\n"
     ]
    }
   ],
   "source": [
    "for col in non_numeric_col:\n",
    "    get_nomvar(col)"
   ]
  },
  {
   "cell_type": "markdown",
   "metadata": {},
   "source": [
    "Итак серьезно различаются 7 номинативных признаков с процентом пропусков в значениях: sex 0.0%, address 4.39%, Mjob 4.91%, shoolsup 2.33%, paid 10.34%, higher 5.17%, romantic 8.01%. Но выше из графиков видно, что и другие признаки оказывают влияние, кроме признака famsup, поэтому этот признак удалим. Признаки school, famsize, activites, nursery не оказывают сильного влияния на оценку, поэтому их тоже удалим, а остальные признаки оставим для модели. Интересно как на оценку по математике влияют романтические отношения?"
   ]
  },
  {
   "cell_type": "code",
   "execution_count": 31,
   "metadata": {},
   "outputs": [],
   "source": [
    "stud_math.drop(['famsup', 'school', 'famsize', 'activities', 'nursery'], axis=1, inplace=True)"
   ]
  },
  {
   "cell_type": "markdown",
   "metadata": {},
   "source": [
    "### 4. Корреляционный анализ"
   ]
  },
  {
   "cell_type": "markdown",
   "metadata": {},
   "source": [
    "Выясним какие столбцы коррелируют с оценкой на госэкзамене по математике. Это поможет понять какие признаки стоит оставить для модели, а какие нужно будет исключить из анализа"
   ]
  },
  {
   "cell_type": "markdown",
   "metadata": {},
   "source": [
    "***- по количественным переменным:***"
   ]
  },
  {
   "cell_type": "code",
   "execution_count": 32,
   "metadata": {},
   "outputs": [
    {
     "data": {
      "text/plain": [
       "<seaborn.axisgrid.PairGrid at 0xc1d49d0>"
      ]
     },
     "execution_count": 32,
     "metadata": {},
     "output_type": "execute_result"
    },
    {
     "data": {
      "image/png": "[encoded data removed]",
      "text/plain": [
       "<Figure size 540x540 with 12 Axes>"
      ]
     },
     "metadata": {},
     "output_type": "display_data"
    }
   ],
   "source": [
    "sns.pairplot(stud_math[stud_num], kind='reg')"
   ]
  },
  {
   "cell_type": "code",
   "execution_count": 33,
   "metadata": {},
   "outputs": [
    {
     "data": {
      "text/html": [
       "<div>\n",
       "<style scoped>\n",
       "    .dataframe tbody tr th:only-of-type {\n",
       "        vertical-align: middle;\n",
       "    }\n",
       "\n",
       "    .dataframe tbody tr th {\n",
       "        vertical-align: top;\n",
       "    }\n",
       "\n",
       "    .dataframe thead th {\n",
       "        text-align: right;\n",
       "    }\n",
       "</style>\n",
       "<table border=\"1\" class=\"dataframe\">\n",
       "  <thead>\n",
       "    <tr style=\"text-align: right;\">\n",
       "      <th></th>\n",
       "      <th>age</th>\n",
       "      <th>absences</th>\n",
       "      <th>score</th>\n",
       "    </tr>\n",
       "  </thead>\n",
       "  <tbody>\n",
       "    <tr>\n",
       "      <th>age</th>\n",
       "      <td>1.000000</td>\n",
       "      <td>0.153600</td>\n",
       "      <td>-0.152729</td>\n",
       "    </tr>\n",
       "    <tr>\n",
       "      <th>absences</th>\n",
       "      <td>0.153600</td>\n",
       "      <td>1.000000</td>\n",
       "      <td>0.071273</td>\n",
       "    </tr>\n",
       "    <tr>\n",
       "      <th>score</th>\n",
       "      <td>-0.152729</td>\n",
       "      <td>0.071273</td>\n",
       "      <td>1.000000</td>\n",
       "    </tr>\n",
       "  </tbody>\n",
       "</table>\n",
       "</div>"
      ],
      "text/plain": [
       "               age  absences     score\n",
       "age       1.000000  0.153600 -0.152729\n",
       "absences  0.153600  1.000000  0.071273\n",
       "score    -0.152729  0.071273  1.000000"
      ]
     },
     "execution_count": 33,
     "metadata": {},
     "output_type": "execute_result"
    }
   ],
   "source": [
    "correlation = stud_math[stud_num].corr()\n",
    "correlation"
   ]
  },
  {
   "cell_type": "code",
   "execution_count": 34,
   "metadata": {},
   "outputs": [
    {
     "data": {
      "text/plain": [
       "<AxesSubplot:>"
      ]
     },
     "execution_count": 34,
     "metadata": {},
     "output_type": "execute_result"
    },
    {
     "data": {
      "image/png": "[encoded data removed]",
      "text/plain": [
       "<Figure size 432x288 with 2 Axes>"
      ]
     },
     "metadata": {},
     "output_type": "display_data"
    }
   ],
   "source": [
    "sns.heatmap(correlation, annot = True)"
   ]
  },
  {
   "cell_type": "markdown",
   "metadata": {},
   "source": [
    "Признак (absences ) количество пропущенных занятий мало влияет на оценку по математике, поэтому удалим этот признак."
   ]
  },
  {
   "cell_type": "code",
   "execution_count": 35,
   "metadata": {},
   "outputs": [],
   "source": [
    "stud_math.drop('absences', axis=1, inplace=True)"
   ]
  },
  {
   "cell_type": "markdown",
   "metadata": {},
   "source": [
    "***- по порядковым категорийным переменным:***"
   ]
  },
  {
   "cell_type": "code",
   "execution_count": 36,
   "metadata": {},
   "outputs": [
    {
     "data": {
      "text/html": [
       "<div>\n",
       "<style scoped>\n",
       "    .dataframe tbody tr th:only-of-type {\n",
       "        vertical-align: middle;\n",
       "    }\n",
       "\n",
       "    .dataframe tbody tr th {\n",
       "        vertical-align: top;\n",
       "    }\n",
       "\n",
       "    .dataframe thead th {\n",
       "        text-align: right;\n",
       "    }\n",
       "</style>\n",
       "<table border=\"1\" class=\"dataframe\">\n",
       "  <thead>\n",
       "    <tr style=\"text-align: right;\">\n",
       "      <th></th>\n",
       "      <th>Medu</th>\n",
       "      <th>Fedu</th>\n",
       "      <th>traveltime</th>\n",
       "      <th>studytime</th>\n",
       "      <th>failures</th>\n",
       "      <th>studytime, granular</th>\n",
       "      <th>famrel</th>\n",
       "      <th>freetime</th>\n",
       "      <th>goout</th>\n",
       "      <th>health</th>\n",
       "      <th>age_kat</th>\n",
       "      <th>score</th>\n",
       "    </tr>\n",
       "  </thead>\n",
       "  <tbody>\n",
       "    <tr>\n",
       "      <th>Medu</th>\n",
       "      <td>1.000000</td>\n",
       "      <td>0.626486</td>\n",
       "      <td>-0.182362</td>\n",
       "      <td>0.082797</td>\n",
       "      <td>-0.243701</td>\n",
       "      <td>-0.082797</td>\n",
       "      <td>-0.023969</td>\n",
       "      <td>0.024558</td>\n",
       "      <td>0.058486</td>\n",
       "      <td>-0.045677</td>\n",
       "      <td>-0.088454</td>\n",
       "      <td>0.218427</td>\n",
       "    </tr>\n",
       "    <tr>\n",
       "      <th>Fedu</th>\n",
       "      <td>0.626486</td>\n",
       "      <td>1.000000</td>\n",
       "      <td>-0.147316</td>\n",
       "      <td>0.014683</td>\n",
       "      <td>-0.276714</td>\n",
       "      <td>-0.014683</td>\n",
       "      <td>-0.028966</td>\n",
       "      <td>-0.024682</td>\n",
       "      <td>0.041431</td>\n",
       "      <td>0.028123</td>\n",
       "      <td>-0.122706</td>\n",
       "      <td>0.131172</td>\n",
       "    </tr>\n",
       "    <tr>\n",
       "      <th>traveltime</th>\n",
       "      <td>-0.182362</td>\n",
       "      <td>-0.147316</td>\n",
       "      <td>1.000000</td>\n",
       "      <td>-0.101017</td>\n",
       "      <td>0.072891</td>\n",
       "      <td>0.101017</td>\n",
       "      <td>-0.028272</td>\n",
       "      <td>-0.020750</td>\n",
       "      <td>0.034681</td>\n",
       "      <td>-0.025069</td>\n",
       "      <td>0.066403</td>\n",
       "      <td>-0.068868</td>\n",
       "    </tr>\n",
       "    <tr>\n",
       "      <th>studytime</th>\n",
       "      <td>0.082797</td>\n",
       "      <td>0.014683</td>\n",
       "      <td>-0.101017</td>\n",
       "      <td>1.000000</td>\n",
       "      <td>-0.175008</td>\n",
       "      <td>-1.000000</td>\n",
       "      <td>0.029396</td>\n",
       "      <td>-0.123307</td>\n",
       "      <td>-0.050258</td>\n",
       "      <td>-0.075394</td>\n",
       "      <td>0.028571</td>\n",
       "      <td>0.113139</td>\n",
       "    </tr>\n",
       "    <tr>\n",
       "      <th>failures</th>\n",
       "      <td>-0.243701</td>\n",
       "      <td>-0.276714</td>\n",
       "      <td>0.072891</td>\n",
       "      <td>-0.175008</td>\n",
       "      <td>1.000000</td>\n",
       "      <td>0.175008</td>\n",
       "      <td>0.002674</td>\n",
       "      <td>0.101677</td>\n",
       "      <td>0.121472</td>\n",
       "      <td>0.074574</td>\n",
       "      <td>0.208146</td>\n",
       "      <td>-0.344899</td>\n",
       "    </tr>\n",
       "    <tr>\n",
       "      <th>studytime, granular</th>\n",
       "      <td>-0.082797</td>\n",
       "      <td>-0.014683</td>\n",
       "      <td>0.101017</td>\n",
       "      <td>-1.000000</td>\n",
       "      <td>0.175008</td>\n",
       "      <td>1.000000</td>\n",
       "      <td>-0.029396</td>\n",
       "      <td>0.123307</td>\n",
       "      <td>0.050258</td>\n",
       "      <td>0.075394</td>\n",
       "      <td>-0.028571</td>\n",
       "      <td>-0.113139</td>\n",
       "    </tr>\n",
       "    <tr>\n",
       "      <th>famrel</th>\n",
       "      <td>-0.023969</td>\n",
       "      <td>-0.028966</td>\n",
       "      <td>-0.028272</td>\n",
       "      <td>0.029396</td>\n",
       "      <td>0.002674</td>\n",
       "      <td>-0.029396</td>\n",
       "      <td>1.000000</td>\n",
       "      <td>0.161848</td>\n",
       "      <td>0.056439</td>\n",
       "      <td>0.102124</td>\n",
       "      <td>0.086115</td>\n",
       "      <td>0.063620</td>\n",
       "    </tr>\n",
       "    <tr>\n",
       "      <th>freetime</th>\n",
       "      <td>0.024558</td>\n",
       "      <td>-0.024682</td>\n",
       "      <td>-0.020750</td>\n",
       "      <td>-0.123307</td>\n",
       "      <td>0.101677</td>\n",
       "      <td>0.123307</td>\n",
       "      <td>0.161848</td>\n",
       "      <td>1.000000</td>\n",
       "      <td>0.280669</td>\n",
       "      <td>0.068445</td>\n",
       "      <td>0.035052</td>\n",
       "      <td>0.018313</td>\n",
       "    </tr>\n",
       "    <tr>\n",
       "      <th>goout</th>\n",
       "      <td>0.058486</td>\n",
       "      <td>0.041431</td>\n",
       "      <td>0.034681</td>\n",
       "      <td>-0.050258</td>\n",
       "      <td>0.121472</td>\n",
       "      <td>0.050258</td>\n",
       "      <td>0.056439</td>\n",
       "      <td>0.280669</td>\n",
       "      <td>1.000000</td>\n",
       "      <td>-0.012334</td>\n",
       "      <td>0.084430</td>\n",
       "      <td>-0.125871</td>\n",
       "    </tr>\n",
       "    <tr>\n",
       "      <th>health</th>\n",
       "      <td>-0.045677</td>\n",
       "      <td>0.028123</td>\n",
       "      <td>-0.025069</td>\n",
       "      <td>-0.075394</td>\n",
       "      <td>0.074574</td>\n",
       "      <td>0.075394</td>\n",
       "      <td>0.102124</td>\n",
       "      <td>0.068445</td>\n",
       "      <td>-0.012334</td>\n",
       "      <td>1.000000</td>\n",
       "      <td>-0.068246</td>\n",
       "      <td>-0.069561</td>\n",
       "    </tr>\n",
       "    <tr>\n",
       "      <th>age_kat</th>\n",
       "      <td>-0.088454</td>\n",
       "      <td>-0.122706</td>\n",
       "      <td>0.066403</td>\n",
       "      <td>0.028571</td>\n",
       "      <td>0.208146</td>\n",
       "      <td>-0.028571</td>\n",
       "      <td>0.086115</td>\n",
       "      <td>0.035052</td>\n",
       "      <td>0.084430</td>\n",
       "      <td>-0.068246</td>\n",
       "      <td>1.000000</td>\n",
       "      <td>-0.119379</td>\n",
       "    </tr>\n",
       "    <tr>\n",
       "      <th>score</th>\n",
       "      <td>0.218427</td>\n",
       "      <td>0.131172</td>\n",
       "      <td>-0.068868</td>\n",
       "      <td>0.113139</td>\n",
       "      <td>-0.344899</td>\n",
       "      <td>-0.113139</td>\n",
       "      <td>0.063620</td>\n",
       "      <td>0.018313</td>\n",
       "      <td>-0.125871</td>\n",
       "      <td>-0.069561</td>\n",
       "      <td>-0.119379</td>\n",
       "      <td>1.000000</td>\n",
       "    </tr>\n",
       "  </tbody>\n",
       "</table>\n",
       "</div>"
      ],
      "text/plain": [
       "                         Medu      Fedu  traveltime  studytime  failures  \\\n",
       "Medu                 1.000000  0.626486   -0.182362   0.082797 -0.243701   \n",
       "Fedu                 0.626486  1.000000   -0.147316   0.014683 -0.276714   \n",
       "traveltime          -0.182362 -0.147316    1.000000  -0.101017  0.072891   \n",
       "studytime            0.082797  0.014683   -0.101017   1.000000 -0.175008   \n",
       "failures            -0.243701 -0.276714    0.072891  -0.175008  1.000000   \n",
       "studytime, granular -0.082797 -0.014683    0.101017  -1.000000  0.175008   \n",
       "famrel              -0.023969 -0.028966   -0.028272   0.029396  0.002674   \n",
       "freetime             0.024558 -0.024682   -0.020750  -0.123307  0.101677   \n",
       "goout                0.058486  0.041431    0.034681  -0.050258  0.121472   \n",
       "health              -0.045677  0.028123   -0.025069  -0.075394  0.074574   \n",
       "age_kat             -0.088454 -0.122706    0.066403   0.028571  0.208146   \n",
       "score                0.218427  0.131172   -0.068868   0.113139 -0.344899   \n",
       "\n",
       "                     studytime, granular    famrel  freetime     goout  \\\n",
       "Medu                           -0.082797 -0.023969  0.024558  0.058486   \n",
       "Fedu                           -0.014683 -0.028966 -0.024682  0.041431   \n",
       "traveltime                      0.101017 -0.028272 -0.020750  0.034681   \n",
       "studytime                      -1.000000  0.029396 -0.123307 -0.050258   \n",
       "failures                        0.175008  0.002674  0.101677  0.121472   \n",
       "studytime, granular             1.000000 -0.029396  0.123307  0.050258   \n",
       "famrel                         -0.029396  1.000000  0.161848  0.056439   \n",
       "freetime                        0.123307  0.161848  1.000000  0.280669   \n",
       "goout                           0.050258  0.056439  0.280669  1.000000   \n",
       "health                          0.075394  0.102124  0.068445 -0.012334   \n",
       "age_kat                        -0.028571  0.086115  0.035052  0.084430   \n",
       "score                          -0.113139  0.063620  0.018313 -0.125871   \n",
       "\n",
       "                       health   age_kat     score  \n",
       "Medu                -0.045677 -0.088454  0.218427  \n",
       "Fedu                 0.028123 -0.122706  0.131172  \n",
       "traveltime          -0.025069  0.066403 -0.068868  \n",
       "studytime           -0.075394  0.028571  0.113139  \n",
       "failures             0.074574  0.208146 -0.344899  \n",
       "studytime, granular  0.075394 -0.028571 -0.113139  \n",
       "famrel               0.102124  0.086115  0.063620  \n",
       "freetime             0.068445  0.035052  0.018313  \n",
       "goout               -0.012334  0.084430 -0.125871  \n",
       "health               1.000000 -0.068246 -0.069561  \n",
       "age_kat             -0.068246  1.000000 -0.119379  \n",
       "score               -0.069561 -0.119379  1.000000  "
      ]
     },
     "execution_count": 36,
     "metadata": {},
     "output_type": "execute_result"
    }
   ],
   "source": [
    "stud_kat_num.append('score')\n",
    "correlation_ = stud_math[stud_kat_num].corr()\n",
    "correlation_"
   ]
  },
  {
   "cell_type": "markdown",
   "metadata": {},
   "source": [
    "Между признаками studytime и studytime, granular имеется полная линейная зависимость с отрицательным коэффициентом -1, поэтому одну переменную можно ислючить, пусть это будет странный признак studytime, granular."
   ]
  },
  {
   "cell_type": "code",
   "execution_count": 37,
   "metadata": {},
   "outputs": [],
   "source": [
    "stud_math.drop('studytime, granular', axis=1, inplace=True)"
   ]
  },
  {
   "cell_type": "markdown",
   "metadata": {},
   "source": [
    "Из оставшихся признаков наиболее скоррелированы с целевой переменной score: age_kat, Medu, Fedu, studytime, failures, goout. Так как только у них коэффициент корреляции по модулю превышает значение 0.1. "
   ]
  },
  {
   "cell_type": "code",
   "execution_count": 38,
   "metadata": {},
   "outputs": [
    {
     "data": {
      "text/plain": [
       "<AxesSubplot:>"
      ]
     },
     "execution_count": 38,
     "metadata": {},
     "output_type": "execute_result"
    },
    {
     "data": {
      "image/png": "[encoded data removed]",
      "text/plain": [
       "<Figure size 432x288 with 2 Axes>"
      ]
     },
     "metadata": {},
     "output_type": "display_data"
    }
   ],
   "source": [
    "sns.heatmap(correlation_)"
   ]
  },
  {
   "cell_type": "markdown",
   "metadata": {},
   "source": [
    "Из порядковых категорийных переменных для модели оставим все признаки"
   ]
  },
  {
   "cell_type": "markdown",
   "metadata": {},
   "source": [
    "***Итак, посмотрим какие признаки у нас попадают в данные для построения модели:***"
   ]
  },
  {
   "cell_type": "code",
   "execution_count": 39,
   "metadata": {},
   "outputs": [
    {
     "data": {
      "text/html": [
       "<div>\n",
       "<style scoped>\n",
       "    .dataframe tbody tr th:only-of-type {\n",
       "        vertical-align: middle;\n",
       "    }\n",
       "\n",
       "    .dataframe tbody tr th {\n",
       "        vertical-align: top;\n",
       "    }\n",
       "\n",
       "    .dataframe thead th {\n",
       "        text-align: right;\n",
       "    }\n",
       "</style>\n",
       "<table border=\"1\" class=\"dataframe\">\n",
       "  <thead>\n",
       "    <tr style=\"text-align: right;\">\n",
       "      <th></th>\n",
       "      <th>sex</th>\n",
       "      <th>age</th>\n",
       "      <th>address</th>\n",
       "      <th>Pstatus</th>\n",
       "      <th>Medu</th>\n",
       "      <th>Fedu</th>\n",
       "      <th>Mjob</th>\n",
       "      <th>Fjob</th>\n",
       "      <th>reason</th>\n",
       "      <th>guardian</th>\n",
       "      <th>traveltime</th>\n",
       "      <th>studytime</th>\n",
       "      <th>failures</th>\n",
       "      <th>schoolsup</th>\n",
       "      <th>paid</th>\n",
       "      <th>higher</th>\n",
       "      <th>internet</th>\n",
       "      <th>romantic</th>\n",
       "      <th>famrel</th>\n",
       "      <th>freetime</th>\n",
       "      <th>goout</th>\n",
       "      <th>health</th>\n",
       "      <th>score</th>\n",
       "      <th>age_kat</th>\n",
       "    </tr>\n",
       "  </thead>\n",
       "  <tbody>\n",
       "    <tr>\n",
       "      <th>0</th>\n",
       "      <td>F</td>\n",
       "      <td>18</td>\n",
       "      <td>U</td>\n",
       "      <td>A</td>\n",
       "      <td>4.0</td>\n",
       "      <td>4.0</td>\n",
       "      <td>at_home</td>\n",
       "      <td>teacher</td>\n",
       "      <td>course</td>\n",
       "      <td>mother</td>\n",
       "      <td>2.0</td>\n",
       "      <td>2.0</td>\n",
       "      <td>0.0</td>\n",
       "      <td>yes</td>\n",
       "      <td>no</td>\n",
       "      <td>yes</td>\n",
       "      <td>NaN</td>\n",
       "      <td>no</td>\n",
       "      <td>4.0</td>\n",
       "      <td>3.0</td>\n",
       "      <td>4.0</td>\n",
       "      <td>3.0</td>\n",
       "      <td>30.0</td>\n",
       "      <td>2</td>\n",
       "    </tr>\n",
       "    <tr>\n",
       "      <th>1</th>\n",
       "      <td>F</td>\n",
       "      <td>17</td>\n",
       "      <td>U</td>\n",
       "      <td>NaN</td>\n",
       "      <td>1.0</td>\n",
       "      <td>1.0</td>\n",
       "      <td>at_home</td>\n",
       "      <td>other</td>\n",
       "      <td>course</td>\n",
       "      <td>father</td>\n",
       "      <td>1.0</td>\n",
       "      <td>2.0</td>\n",
       "      <td>0.0</td>\n",
       "      <td>no</td>\n",
       "      <td>no</td>\n",
       "      <td>yes</td>\n",
       "      <td>yes</td>\n",
       "      <td>no</td>\n",
       "      <td>5.0</td>\n",
       "      <td>3.0</td>\n",
       "      <td>3.0</td>\n",
       "      <td>3.0</td>\n",
       "      <td>30.0</td>\n",
       "      <td>1</td>\n",
       "    </tr>\n",
       "    <tr>\n",
       "      <th>2</th>\n",
       "      <td>F</td>\n",
       "      <td>15</td>\n",
       "      <td>U</td>\n",
       "      <td>T</td>\n",
       "      <td>1.0</td>\n",
       "      <td>1.0</td>\n",
       "      <td>at_home</td>\n",
       "      <td>other</td>\n",
       "      <td>other</td>\n",
       "      <td>mother</td>\n",
       "      <td>1.0</td>\n",
       "      <td>2.0</td>\n",
       "      <td>3.0</td>\n",
       "      <td>yes</td>\n",
       "      <td>NaN</td>\n",
       "      <td>yes</td>\n",
       "      <td>yes</td>\n",
       "      <td>NaN</td>\n",
       "      <td>4.0</td>\n",
       "      <td>3.0</td>\n",
       "      <td>2.0</td>\n",
       "      <td>3.0</td>\n",
       "      <td>50.0</td>\n",
       "      <td>1</td>\n",
       "    </tr>\n",
       "    <tr>\n",
       "      <th>3</th>\n",
       "      <td>F</td>\n",
       "      <td>15</td>\n",
       "      <td>U</td>\n",
       "      <td>T</td>\n",
       "      <td>4.0</td>\n",
       "      <td>2.0</td>\n",
       "      <td>health</td>\n",
       "      <td>NaN</td>\n",
       "      <td>home</td>\n",
       "      <td>mother</td>\n",
       "      <td>1.0</td>\n",
       "      <td>3.0</td>\n",
       "      <td>0.0</td>\n",
       "      <td>no</td>\n",
       "      <td>yes</td>\n",
       "      <td>yes</td>\n",
       "      <td>yes</td>\n",
       "      <td>yes</td>\n",
       "      <td>3.0</td>\n",
       "      <td>2.0</td>\n",
       "      <td>2.0</td>\n",
       "      <td>5.0</td>\n",
       "      <td>75.0</td>\n",
       "      <td>1</td>\n",
       "    </tr>\n",
       "    <tr>\n",
       "      <th>4</th>\n",
       "      <td>F</td>\n",
       "      <td>16</td>\n",
       "      <td>U</td>\n",
       "      <td>T</td>\n",
       "      <td>3.0</td>\n",
       "      <td>3.0</td>\n",
       "      <td>other</td>\n",
       "      <td>other</td>\n",
       "      <td>home</td>\n",
       "      <td>father</td>\n",
       "      <td>1.0</td>\n",
       "      <td>2.0</td>\n",
       "      <td>0.0</td>\n",
       "      <td>no</td>\n",
       "      <td>yes</td>\n",
       "      <td>yes</td>\n",
       "      <td>no</td>\n",
       "      <td>no</td>\n",
       "      <td>4.0</td>\n",
       "      <td>3.0</td>\n",
       "      <td>2.0</td>\n",
       "      <td>5.0</td>\n",
       "      <td>50.0</td>\n",
       "      <td>1</td>\n",
       "    </tr>\n",
       "  </tbody>\n",
       "</table>\n",
       "</div>"
      ],
      "text/plain": [
       "  sex  age address Pstatus  Medu  Fedu     Mjob     Fjob  reason guardian  \\\n",
       "0   F   18       U       A   4.0   4.0  at_home  teacher  course   mother   \n",
       "1   F   17       U     NaN   1.0   1.0  at_home    other  course   father   \n",
       "2   F   15       U       T   1.0   1.0  at_home    other   other   mother   \n",
       "3   F   15       U       T   4.0   2.0   health      NaN    home   mother   \n",
       "4   F   16       U       T   3.0   3.0    other    other    home   father   \n",
       "\n",
       "   traveltime  studytime  failures schoolsup paid higher internet romantic  \\\n",
       "0         2.0        2.0       0.0       yes   no    yes      NaN       no   \n",
       "1         1.0        2.0       0.0        no   no    yes      yes       no   \n",
       "2         1.0        2.0       3.0       yes  NaN    yes      yes      NaN   \n",
       "3         1.0        3.0       0.0        no  yes    yes      yes      yes   \n",
       "4         1.0        2.0       0.0        no  yes    yes       no       no   \n",
       "\n",
       "   famrel  freetime  goout  health  score  age_kat  \n",
       "0     4.0       3.0    4.0     3.0   30.0        2  \n",
       "1     5.0       3.0    3.0     3.0   30.0        1  \n",
       "2     4.0       3.0    2.0     3.0   50.0        1  \n",
       "3     3.0       2.0    2.0     5.0   75.0        1  \n",
       "4     4.0       3.0    2.0     5.0   50.0        1  "
      ]
     },
     "execution_count": 39,
     "metadata": {},
     "output_type": "execute_result"
    }
   ],
   "source": [
    "stud_math.head()"
   ]
  },
  {
   "cell_type": "code",
   "execution_count": 40,
   "metadata": {},
   "outputs": [
    {
     "data": {
      "text/html": [
       "<div>\n",
       "<style scoped>\n",
       "    .dataframe tbody tr th:only-of-type {\n",
       "        vertical-align: middle;\n",
       "    }\n",
       "\n",
       "    .dataframe tbody tr th {\n",
       "        vertical-align: top;\n",
       "    }\n",
       "\n",
       "    .dataframe thead th {\n",
       "        text-align: right;\n",
       "    }\n",
       "</style>\n",
       "<table border=\"1\" class=\"dataframe\">\n",
       "  <thead>\n",
       "    <tr style=\"text-align: right;\">\n",
       "      <th></th>\n",
       "      <th>age</th>\n",
       "      <th>Medu</th>\n",
       "      <th>Fedu</th>\n",
       "      <th>traveltime</th>\n",
       "      <th>studytime</th>\n",
       "      <th>failures</th>\n",
       "      <th>famrel</th>\n",
       "      <th>freetime</th>\n",
       "      <th>goout</th>\n",
       "      <th>health</th>\n",
       "      <th>score</th>\n",
       "      <th>age_kat</th>\n",
       "    </tr>\n",
       "  </thead>\n",
       "  <tbody>\n",
       "    <tr>\n",
       "      <th>count</th>\n",
       "      <td>387.000000</td>\n",
       "      <td>384.000000</td>\n",
       "      <td>363.000000</td>\n",
       "      <td>359.000000</td>\n",
       "      <td>380.000000</td>\n",
       "      <td>365.000000</td>\n",
       "      <td>361.000000</td>\n",
       "      <td>377.000000</td>\n",
       "      <td>379.000000</td>\n",
       "      <td>372.000000</td>\n",
       "      <td>381.000000</td>\n",
       "      <td>387.000000</td>\n",
       "    </tr>\n",
       "    <tr>\n",
       "      <th>mean</th>\n",
       "      <td>16.677003</td>\n",
       "      <td>2.752604</td>\n",
       "      <td>2.512397</td>\n",
       "      <td>1.442897</td>\n",
       "      <td>2.042105</td>\n",
       "      <td>0.328767</td>\n",
       "      <td>3.950139</td>\n",
       "      <td>3.244032</td>\n",
       "      <td>3.118734</td>\n",
       "      <td>3.526882</td>\n",
       "      <td>52.296588</td>\n",
       "      <td>1.286822</td>\n",
       "    </tr>\n",
       "    <tr>\n",
       "      <th>std</th>\n",
       "      <td>1.263913</td>\n",
       "      <td>1.104817</td>\n",
       "      <td>1.095816</td>\n",
       "      <td>0.698321</td>\n",
       "      <td>0.846109</td>\n",
       "      <td>0.738554</td>\n",
       "      <td>0.889916</td>\n",
       "      <td>0.983304</td>\n",
       "      <td>1.112289</td>\n",
       "      <td>1.397660</td>\n",
       "      <td>23.065438</td>\n",
       "      <td>0.475195</td>\n",
       "    </tr>\n",
       "    <tr>\n",
       "      <th>min</th>\n",
       "      <td>15.000000</td>\n",
       "      <td>0.000000</td>\n",
       "      <td>0.000000</td>\n",
       "      <td>1.000000</td>\n",
       "      <td>1.000000</td>\n",
       "      <td>0.000000</td>\n",
       "      <td>1.000000</td>\n",
       "      <td>1.000000</td>\n",
       "      <td>1.000000</td>\n",
       "      <td>1.000000</td>\n",
       "      <td>0.000000</td>\n",
       "      <td>1.000000</td>\n",
       "    </tr>\n",
       "    <tr>\n",
       "      <th>25%</th>\n",
       "      <td>16.000000</td>\n",
       "      <td>2.000000</td>\n",
       "      <td>2.000000</td>\n",
       "      <td>1.000000</td>\n",
       "      <td>1.000000</td>\n",
       "      <td>0.000000</td>\n",
       "      <td>4.000000</td>\n",
       "      <td>3.000000</td>\n",
       "      <td>2.000000</td>\n",
       "      <td>3.000000</td>\n",
       "      <td>40.000000</td>\n",
       "      <td>1.000000</td>\n",
       "    </tr>\n",
       "    <tr>\n",
       "      <th>50%</th>\n",
       "      <td>17.000000</td>\n",
       "      <td>3.000000</td>\n",
       "      <td>2.000000</td>\n",
       "      <td>1.000000</td>\n",
       "      <td>2.000000</td>\n",
       "      <td>0.000000</td>\n",
       "      <td>4.000000</td>\n",
       "      <td>3.000000</td>\n",
       "      <td>3.000000</td>\n",
       "      <td>4.000000</td>\n",
       "      <td>55.000000</td>\n",
       "      <td>1.000000</td>\n",
       "    </tr>\n",
       "    <tr>\n",
       "      <th>75%</th>\n",
       "      <td>18.000000</td>\n",
       "      <td>4.000000</td>\n",
       "      <td>3.000000</td>\n",
       "      <td>2.000000</td>\n",
       "      <td>2.000000</td>\n",
       "      <td>0.000000</td>\n",
       "      <td>5.000000</td>\n",
       "      <td>4.000000</td>\n",
       "      <td>4.000000</td>\n",
       "      <td>5.000000</td>\n",
       "      <td>70.000000</td>\n",
       "      <td>2.000000</td>\n",
       "    </tr>\n",
       "    <tr>\n",
       "      <th>max</th>\n",
       "      <td>22.000000</td>\n",
       "      <td>4.000000</td>\n",
       "      <td>4.000000</td>\n",
       "      <td>4.000000</td>\n",
       "      <td>4.000000</td>\n",
       "      <td>3.000000</td>\n",
       "      <td>5.000000</td>\n",
       "      <td>5.000000</td>\n",
       "      <td>5.000000</td>\n",
       "      <td>5.000000</td>\n",
       "      <td>100.000000</td>\n",
       "      <td>3.000000</td>\n",
       "    </tr>\n",
       "  </tbody>\n",
       "</table>\n",
       "</div>"
      ],
      "text/plain": [
       "              age        Medu        Fedu  traveltime   studytime    failures  \\\n",
       "count  387.000000  384.000000  363.000000  359.000000  380.000000  365.000000   \n",
       "mean    16.677003    2.752604    2.512397    1.442897    2.042105    0.328767   \n",
       "std      1.263913    1.104817    1.095816    0.698321    0.846109    0.738554   \n",
       "min     15.000000    0.000000    0.000000    1.000000    1.000000    0.000000   \n",
       "25%     16.000000    2.000000    2.000000    1.000000    1.000000    0.000000   \n",
       "50%     17.000000    3.000000    2.000000    1.000000    2.000000    0.000000   \n",
       "75%     18.000000    4.000000    3.000000    2.000000    2.000000    0.000000   \n",
       "max     22.000000    4.000000    4.000000    4.000000    4.000000    3.000000   \n",
       "\n",
       "           famrel    freetime       goout      health       score     age_kat  \n",
       "count  361.000000  377.000000  379.000000  372.000000  381.000000  387.000000  \n",
       "mean     3.950139    3.244032    3.118734    3.526882   52.296588    1.286822  \n",
       "std      0.889916    0.983304    1.112289    1.397660   23.065438    0.475195  \n",
       "min      1.000000    1.000000    1.000000    1.000000    0.000000    1.000000  \n",
       "25%      4.000000    3.000000    2.000000    3.000000   40.000000    1.000000  \n",
       "50%      4.000000    3.000000    3.000000    4.000000   55.000000    1.000000  \n",
       "75%      5.000000    4.000000    4.000000    5.000000   70.000000    2.000000  \n",
       "max      5.000000    5.000000    5.000000    5.000000  100.000000    3.000000  "
      ]
     },
     "metadata": {},
     "output_type": "display_data"
    },
    {
     "data": {
      "text/html": [
       "<div>\n",
       "<style scoped>\n",
       "    .dataframe tbody tr th:only-of-type {\n",
       "        vertical-align: middle;\n",
       "    }\n",
       "\n",
       "    .dataframe tbody tr th {\n",
       "        vertical-align: top;\n",
       "    }\n",
       "\n",
       "    .dataframe thead th {\n",
       "        text-align: right;\n",
       "    }\n",
       "</style>\n",
       "<table border=\"1\" class=\"dataframe\">\n",
       "  <thead>\n",
       "    <tr style=\"text-align: right;\">\n",
       "      <th></th>\n",
       "      <th>sex</th>\n",
       "      <th>address</th>\n",
       "      <th>Pstatus</th>\n",
       "      <th>Mjob</th>\n",
       "      <th>Fjob</th>\n",
       "      <th>reason</th>\n",
       "      <th>guardian</th>\n",
       "      <th>schoolsup</th>\n",
       "      <th>paid</th>\n",
       "      <th>higher</th>\n",
       "      <th>internet</th>\n",
       "      <th>romantic</th>\n",
       "    </tr>\n",
       "  </thead>\n",
       "  <tbody>\n",
       "    <tr>\n",
       "      <th>count</th>\n",
       "      <td>387</td>\n",
       "      <td>370</td>\n",
       "      <td>345</td>\n",
       "      <td>368</td>\n",
       "      <td>351</td>\n",
       "      <td>370</td>\n",
       "      <td>357</td>\n",
       "      <td>378</td>\n",
       "      <td>347</td>\n",
       "      <td>367</td>\n",
       "      <td>353</td>\n",
       "      <td>356</td>\n",
       "    </tr>\n",
       "    <tr>\n",
       "      <th>unique</th>\n",
       "      <td>2</td>\n",
       "      <td>2</td>\n",
       "      <td>2</td>\n",
       "      <td>5</td>\n",
       "      <td>5</td>\n",
       "      <td>4</td>\n",
       "      <td>3</td>\n",
       "      <td>2</td>\n",
       "      <td>2</td>\n",
       "      <td>2</td>\n",
       "      <td>2</td>\n",
       "      <td>2</td>\n",
       "    </tr>\n",
       "    <tr>\n",
       "      <th>top</th>\n",
       "      <td>F</td>\n",
       "      <td>U</td>\n",
       "      <td>T</td>\n",
       "      <td>other</td>\n",
       "      <td>other</td>\n",
       "      <td>course</td>\n",
       "      <td>mother</td>\n",
       "      <td>no</td>\n",
       "      <td>no</td>\n",
       "      <td>yes</td>\n",
       "      <td>yes</td>\n",
       "      <td>no</td>\n",
       "    </tr>\n",
       "    <tr>\n",
       "      <th>freq</th>\n",
       "      <td>202</td>\n",
       "      <td>289</td>\n",
       "      <td>311</td>\n",
       "      <td>129</td>\n",
       "      <td>195</td>\n",
       "      <td>136</td>\n",
       "      <td>245</td>\n",
       "      <td>329</td>\n",
       "      <td>196</td>\n",
       "      <td>349</td>\n",
       "      <td>298</td>\n",
       "      <td>236</td>\n",
       "    </tr>\n",
       "  </tbody>\n",
       "</table>\n",
       "</div>"
      ],
      "text/plain": [
       "        sex address Pstatus   Mjob   Fjob  reason guardian schoolsup paid  \\\n",
       "count   387     370     345    368    351     370      357       378  347   \n",
       "unique    2       2       2      5      5       4        3         2    2   \n",
       "top       F       U       T  other  other  course   mother        no   no   \n",
       "freq    202     289     311    129    195     136      245       329  196   \n",
       "\n",
       "       higher internet romantic  \n",
       "count     367      353      356  \n",
       "unique      2        2        2  \n",
       "top       yes      yes       no  \n",
       "freq      349      298      236  "
      ]
     },
     "execution_count": 40,
     "metadata": {},
     "output_type": "execute_result"
    }
   ],
   "source": [
    "display(stud_math.describe())\n",
    "stud_math.describe(include='object')"
   ]
  },
  {
   "cell_type": "code",
   "execution_count": 41,
   "metadata": {},
   "outputs": [
    {
     "name": "stdout",
     "output_type": "stream",
     "text": [
      "sex - 0.00%\n",
      "age - 0.00%\n",
      "address - 4.39%\n",
      "Pstatus - 10.85%\n",
      "Medu - 0.78%\n",
      "Fedu - 6.20%\n",
      "Mjob - 4.91%\n",
      "Fjob - 9.30%\n",
      "reason - 4.39%\n",
      "guardian - 7.75%\n",
      "traveltime - 7.24%\n",
      "studytime - 1.81%\n",
      "failures - 5.68%\n",
      "schoolsup - 2.33%\n",
      "paid - 10.34%\n",
      "higher - 5.17%\n",
      "internet - 8.79%\n",
      "romantic - 8.01%\n",
      "famrel - 6.72%\n",
      "freetime - 2.58%\n",
      "goout - 2.07%\n",
      "health - 3.88%\n",
      "score - 1.55%\n",
      "age_kat - 0.00%\n"
     ]
    }
   ],
   "source": [
    "for col in stud_math.columns:\n",
    "    pct_missing = stud_math[col].isna().mean()\n",
    "    print(f'{col} - {pct_missing :.2%}')"
   ]
  },
  {
   "cell_type": "markdown",
   "metadata": {},
   "source": [
    "В полученных данных оставлено 387 строк для анализа, но не заполнены пропущенные значения. Процент пропусков в данных не превышает 10.34%, поэтому пока на данный момент можем эти данные оставить в таком виде:"
   ]
  },
  {
   "cell_type": "code",
   "execution_count": 42,
   "metadata": {},
   "outputs": [],
   "source": [
    "stud_model = stud_math"
   ]
  },
  {
   "cell_type": "markdown",
   "metadata": {},
   "source": [
    "Давайте для модели возьмем еще альтернативные данные, которые возьмем из stud_model, но заполним все пропуски.\n",
    "В столбцах с числовыми признаками пропущенные данные заполним медианным значением, а в столбцах с нечисловыми данными - значением моды."
   ]
  },
  {
   "cell_type": "code",
   "execution_count": 43,
   "metadata": {},
   "outputs": [],
   "source": [
    "stud_model_alt = stud_model.copy()"
   ]
  },
  {
   "cell_type": "code",
   "execution_count": 44,
   "metadata": {},
   "outputs": [],
   "source": [
    "column = stud_model_alt.columns\n",
    "for col in column:\n",
    "    if col in stud_model_alt.select_dtypes(include=[np.number]):\n",
    "        stud_model_alt[col].fillna(stud_model_alt[col].median(), inplace=True)\n",
    "    else:\n",
    "        stud_model_alt[col].fillna(stud_model_alt[col].mode()[0], inplace=True)"
   ]
  },
  {
   "cell_type": "code",
   "execution_count": 45,
   "metadata": {},
   "outputs": [
    {
     "data": {
      "text/html": [
       "<div>\n",
       "<style scoped>\n",
       "    .dataframe tbody tr th:only-of-type {\n",
       "        vertical-align: middle;\n",
       "    }\n",
       "\n",
       "    .dataframe tbody tr th {\n",
       "        vertical-align: top;\n",
       "    }\n",
       "\n",
       "    .dataframe thead th {\n",
       "        text-align: right;\n",
       "    }\n",
       "</style>\n",
       "<table border=\"1\" class=\"dataframe\">\n",
       "  <thead>\n",
       "    <tr style=\"text-align: right;\">\n",
       "      <th></th>\n",
       "      <th>age</th>\n",
       "      <th>Medu</th>\n",
       "      <th>Fedu</th>\n",
       "      <th>traveltime</th>\n",
       "      <th>studytime</th>\n",
       "      <th>failures</th>\n",
       "      <th>famrel</th>\n",
       "      <th>freetime</th>\n",
       "      <th>goout</th>\n",
       "      <th>health</th>\n",
       "      <th>score</th>\n",
       "      <th>age_kat</th>\n",
       "    </tr>\n",
       "  </thead>\n",
       "  <tbody>\n",
       "    <tr>\n",
       "      <th>count</th>\n",
       "      <td>387.000000</td>\n",
       "      <td>387.000000</td>\n",
       "      <td>387.000000</td>\n",
       "      <td>387.000000</td>\n",
       "      <td>387.000000</td>\n",
       "      <td>387.000000</td>\n",
       "      <td>387.000000</td>\n",
       "      <td>387.000000</td>\n",
       "      <td>387.000000</td>\n",
       "      <td>387.000000</td>\n",
       "      <td>387.000000</td>\n",
       "      <td>387.000000</td>\n",
       "    </tr>\n",
       "    <tr>\n",
       "      <th>mean</th>\n",
       "      <td>16.677003</td>\n",
       "      <td>2.754522</td>\n",
       "      <td>2.480620</td>\n",
       "      <td>1.410853</td>\n",
       "      <td>2.041344</td>\n",
       "      <td>0.310078</td>\n",
       "      <td>3.953488</td>\n",
       "      <td>3.237726</td>\n",
       "      <td>3.116279</td>\n",
       "      <td>3.545220</td>\n",
       "      <td>52.338501</td>\n",
       "      <td>1.286822</td>\n",
       "    </tr>\n",
       "    <tr>\n",
       "      <th>std</th>\n",
       "      <td>1.263913</td>\n",
       "      <td>1.100729</td>\n",
       "      <td>1.068393</td>\n",
       "      <td>0.682259</td>\n",
       "      <td>0.838421</td>\n",
       "      <td>0.721237</td>\n",
       "      <td>0.859514</td>\n",
       "      <td>0.971257</td>\n",
       "      <td>1.100833</td>\n",
       "      <td>1.373282</td>\n",
       "      <td>22.887914</td>\n",
       "      <td>0.475195</td>\n",
       "    </tr>\n",
       "    <tr>\n",
       "      <th>min</th>\n",
       "      <td>15.000000</td>\n",
       "      <td>0.000000</td>\n",
       "      <td>0.000000</td>\n",
       "      <td>1.000000</td>\n",
       "      <td>1.000000</td>\n",
       "      <td>0.000000</td>\n",
       "      <td>1.000000</td>\n",
       "      <td>1.000000</td>\n",
       "      <td>1.000000</td>\n",
       "      <td>1.000000</td>\n",
       "      <td>0.000000</td>\n",
       "      <td>1.000000</td>\n",
       "    </tr>\n",
       "    <tr>\n",
       "      <th>25%</th>\n",
       "      <td>16.000000</td>\n",
       "      <td>2.000000</td>\n",
       "      <td>2.000000</td>\n",
       "      <td>1.000000</td>\n",
       "      <td>1.000000</td>\n",
       "      <td>0.000000</td>\n",
       "      <td>4.000000</td>\n",
       "      <td>3.000000</td>\n",
       "      <td>2.000000</td>\n",
       "      <td>3.000000</td>\n",
       "      <td>42.500000</td>\n",
       "      <td>1.000000</td>\n",
       "    </tr>\n",
       "    <tr>\n",
       "      <th>50%</th>\n",
       "      <td>17.000000</td>\n",
       "      <td>3.000000</td>\n",
       "      <td>2.000000</td>\n",
       "      <td>1.000000</td>\n",
       "      <td>2.000000</td>\n",
       "      <td>0.000000</td>\n",
       "      <td>4.000000</td>\n",
       "      <td>3.000000</td>\n",
       "      <td>3.000000</td>\n",
       "      <td>4.000000</td>\n",
       "      <td>55.000000</td>\n",
       "      <td>1.000000</td>\n",
       "    </tr>\n",
       "    <tr>\n",
       "      <th>75%</th>\n",
       "      <td>18.000000</td>\n",
       "      <td>4.000000</td>\n",
       "      <td>3.000000</td>\n",
       "      <td>2.000000</td>\n",
       "      <td>2.000000</td>\n",
       "      <td>0.000000</td>\n",
       "      <td>4.500000</td>\n",
       "      <td>4.000000</td>\n",
       "      <td>4.000000</td>\n",
       "      <td>5.000000</td>\n",
       "      <td>70.000000</td>\n",
       "      <td>2.000000</td>\n",
       "    </tr>\n",
       "    <tr>\n",
       "      <th>max</th>\n",
       "      <td>22.000000</td>\n",
       "      <td>4.000000</td>\n",
       "      <td>4.000000</td>\n",
       "      <td>4.000000</td>\n",
       "      <td>4.000000</td>\n",
       "      <td>3.000000</td>\n",
       "      <td>5.000000</td>\n",
       "      <td>5.000000</td>\n",
       "      <td>5.000000</td>\n",
       "      <td>5.000000</td>\n",
       "      <td>100.000000</td>\n",
       "      <td>3.000000</td>\n",
       "    </tr>\n",
       "  </tbody>\n",
       "</table>\n",
       "</div>"
      ],
      "text/plain": [
       "              age        Medu        Fedu  traveltime   studytime    failures  \\\n",
       "count  387.000000  387.000000  387.000000  387.000000  387.000000  387.000000   \n",
       "mean    16.677003    2.754522    2.480620    1.410853    2.041344    0.310078   \n",
       "std      1.263913    1.100729    1.068393    0.682259    0.838421    0.721237   \n",
       "min     15.000000    0.000000    0.000000    1.000000    1.000000    0.000000   \n",
       "25%     16.000000    2.000000    2.000000    1.000000    1.000000    0.000000   \n",
       "50%     17.000000    3.000000    2.000000    1.000000    2.000000    0.000000   \n",
       "75%     18.000000    4.000000    3.000000    2.000000    2.000000    0.000000   \n",
       "max     22.000000    4.000000    4.000000    4.000000    4.000000    3.000000   \n",
       "\n",
       "           famrel    freetime       goout      health       score     age_kat  \n",
       "count  387.000000  387.000000  387.000000  387.000000  387.000000  387.000000  \n",
       "mean     3.953488    3.237726    3.116279    3.545220   52.338501    1.286822  \n",
       "std      0.859514    0.971257    1.100833    1.373282   22.887914    0.475195  \n",
       "min      1.000000    1.000000    1.000000    1.000000    0.000000    1.000000  \n",
       "25%      4.000000    3.000000    2.000000    3.000000   42.500000    1.000000  \n",
       "50%      4.000000    3.000000    3.000000    4.000000   55.000000    1.000000  \n",
       "75%      4.500000    4.000000    4.000000    5.000000   70.000000    2.000000  \n",
       "max      5.000000    5.000000    5.000000    5.000000  100.000000    3.000000  "
      ]
     },
     "metadata": {},
     "output_type": "display_data"
    },
    {
     "data": {
      "text/html": [
       "<div>\n",
       "<style scoped>\n",
       "    .dataframe tbody tr th:only-of-type {\n",
       "        vertical-align: middle;\n",
       "    }\n",
       "\n",
       "    .dataframe tbody tr th {\n",
       "        vertical-align: top;\n",
       "    }\n",
       "\n",
       "    .dataframe thead th {\n",
       "        text-align: right;\n",
       "    }\n",
       "</style>\n",
       "<table border=\"1\" class=\"dataframe\">\n",
       "  <thead>\n",
       "    <tr style=\"text-align: right;\">\n",
       "      <th></th>\n",
       "      <th>sex</th>\n",
       "      <th>address</th>\n",
       "      <th>Pstatus</th>\n",
       "      <th>Mjob</th>\n",
       "      <th>Fjob</th>\n",
       "      <th>reason</th>\n",
       "      <th>guardian</th>\n",
       "      <th>schoolsup</th>\n",
       "      <th>paid</th>\n",
       "      <th>higher</th>\n",
       "      <th>internet</th>\n",
       "      <th>romantic</th>\n",
       "    </tr>\n",
       "  </thead>\n",
       "  <tbody>\n",
       "    <tr>\n",
       "      <th>count</th>\n",
       "      <td>387</td>\n",
       "      <td>387</td>\n",
       "      <td>387</td>\n",
       "      <td>387</td>\n",
       "      <td>387</td>\n",
       "      <td>387</td>\n",
       "      <td>387</td>\n",
       "      <td>387</td>\n",
       "      <td>387</td>\n",
       "      <td>387</td>\n",
       "      <td>387</td>\n",
       "      <td>387</td>\n",
       "    </tr>\n",
       "    <tr>\n",
       "      <th>unique</th>\n",
       "      <td>2</td>\n",
       "      <td>2</td>\n",
       "      <td>2</td>\n",
       "      <td>5</td>\n",
       "      <td>5</td>\n",
       "      <td>4</td>\n",
       "      <td>3</td>\n",
       "      <td>2</td>\n",
       "      <td>2</td>\n",
       "      <td>2</td>\n",
       "      <td>2</td>\n",
       "      <td>2</td>\n",
       "    </tr>\n",
       "    <tr>\n",
       "      <th>top</th>\n",
       "      <td>F</td>\n",
       "      <td>U</td>\n",
       "      <td>T</td>\n",
       "      <td>other</td>\n",
       "      <td>other</td>\n",
       "      <td>course</td>\n",
       "      <td>mother</td>\n",
       "      <td>no</td>\n",
       "      <td>no</td>\n",
       "      <td>yes</td>\n",
       "      <td>yes</td>\n",
       "      <td>no</td>\n",
       "    </tr>\n",
       "    <tr>\n",
       "      <th>freq</th>\n",
       "      <td>202</td>\n",
       "      <td>306</td>\n",
       "      <td>353</td>\n",
       "      <td>148</td>\n",
       "      <td>231</td>\n",
       "      <td>153</td>\n",
       "      <td>275</td>\n",
       "      <td>338</td>\n",
       "      <td>236</td>\n",
       "      <td>369</td>\n",
       "      <td>332</td>\n",
       "      <td>267</td>\n",
       "    </tr>\n",
       "  </tbody>\n",
       "</table>\n",
       "</div>"
      ],
      "text/plain": [
       "        sex address Pstatus   Mjob   Fjob  reason guardian schoolsup paid  \\\n",
       "count   387     387     387    387    387     387      387       387  387   \n",
       "unique    2       2       2      5      5       4        3         2    2   \n",
       "top       F       U       T  other  other  course   mother        no   no   \n",
       "freq    202     306     353    148    231     153      275       338  236   \n",
       "\n",
       "       higher internet romantic  \n",
       "count     387      387      387  \n",
       "unique      2        2        2  \n",
       "top       yes      yes       no  \n",
       "freq      369      332      267  "
      ]
     },
     "execution_count": 45,
     "metadata": {},
     "output_type": "execute_result"
    }
   ],
   "source": [
    "display(stud_model_alt.describe())\n",
    "stud_model_alt.describe(include='object')"
   ]
  },
  {
   "cell_type": "markdown",
   "metadata": {},
   "source": [
    "### Выводы"
   ]
  },
  {
   "cell_type": "markdown",
   "metadata": {},
   "source": [
    "Итак в результате EDA для анализа влияния условий жизни учащихся на оценку по госэкзамену по математике были получены следующие выводы:  \n",
    "1. Во всех данных, кроме данных в столбцах shool, sex, age, есть пропущенные значения. Их количество колеблется от 0.76 % до 10.85 %, в принципе процент пропусков некритичный. \n",
    "2. Выбросы найдены в 3-х признаках: Fedu, famrel и absences. Это скорее всего обусловлено некорректным сбором или вводом информации особенно по признаку absences, т.к. у него имеются критические выбросы в значениях (больше 200) и много значений, превышающих предполагаемый диапазон значений до 20.    \n",
    "3. Так как имеем допустимый процент пропусков в значениях в пределах 10%, то для построения модели попробуем взять 2 варианта данных: данные с незаполненными пропусками и данные, в которых пропуски были заполнены для числовых признаков медианным значением, а для категорийных признаков - значением моды. \n",
    "4. Из 29 признаков 7 признаков по проведенному анализу не оказывают сильного влияния на итоговую оценку по математике. Как ни странно, этими признаками оказались количество пропущенных занятий учениками и семейная образовательная поддержка. \n",
    "5. Самые важные параметры, которые предполагаются использовать в дальнейшем для построения модели, это sex, age, address, Pstatus, Medu, Fedu, Mjob, Fjob, reason, guardian, traveltime, studytime, failures, schoolsup, paid, higher, internet, romantic, famrel, freetime, goout, health, score, age_kat."
   ]
  },
  {
   "cell_type": "markdown",
   "metadata": {},
   "source": [
    "Комментарий для ментора: в этом варианте решения оставила возможно много признаков для модели, так как еще не совсем понятно какие могут быть полезны, а какие не очень. Такое понимание только с опытом приходит. Статистический анализ в проекте взят из модуля, и с его помощью как-то маловато определилось признаков, влияющих на целевую переменную."
   ]
  },
  {
   "cell_type": "code",
   "execution_count": null,
   "metadata": {},
   "outputs": [],
   "source": []
  }
 ],
 "metadata": {
  "kernelspec": {
   "display_name": "Python 3",
   "language": "python",
   "name": "python3"
  },
  "language_info": {
   "codemirror_mode": {
    "name": "ipython",
    "version": 3
   },
   "file_extension": ".py",
   "mimetype": "text/x-python",
   "name": "python",
   "nbconvert_exporter": "python",
   "pygments_lexer": "ipython3",
   "version": "3.8.5"
  }
 },
 "nbformat": 4,
 "nbformat_minor": 4
}
