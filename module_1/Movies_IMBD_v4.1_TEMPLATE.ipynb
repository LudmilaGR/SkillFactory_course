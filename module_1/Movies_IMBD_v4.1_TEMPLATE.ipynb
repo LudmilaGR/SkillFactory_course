{
 "cells": [
  {
   "cell_type": "code",
   "execution_count": 1,
   "metadata": {
    "_cell_guid": "b1076dfc-b9ad-4769-8c92-a6c4dae69d19",
    "_uuid": "8f2839f25d086af736a60e9eeb907d3b93b6e0e5",
    "colab": {},
    "colab_type": "code",
    "id": "U2D2gTdJVp90"
   },
   "outputs": [],
   "source": [
    "import numpy as np\n",
    "import pandas as pd\n",
    "import seaborn as sns\n",
    "import matplotlib.pyplot as plt\n",
    "from collections import Counter\n",
    "from itertools import combinations"
   ]
  },
  {
   "cell_type": "code",
   "execution_count": 2,
   "metadata": {
    "_cell_guid": "79c7e3d0-c299-4dcb-8224-4455121ee9b0",
    "_uuid": "d629ff2d2480ee46fbb7e2d37f6b5fab8052498a",
    "colab": {},
    "colab_type": "code",
    "id": "oyGfxL3eVp9-"
   },
   "outputs": [
    {
     "data": {
      "text/html": [
       "<div>\n",
       "<style scoped>\n",
       "    .dataframe tbody tr th:only-of-type {\n",
       "        vertical-align: middle;\n",
       "    }\n",
       "\n",
       "    .dataframe tbody tr th {\n",
       "        vertical-align: top;\n",
       "    }\n",
       "\n",
       "    .dataframe thead th {\n",
       "        text-align: right;\n",
       "    }\n",
       "</style>\n",
       "<table border=\"1\" class=\"dataframe\">\n",
       "  <thead>\n",
       "    <tr style=\"text-align: right;\">\n",
       "      <th></th>\n",
       "      <th>imdb_id</th>\n",
       "      <th>budget</th>\n",
       "      <th>revenue</th>\n",
       "      <th>original_title</th>\n",
       "      <th>cast</th>\n",
       "      <th>director</th>\n",
       "      <th>tagline</th>\n",
       "      <th>overview</th>\n",
       "      <th>runtime</th>\n",
       "      <th>genres</th>\n",
       "      <th>production_companies</th>\n",
       "      <th>release_date</th>\n",
       "      <th>vote_average</th>\n",
       "      <th>release_year</th>\n",
       "    </tr>\n",
       "  </thead>\n",
       "  <tbody>\n",
       "    <tr>\n",
       "      <th>712</th>\n",
       "      <td>tt0490181</td>\n",
       "      <td>8000000</td>\n",
       "      <td>2033165</td>\n",
       "      <td>Mutant Chronicles</td>\n",
       "      <td>Ron Perlman|Thomas Jane|Devon Aoki|Sean Pertwe...</td>\n",
       "      <td>Simon Hunter</td>\n",
       "      <td>Welcome to the 23rd century.  The new dark ages.</td>\n",
       "      <td>It's the year 2707. Earth's natural resources ...</td>\n",
       "      <td>111</td>\n",
       "      <td>Action|Adventure|Horror|Science Fiction</td>\n",
       "      <td>Isle of Man Film|Edward R. Pressman Film|Parad...</td>\n",
       "      <td>8/7/2008</td>\n",
       "      <td>5.1</td>\n",
       "      <td>2008</td>\n",
       "    </tr>\n",
       "    <tr>\n",
       "      <th>952</th>\n",
       "      <td>tt0220506</td>\n",
       "      <td>13000000</td>\n",
       "      <td>37664855</td>\n",
       "      <td>Halloween: Resurrection</td>\n",
       "      <td>Jamie Lee Curtis|Brad Loree|Busta Rhymes|Bianc...</td>\n",
       "      <td>Rick Rosenthal</td>\n",
       "      <td>Evil finds its way home</td>\n",
       "      <td>Serial Killer Michael Myers is not finished wi...</td>\n",
       "      <td>94</td>\n",
       "      <td>Horror|Thriller</td>\n",
       "      <td>Dimension Films</td>\n",
       "      <td>7/1/2002</td>\n",
       "      <td>4.6</td>\n",
       "      <td>2002</td>\n",
       "    </tr>\n",
       "    <tr>\n",
       "      <th>1646</th>\n",
       "      <td>tt0362270</td>\n",
       "      <td>50000000</td>\n",
       "      <td>34808403</td>\n",
       "      <td>The Life Aquatic with Steve Zissou</td>\n",
       "      <td>Bill Murray|Anjelica Huston|Cate Blanchett|Wil...</td>\n",
       "      <td>Wes Anderson</td>\n",
       "      <td>The deeper you go, the weirder life gets.</td>\n",
       "      <td>Wes Andersonâ€™s incisive quirky comedy build ...</td>\n",
       "      <td>119</td>\n",
       "      <td>Adventure|Comedy|Drama</td>\n",
       "      <td>Touchstone Pictures</td>\n",
       "      <td>12/10/2004</td>\n",
       "      <td>7.0</td>\n",
       "      <td>2004</td>\n",
       "    </tr>\n",
       "    <tr>\n",
       "      <th>1214</th>\n",
       "      <td>tt0790736</td>\n",
       "      <td>130000000</td>\n",
       "      <td>61648500</td>\n",
       "      <td>R.I.P.D.</td>\n",
       "      <td>Jeff Bridges|Ryan Reynolds|Kevin Bacon|Stephan...</td>\n",
       "      <td>Robert Schwentke</td>\n",
       "      <td>To protect and serve the living</td>\n",
       "      <td>A recently slain cop joins a team of undead po...</td>\n",
       "      <td>96</td>\n",
       "      <td>Fantasy|Action|Comedy|Crime</td>\n",
       "      <td>Universal Pictures|Original Film|Dark Horse En...</td>\n",
       "      <td>7/18/2013</td>\n",
       "      <td>5.3</td>\n",
       "      <td>2013</td>\n",
       "    </tr>\n",
       "    <tr>\n",
       "      <th>1168</th>\n",
       "      <td>tt0337909</td>\n",
       "      <td>10000000</td>\n",
       "      <td>96542059</td>\n",
       "      <td>Calendar Girls</td>\n",
       "      <td>Helen Mirren|Julie Walters|John Alderton|Linda...</td>\n",
       "      <td>Nigel Cole</td>\n",
       "      <td>Some ladies will do anything for a good cause.</td>\n",
       "      <td>2003 fact-based comedy with Helen Mirren and J...</td>\n",
       "      <td>108</td>\n",
       "      <td>Comedy</td>\n",
       "      <td>Harbour Pictures|Touchstone Pictures</td>\n",
       "      <td>9/2/2003</td>\n",
       "      <td>6.5</td>\n",
       "      <td>2003</td>\n",
       "    </tr>\n",
       "  </tbody>\n",
       "</table>\n",
       "</div>"
      ],
      "text/plain": [
       "        imdb_id     budget   revenue                      original_title  \\\n",
       "712   tt0490181    8000000   2033165                   Mutant Chronicles   \n",
       "952   tt0220506   13000000  37664855             Halloween: Resurrection   \n",
       "1646  tt0362270   50000000  34808403  The Life Aquatic with Steve Zissou   \n",
       "1214  tt0790736  130000000  61648500                            R.I.P.D.   \n",
       "1168  tt0337909   10000000  96542059                      Calendar Girls   \n",
       "\n",
       "                                                   cast          director  \\\n",
       "712   Ron Perlman|Thomas Jane|Devon Aoki|Sean Pertwe...      Simon Hunter   \n",
       "952   Jamie Lee Curtis|Brad Loree|Busta Rhymes|Bianc...    Rick Rosenthal   \n",
       "1646  Bill Murray|Anjelica Huston|Cate Blanchett|Wil...      Wes Anderson   \n",
       "1214  Jeff Bridges|Ryan Reynolds|Kevin Bacon|Stephan...  Robert Schwentke   \n",
       "1168  Helen Mirren|Julie Walters|John Alderton|Linda...        Nigel Cole   \n",
       "\n",
       "                                               tagline  \\\n",
       "712   Welcome to the 23rd century.  The new dark ages.   \n",
       "952                            Evil finds its way home   \n",
       "1646         The deeper you go, the weirder life gets.   \n",
       "1214                   To protect and serve the living   \n",
       "1168    Some ladies will do anything for a good cause.   \n",
       "\n",
       "                                               overview  runtime  \\\n",
       "712   It's the year 2707. Earth's natural resources ...      111   \n",
       "952   Serial Killer Michael Myers is not finished wi...       94   \n",
       "1646  Wes Andersonâ€™s incisive quirky comedy build ...      119   \n",
       "1214  A recently slain cop joins a team of undead po...       96   \n",
       "1168  2003 fact-based comedy with Helen Mirren and J...      108   \n",
       "\n",
       "                                       genres  \\\n",
       "712   Action|Adventure|Horror|Science Fiction   \n",
       "952                           Horror|Thriller   \n",
       "1646                   Adventure|Comedy|Drama   \n",
       "1214              Fantasy|Action|Comedy|Crime   \n",
       "1168                                   Comedy   \n",
       "\n",
       "                                   production_companies release_date  \\\n",
       "712   Isle of Man Film|Edward R. Pressman Film|Parad...     8/7/2008   \n",
       "952                                     Dimension Films     7/1/2002   \n",
       "1646                                Touchstone Pictures   12/10/2004   \n",
       "1214  Universal Pictures|Original Film|Dark Horse En...    7/18/2013   \n",
       "1168               Harbour Pictures|Touchstone Pictures     9/2/2003   \n",
       "\n",
       "      vote_average  release_year  \n",
       "712            5.1          2008  \n",
       "952            4.6          2002  \n",
       "1646           7.0          2004  \n",
       "1214           5.3          2013  \n",
       "1168           6.5          2003  "
      ]
     },
     "execution_count": 2,
     "metadata": {},
     "output_type": "execute_result"
    }
   ],
   "source": [
    "data = pd.read_csv('movie_bd_v5.csv')\n",
    "data.sample(5)"
   ]
  },
  {
   "cell_type": "code",
   "execution_count": 3,
   "metadata": {
    "colab": {},
    "colab_type": "code",
    "id": "CoYUnagMVp-C"
   },
   "outputs": [
    {
     "data": {
      "text/html": [
       "<div>\n",
       "<style scoped>\n",
       "    .dataframe tbody tr th:only-of-type {\n",
       "        vertical-align: middle;\n",
       "    }\n",
       "\n",
       "    .dataframe tbody tr th {\n",
       "        vertical-align: top;\n",
       "    }\n",
       "\n",
       "    .dataframe thead th {\n",
       "        text-align: right;\n",
       "    }\n",
       "</style>\n",
       "<table border=\"1\" class=\"dataframe\">\n",
       "  <thead>\n",
       "    <tr style=\"text-align: right;\">\n",
       "      <th></th>\n",
       "      <th>budget</th>\n",
       "      <th>revenue</th>\n",
       "      <th>runtime</th>\n",
       "      <th>vote_average</th>\n",
       "      <th>release_year</th>\n",
       "    </tr>\n",
       "  </thead>\n",
       "  <tbody>\n",
       "    <tr>\n",
       "      <th>count</th>\n",
       "      <td>1.889000e+03</td>\n",
       "      <td>1.889000e+03</td>\n",
       "      <td>1889.000000</td>\n",
       "      <td>1889.000000</td>\n",
       "      <td>1889.000000</td>\n",
       "    </tr>\n",
       "    <tr>\n",
       "      <th>mean</th>\n",
       "      <td>5.431083e+07</td>\n",
       "      <td>1.553653e+08</td>\n",
       "      <td>109.658549</td>\n",
       "      <td>6.140762</td>\n",
       "      <td>2007.860773</td>\n",
       "    </tr>\n",
       "    <tr>\n",
       "      <th>std</th>\n",
       "      <td>4.858721e+07</td>\n",
       "      <td>2.146698e+08</td>\n",
       "      <td>18.017041</td>\n",
       "      <td>0.764763</td>\n",
       "      <td>4.468841</td>\n",
       "    </tr>\n",
       "    <tr>\n",
       "      <th>min</th>\n",
       "      <td>5.000000e+06</td>\n",
       "      <td>2.033165e+06</td>\n",
       "      <td>63.000000</td>\n",
       "      <td>3.300000</td>\n",
       "      <td>2000.000000</td>\n",
       "    </tr>\n",
       "    <tr>\n",
       "      <th>25%</th>\n",
       "      <td>2.000000e+07</td>\n",
       "      <td>3.456058e+07</td>\n",
       "      <td>97.000000</td>\n",
       "      <td>5.600000</td>\n",
       "      <td>2004.000000</td>\n",
       "    </tr>\n",
       "    <tr>\n",
       "      <th>50%</th>\n",
       "      <td>3.800000e+07</td>\n",
       "      <td>8.361541e+07</td>\n",
       "      <td>107.000000</td>\n",
       "      <td>6.100000</td>\n",
       "      <td>2008.000000</td>\n",
       "    </tr>\n",
       "    <tr>\n",
       "      <th>75%</th>\n",
       "      <td>7.200000e+07</td>\n",
       "      <td>1.782626e+08</td>\n",
       "      <td>120.000000</td>\n",
       "      <td>6.600000</td>\n",
       "      <td>2012.000000</td>\n",
       "    </tr>\n",
       "    <tr>\n",
       "      <th>max</th>\n",
       "      <td>3.800000e+08</td>\n",
       "      <td>2.781506e+09</td>\n",
       "      <td>214.000000</td>\n",
       "      <td>8.100000</td>\n",
       "      <td>2015.000000</td>\n",
       "    </tr>\n",
       "  </tbody>\n",
       "</table>\n",
       "</div>"
      ],
      "text/plain": [
       "             budget       revenue      runtime  vote_average  release_year\n",
       "count  1.889000e+03  1.889000e+03  1889.000000   1889.000000   1889.000000\n",
       "mean   5.431083e+07  1.553653e+08   109.658549      6.140762   2007.860773\n",
       "std    4.858721e+07  2.146698e+08    18.017041      0.764763      4.468841\n",
       "min    5.000000e+06  2.033165e+06    63.000000      3.300000   2000.000000\n",
       "25%    2.000000e+07  3.456058e+07    97.000000      5.600000   2004.000000\n",
       "50%    3.800000e+07  8.361541e+07   107.000000      6.100000   2008.000000\n",
       "75%    7.200000e+07  1.782626e+08   120.000000      6.600000   2012.000000\n",
       "max    3.800000e+08  2.781506e+09   214.000000      8.100000   2015.000000"
      ]
     },
     "execution_count": 3,
     "metadata": {},
     "output_type": "execute_result"
    }
   ],
   "source": [
    "data.describe()"
   ]
  },
  {
   "cell_type": "markdown",
   "metadata": {
    "colab_type": "text",
    "id": "DTIt7ezGVp-G"
   },
   "source": [
    "# Предобработка"
   ]
  },
  {
   "cell_type": "code",
   "execution_count": 4,
   "metadata": {
    "colab": {},
    "colab_type": "code",
    "id": "jNb40DwKVp-H"
   },
   "outputs": [],
   "source": [
    "answers = {} # создадим словарь для ответов"
   ]
  },
  {
   "cell_type": "code",
   "execution_count": 5,
   "metadata": {},
   "outputs": [],
   "source": [
    "# creating a working dataset\n",
    "df = data.copy()\n",
    "\n",
    "# сокращаем наименования столбцов\n",
    "colum = ['id', 'budget', 'revenue', 'title', 'cast',\n",
    "       'director', 'tagline', 'view', 'runtime', 'genres',\n",
    "       'prod_comp', 'rel_date', 'vote_aver', 'rel_year']\n",
    "df.columns = colum\n",
    "\n",
    "# тут другие ваши предобработки колонок например:\n",
    "# разделяем текст в столбце на несколько строк (пользовательская функция)\n",
    "# в DataFrame и получаем новый DataFrame\n",
    "def explode_df(df, column, sep='|', keep=False):\n",
    "    indexes = list()\n",
    "    new_values = list()\n",
    "    df = df.dropna(subset=[column])\n",
    "    for i, presplit in enumerate(df[column].astype(str)):\n",
    "        values = presplit.split(sep)\n",
    "        if keep and len(values) > 1:\n",
    "            indexes.append(i)\n",
    "            new_values.append(presplit)\n",
    "        for value in values:\n",
    "            indexes.append(i)\n",
    "            new_values.append(value)\n",
    "    new_df = df.iloc[indexes, :].copy()\n",
    "    new_df[column] = new_values\n",
    "    return new_df\n",
    "\n",
    "# получим столбец со значениями прибыльности фильма\n",
    "profit = df['revenue'] - df['budget']\n",
    "df.insert(3, 'profit', profit)\n",
    "\n",
    "#the time given in the dataset is in string format.\n",
    "#So we need to change this in datetime format\n",
    "df['rel_date'] = pd.to_datetime(df['rel_date'])\n",
    "\n",
    "# в рабочий DataFrame добавляем колонку с названиями месяцев на русском языке\n",
    "month = df['rel_date'].dt.month_name(locale = 'Russian')\n",
    "df.insert(12, 'month', month)"
   ]
  },
  {
   "cell_type": "markdown",
   "metadata": {
    "colab_type": "text",
    "id": "YxZaH-nPVp-L"
   },
   "source": [
    "# 1. У какого фильма из списка самый большой бюджет?"
   ]
  },
  {
   "cell_type": "markdown",
   "metadata": {
    "colab_type": "text",
    "id": "Nd-G5gX6Vp-M"
   },
   "source": [
    "Использовать варианты ответов в коде решения запрещено.    \n",
    "Вы думаете и в жизни у вас будут варианты ответов?)"
   ]
  },
  {
   "cell_type": "code",
   "execution_count": 6,
   "metadata": {
    "colab": {},
    "colab_type": "code",
    "id": "uVnXAY5RVp-O"
   },
   "outputs": [],
   "source": [
    "# в словарь вставляем номер вопроса и ваш ответ на него\n",
    "# Пример: \n",
    "#answers['1'] = '2. Spider-Man 3 (tt0413300)'\n",
    "\n",
    "# Ответ на 1-й вопрос:\n",
    "answers['1'] = '5. Pirates of the Caribbean: On Stranger Tides (tt1298650)' # \"+\"\n",
    "# если ответили верно, можете добавить комментарий со значком \"+\""
   ]
  },
  {
   "cell_type": "code",
   "execution_count": 7,
   "metadata": {
    "colab": {},
    "colab_type": "code",
    "id": "dZwb3m28Vp-S"
   },
   "outputs": [
    {
     "name": "stdout",
     "output_type": "stream",
     "text": [
      "Фильм с самым большим бюджетом: \u001b[1m\u001b[30mPirates of the Caribbean: On Stranger Tides (tt1298650)\n"
     ]
    }
   ],
   "source": [
    "# решение вопроса № 1:\n",
    "\n",
    "ans1 = df[df['budget'] == df['budget'].max()][['title', 'id']].values\n",
    "print(f'Фильм с самым большим бюджетом: \\033[1m\\033[30m{ans1[0][0]} ({ans1[0][1]})')"
   ]
  },
  {
   "cell_type": "markdown",
   "metadata": {
    "colab_type": "text",
    "id": "K7L3nbRXVp-X"
   },
   "source": [
    "ВАРИАНТ 2"
   ]
  },
  {
   "cell_type": "code",
   "execution_count": 8,
   "metadata": {
    "colab": {},
    "colab_type": "code",
    "id": "OGaoQI7rVp-X"
   },
   "outputs": [
    {
     "name": "stdout",
     "output_type": "stream",
     "text": [
      "Фильм с самым большим бюджетом: \u001b[1m\u001b[30mPirates of the Caribbean: On Stranger Tides (tt1298650)\n"
     ]
    }
   ],
   "source": [
    "# еще вариант решения вопроса № 1\n",
    "\n",
    "ans1_1 = df.sort_values('budget', ascending=False)[['title', 'id']].iloc[0]\n",
    "print(f'Фильм с самым большим бюджетом: \\033[1m\\033[30m{ans1_1[0]} ({ans1_1[1]})')"
   ]
  },
  {
   "cell_type": "code",
   "execution_count": 9,
   "metadata": {},
   "outputs": [
    {
     "name": "stdout",
     "output_type": "stream",
     "text": [
      "Фильм с самым большим бюджетом: \u001b[1m\u001b[30mPirates of the Caribbean: On Stranger Tides\n"
     ]
    }
   ],
   "source": [
    "# еще вариант решения вопроса № 1\n",
    "\n",
    "ans1_2 = list(max(df.groupby(['budget'])['title'])[1])\n",
    "print(f'Фильм с самым большим бюджетом: \\033[1m\\033[30m{ans1_2[0]}')"
   ]
  },
  {
   "cell_type": "markdown",
   "metadata": {
    "colab_type": "text",
    "id": "FNRbbI3vVp-c"
   },
   "source": [
    "# 2. Какой из фильмов самый длительный (в минутах)?"
   ]
  },
  {
   "cell_type": "code",
   "execution_count": 10,
   "metadata": {
    "colab": {},
    "colab_type": "code",
    "id": "vHAoEXNTVp-d"
   },
   "outputs": [],
   "source": [
    "# Ответ на 2-й вопрос:\n",
    "\n",
    "answers['2'] = '2. Gods and Generals (tt0279111)' # \"+\""
   ]
  },
  {
   "cell_type": "code",
   "execution_count": 11,
   "metadata": {
    "colab": {},
    "colab_type": "code",
    "id": "ot-VX2XrVp-g"
   },
   "outputs": [
    {
     "data": {
      "text/html": [
       "<div>\n",
       "<style scoped>\n",
       "    .dataframe tbody tr th:only-of-type {\n",
       "        vertical-align: middle;\n",
       "    }\n",
       "\n",
       "    .dataframe tbody tr th {\n",
       "        vertical-align: top;\n",
       "    }\n",
       "\n",
       "    .dataframe thead th {\n",
       "        text-align: right;\n",
       "    }\n",
       "</style>\n",
       "<table border=\"1\" class=\"dataframe\">\n",
       "  <thead>\n",
       "    <tr style=\"text-align: right;\">\n",
       "      <th></th>\n",
       "      <th>title</th>\n",
       "      <th>id</th>\n",
       "    </tr>\n",
       "  </thead>\n",
       "  <tbody>\n",
       "    <tr>\n",
       "      <th>1157</th>\n",
       "      <td>Gods and Generals</td>\n",
       "      <td>tt0279111</td>\n",
       "    </tr>\n",
       "  </tbody>\n",
       "</table>\n",
       "</div>"
      ],
      "text/plain": [
       "                  title         id\n",
       "1157  Gods and Generals  tt0279111"
      ]
     },
     "execution_count": 11,
     "metadata": {},
     "output_type": "execute_result"
    }
   ],
   "source": [
    "# решение вопроса № 2:\n",
    "\n",
    "df[df['runtime'] == df['runtime'].max()][['title', 'id']]"
   ]
  },
  {
   "cell_type": "code",
   "execution_count": 12,
   "metadata": {},
   "outputs": [
    {
     "name": "stdout",
     "output_type": "stream",
     "text": [
      "Самый длительный фильм: \u001b[1m\u001b[30mGods and Generals (tt0279111)\n"
     ]
    }
   ],
   "source": [
    "ans2 = df[df['runtime'] == df['runtime'].max()][['title', 'id']].values\n",
    "print(f'Самый длительный фильм: \\033[1m\\033[30m{ans2[0][0]} ({ans2[0][1]})')"
   ]
  },
  {
   "cell_type": "markdown",
   "metadata": {
    "colab_type": "text",
    "id": "bapLlpW8Vp-k"
   },
   "source": [
    "# 3. Какой из фильмов самый короткий (в минутах)?\n",
    "\n",
    "\n",
    "\n"
   ]
  },
  {
   "cell_type": "code",
   "execution_count": 13,
   "metadata": {},
   "outputs": [],
   "source": [
    "# Ответ на 3-й вопрос:\n",
    "\n",
    "answers['3'] = '3. Winnie the Pooh (tt1449283)' # \"+\""
   ]
  },
  {
   "cell_type": "code",
   "execution_count": 14,
   "metadata": {
    "colab": {},
    "colab_type": "code",
    "id": "YBxaSHuAVp-l"
   },
   "outputs": [
    {
     "data": {
      "text/html": [
       "<div>\n",
       "<style scoped>\n",
       "    .dataframe tbody tr th:only-of-type {\n",
       "        vertical-align: middle;\n",
       "    }\n",
       "\n",
       "    .dataframe tbody tr th {\n",
       "        vertical-align: top;\n",
       "    }\n",
       "\n",
       "    .dataframe thead th {\n",
       "        text-align: right;\n",
       "    }\n",
       "</style>\n",
       "<table border=\"1\" class=\"dataframe\">\n",
       "  <thead>\n",
       "    <tr style=\"text-align: right;\">\n",
       "      <th></th>\n",
       "      <th>title</th>\n",
       "      <th>id</th>\n",
       "    </tr>\n",
       "  </thead>\n",
       "  <tbody>\n",
       "    <tr>\n",
       "      <th>768</th>\n",
       "      <td>Winnie the Pooh</td>\n",
       "      <td>tt1449283</td>\n",
       "    </tr>\n",
       "  </tbody>\n",
       "</table>\n",
       "</div>"
      ],
      "text/plain": [
       "               title         id\n",
       "768  Winnie the Pooh  tt1449283"
      ]
     },
     "execution_count": 14,
     "metadata": {},
     "output_type": "execute_result"
    }
   ],
   "source": [
    "# решение вопроса № 3:\n",
    "\n",
    "df[df['runtime'] == df['runtime'].min()][['title', 'id']]"
   ]
  },
  {
   "cell_type": "code",
   "execution_count": 15,
   "metadata": {},
   "outputs": [
    {
     "name": "stdout",
     "output_type": "stream",
     "text": [
      "Самый короткий фильм: \u001b[1m\u001b[30mWinnie the Pooh (tt1449283)\n"
     ]
    }
   ],
   "source": [
    "ans3 = df[df['runtime'] == df['runtime'].min()][['title', 'id']].values\n",
    "print(f'Самый короткий фильм: \\033[1m\\033[30m{ans3[0][0]} ({ans3[0][1]})')"
   ]
  },
  {
   "cell_type": "code",
   "execution_count": 16,
   "metadata": {},
   "outputs": [
    {
     "name": "stdout",
     "output_type": "stream",
     "text": [
      "Самый короткий фильм: \u001b[1m\u001b[30mWinnie the Pooh\n"
     ]
    }
   ],
   "source": [
    "# еще решение вопроса № 3:\n",
    "\n",
    "ans3_1 = df.sort_values('runtime')['title'].iloc[0]\n",
    "print(f'Самый короткий фильм: \\033[1m\\033[30m{ans3_1}')"
   ]
  },
  {
   "cell_type": "markdown",
   "metadata": {
    "colab_type": "text",
    "id": "TfQbxbfNVp-p"
   },
   "source": [
    "# 4. Какова средняя длительность фильмов?\n"
   ]
  },
  {
   "cell_type": "code",
   "execution_count": 17,
   "metadata": {},
   "outputs": [],
   "source": [
    "# Ответ на 4-й вопрос:\n",
    "\n",
    "answers['4'] = '2. 110' # \"+\""
   ]
  },
  {
   "cell_type": "code",
   "execution_count": 19,
   "metadata": {
    "colab": {},
    "colab_type": "code",
    "id": "5K6dKZYVVp-q"
   },
   "outputs": [
    {
     "name": "stdout",
     "output_type": "stream",
     "text": [
      "Средняя длительность фильмов: \u001b[1m\u001b[30m110\n"
     ]
    }
   ],
   "source": [
    "# решение вопроса № 4:\n",
    "\n",
    "ans4 = round(df['runtime'].mean())\n",
    "print(f'Средняя длительность фильмов: \\033[1m\\033[30m{ans4}')"
   ]
  },
  {
   "cell_type": "markdown",
   "metadata": {
    "colab_type": "text",
    "id": "r5TvbnT_Vp-u"
   },
   "source": [
    "# 5. Каково медианное значение длительности фильмов? "
   ]
  },
  {
   "cell_type": "code",
   "execution_count": 20,
   "metadata": {},
   "outputs": [],
   "source": [
    "# Ответ на 5-й вопрос:\n",
    "\n",
    "answers['5'] = '1. 107' # \"+\""
   ]
  },
  {
   "cell_type": "code",
   "execution_count": 21,
   "metadata": {
    "colab": {},
    "colab_type": "code",
    "id": "iBROplKnVp-v"
   },
   "outputs": [
    {
     "name": "stdout",
     "output_type": "stream",
     "text": [
      "Медианное значение длительности фильмов: \u001b[1m\u001b[30m107\n"
     ]
    }
   ],
   "source": [
    "# решение вопроса № 5:\n",
    "\n",
    "ans5 = round(df['runtime'].median())\n",
    "print(f'Медианное значение длительности фильмов: \\033[1m\\033[30m{ans5}')"
   ]
  },
  {
   "cell_type": "markdown",
   "metadata": {
    "colab_type": "text",
    "id": "39P-deDSVp-y"
   },
   "source": [
    "# 6. Какой самый прибыльный фильм?\n",
    "#### Внимание! Здесь и далее под «прибылью» или «убытками» понимается разность между сборами и бюджетом фильма. (прибыль = сборы - бюджет) в нашем датасете это будет (profit = revenue - budget) "
   ]
  },
  {
   "cell_type": "code",
   "execution_count": 22,
   "metadata": {},
   "outputs": [],
   "source": [
    "# Ответ на 6-й вопрос:\n",
    "\n",
    "answers['6'] = '5. Avatar (tt0499549)' # \"+\""
   ]
  },
  {
   "cell_type": "code",
   "execution_count": 23,
   "metadata": {
    "colab": {},
    "colab_type": "code",
    "id": "UYZh4T9WVp-y"
   },
   "outputs": [
    {
     "data": {
      "text/html": [
       "<div>\n",
       "<style scoped>\n",
       "    .dataframe tbody tr th:only-of-type {\n",
       "        vertical-align: middle;\n",
       "    }\n",
       "\n",
       "    .dataframe tbody tr th {\n",
       "        vertical-align: top;\n",
       "    }\n",
       "\n",
       "    .dataframe thead th {\n",
       "        text-align: right;\n",
       "    }\n",
       "</style>\n",
       "<table border=\"1\" class=\"dataframe\">\n",
       "  <thead>\n",
       "    <tr style=\"text-align: right;\">\n",
       "      <th></th>\n",
       "      <th>title</th>\n",
       "      <th>id</th>\n",
       "      <th>profit</th>\n",
       "    </tr>\n",
       "  </thead>\n",
       "  <tbody>\n",
       "    <tr>\n",
       "      <th>239</th>\n",
       "      <td>Avatar</td>\n",
       "      <td>tt0499549</td>\n",
       "      <td>2544505847</td>\n",
       "    </tr>\n",
       "  </tbody>\n",
       "</table>\n",
       "</div>"
      ],
      "text/plain": [
       "      title         id      profit\n",
       "239  Avatar  tt0499549  2544505847"
      ]
     },
     "execution_count": 23,
     "metadata": {},
     "output_type": "execute_result"
    }
   ],
   "source": [
    "# лучше код получения столбца profit вынести в Предобработку что в начале\n",
    "# решение вопроса № 6:\n",
    "\n",
    "df[df['profit'] == df['profit'].max()][['title', 'id', 'profit']]"
   ]
  },
  {
   "cell_type": "code",
   "execution_count": 24,
   "metadata": {},
   "outputs": [
    {
     "name": "stdout",
     "output_type": "stream",
     "text": [
      "Самый прибыльный фильм: \u001b[1m\u001b[30mAvatar (tt0499549)\n"
     ]
    }
   ],
   "source": [
    "ans6 = df[df['profit'] == df['profit'].max()][['title', 'id', 'profit']].values\n",
    "print(f'Самый прибыльный фильм: \\033[1m\\033[30m{ans6[0][0]} ({ans6[0][1]})')"
   ]
  },
  {
   "cell_type": "markdown",
   "metadata": {
    "colab_type": "text",
    "id": "M99JmIX4Vp-2"
   },
   "source": [
    "# 7. Какой фильм самый убыточный? "
   ]
  },
  {
   "cell_type": "code",
   "execution_count": 25,
   "metadata": {},
   "outputs": [],
   "source": [
    "# Ответ на 7-й вопрос:\n",
    "\n",
    "answers['7'] = '5. The Lone Ranger (tt1210819)' # \"+\""
   ]
  },
  {
   "cell_type": "code",
   "execution_count": 26,
   "metadata": {
    "colab": {},
    "colab_type": "code",
    "id": "w-D2m4XPVp-3"
   },
   "outputs": [
    {
     "data": {
      "text/html": [
       "<div>\n",
       "<style scoped>\n",
       "    .dataframe tbody tr th:only-of-type {\n",
       "        vertical-align: middle;\n",
       "    }\n",
       "\n",
       "    .dataframe tbody tr th {\n",
       "        vertical-align: top;\n",
       "    }\n",
       "\n",
       "    .dataframe thead th {\n",
       "        text-align: right;\n",
       "    }\n",
       "</style>\n",
       "<table border=\"1\" class=\"dataframe\">\n",
       "  <thead>\n",
       "    <tr style=\"text-align: right;\">\n",
       "      <th></th>\n",
       "      <th>title</th>\n",
       "      <th>id</th>\n",
       "      <th>profit</th>\n",
       "    </tr>\n",
       "  </thead>\n",
       "  <tbody>\n",
       "    <tr>\n",
       "      <th>1245</th>\n",
       "      <td>The Lone Ranger</td>\n",
       "      <td>tt1210819</td>\n",
       "      <td>-165710090</td>\n",
       "    </tr>\n",
       "  </tbody>\n",
       "</table>\n",
       "</div>"
      ],
      "text/plain": [
       "                title         id     profit\n",
       "1245  The Lone Ranger  tt1210819 -165710090"
      ]
     },
     "execution_count": 26,
     "metadata": {},
     "output_type": "execute_result"
    }
   ],
   "source": [
    "# решение вопроса № 7:\n",
    "\n",
    "df[df['profit'] == df['profit'].min()][['title', 'id', 'profit']]"
   ]
  },
  {
   "cell_type": "code",
   "execution_count": 27,
   "metadata": {},
   "outputs": [
    {
     "name": "stdout",
     "output_type": "stream",
     "text": [
      "Самый убыточный фильм: \u001b[1m\u001b[30mThe Lone Ranger (tt1210819)\n"
     ]
    }
   ],
   "source": [
    "ans7 = df[df['profit'] == df['profit'].min()][['title', 'id', 'profit']].values\n",
    "print(f'Самый убыточный фильм: \\033[1m\\033[30m{ans7[0][0]} ({ans7[0][1]})')"
   ]
  },
  {
   "cell_type": "markdown",
   "metadata": {
    "colab_type": "text",
    "id": "wEOM5ERVVp-6"
   },
   "source": [
    "# 8. У скольких фильмов из датасета объем сборов оказался выше бюджета?"
   ]
  },
  {
   "cell_type": "code",
   "execution_count": 28,
   "metadata": {},
   "outputs": [],
   "source": [
    "# Ответ на 8-й вопрос:\n",
    "\n",
    "answers['8'] = '1. 1478' # \"+\""
   ]
  },
  {
   "cell_type": "code",
   "execution_count": 29,
   "metadata": {
    "colab": {},
    "colab_type": "code",
    "id": "y00_7HD6Vp-7"
   },
   "outputs": [
    {
     "name": "stdout",
     "output_type": "stream",
     "text": [
      "У \u001b[1m\u001b[30m1478 \u001b[0mфильмов объем сборов оказался выше бюджета\n"
     ]
    }
   ],
   "source": [
    "# решение вопроса № 8:\n",
    "\n",
    "ans8 = df[df['revenue'] > df['budget']]['title'].count()\n",
    "print(f'У \\033[1m\\033[30m{ans8} \\033[0mфильмов объем сборов оказался выше бюджета')"
   ]
  },
  {
   "cell_type": "markdown",
   "metadata": {
    "colab_type": "text",
    "id": "xhpspA9KVp_A"
   },
   "source": [
    "# 9. Какой фильм оказался самым кассовым в 2008 году?"
   ]
  },
  {
   "cell_type": "code",
   "execution_count": 30,
   "metadata": {},
   "outputs": [],
   "source": [
    "# Ответ на 9-й вопрос:\n",
    "\n",
    "answers['9'] = '4. The Dark Knight (tt0468569)' # \"+\""
   ]
  },
  {
   "cell_type": "code",
   "execution_count": 31,
   "metadata": {
    "colab": {},
    "colab_type": "code",
    "id": "MoUyQr9RVp_B"
   },
   "outputs": [
    {
     "data": {
      "text/html": [
       "<div>\n",
       "<style scoped>\n",
       "    .dataframe tbody tr th:only-of-type {\n",
       "        vertical-align: middle;\n",
       "    }\n",
       "\n",
       "    .dataframe tbody tr th {\n",
       "        vertical-align: top;\n",
       "    }\n",
       "\n",
       "    .dataframe thead th {\n",
       "        text-align: right;\n",
       "    }\n",
       "</style>\n",
       "<table border=\"1\" class=\"dataframe\">\n",
       "  <thead>\n",
       "    <tr style=\"text-align: right;\">\n",
       "      <th></th>\n",
       "      <th>title</th>\n",
       "      <th>id</th>\n",
       "    </tr>\n",
       "  </thead>\n",
       "  <tbody>\n",
       "    <tr>\n",
       "      <th>599</th>\n",
       "      <td>The Dark Knight</td>\n",
       "      <td>tt0468569</td>\n",
       "    </tr>\n",
       "  </tbody>\n",
       "</table>\n",
       "</div>"
      ],
      "text/plain": [
       "               title         id\n",
       "599  The Dark Knight  tt0468569"
      ]
     },
     "execution_count": 31,
     "metadata": {},
     "output_type": "execute_result"
    }
   ],
   "source": [
    "# решение вопроса № 9:\n",
    "\n",
    "df9 = df[df['rel_year'] == 2008] # отбираем только 2008 год\n",
    "df9[df9['revenue'] == df9['revenue'].max()][['title', 'id']]"
   ]
  },
  {
   "cell_type": "code",
   "execution_count": 32,
   "metadata": {},
   "outputs": [
    {
     "name": "stdout",
     "output_type": "stream",
     "text": [
      "Фильм \u001b[1m\u001b[30mThe Dark Knight (tt0468569) \u001b[0m оказался самым кассовым в 2008 году\n"
     ]
    }
   ],
   "source": [
    "ans9 = df9[df9['revenue'] == df9['revenue'].max()][['title', 'id']].values\n",
    "print(f'Фильм \\033[1m\\033[30m{ans9[0][0]} ({ans9[0][1]}) \\033[0m \\\n",
    "оказался самым кассовым в 2008 году')"
   ]
  },
  {
   "cell_type": "markdown",
   "metadata": {
    "colab_type": "text",
    "id": "Zi4hDKidVp_F"
   },
   "source": [
    "# 10. Самый убыточный фильм за период с 2012 по 2014 г. (включительно)?\n"
   ]
  },
  {
   "cell_type": "code",
   "execution_count": 33,
   "metadata": {},
   "outputs": [],
   "source": [
    "# Ответ на 10-й вопрос:\n",
    "\n",
    "answers['10'] = '5. The Lone Ranger (tt1210819)' # \"+\""
   ]
  },
  {
   "cell_type": "code",
   "execution_count": 34,
   "metadata": {},
   "outputs": [
    {
     "data": {
      "text/html": [
       "<div>\n",
       "<style scoped>\n",
       "    .dataframe tbody tr th:only-of-type {\n",
       "        vertical-align: middle;\n",
       "    }\n",
       "\n",
       "    .dataframe tbody tr th {\n",
       "        vertical-align: top;\n",
       "    }\n",
       "\n",
       "    .dataframe thead th {\n",
       "        text-align: right;\n",
       "    }\n",
       "</style>\n",
       "<table border=\"1\" class=\"dataframe\">\n",
       "  <thead>\n",
       "    <tr style=\"text-align: right;\">\n",
       "      <th></th>\n",
       "      <th>title</th>\n",
       "      <th>id</th>\n",
       "      <th>profit</th>\n",
       "    </tr>\n",
       "  </thead>\n",
       "  <tbody>\n",
       "    <tr>\n",
       "      <th>1245</th>\n",
       "      <td>The Lone Ranger</td>\n",
       "      <td>tt1210819</td>\n",
       "      <td>-165710090</td>\n",
       "    </tr>\n",
       "  </tbody>\n",
       "</table>\n",
       "</div>"
      ],
      "text/plain": [
       "                title         id     profit\n",
       "1245  The Lone Ranger  tt1210819 -165710090"
      ]
     },
     "execution_count": 34,
     "metadata": {},
     "output_type": "execute_result"
    }
   ],
   "source": [
    "# решение вопроса № 10:\n",
    "\n",
    "df10 = df.query('rel_year in [2012, 2013, 2014]') # отбираем только года с 2012 по 2014 включительно\n",
    "df10[df10['profit'] == df10['profit'].min()][['title', 'id', 'profit']]"
   ]
  },
  {
   "cell_type": "code",
   "execution_count": 35,
   "metadata": {},
   "outputs": [
    {
     "name": "stdout",
     "output_type": "stream",
     "text": [
      "Фильм \u001b[1m\u001b[30mThe Lone Ranger (tt1210819) \u001b[0m оказался самым убыточным за период с 2012 по 2014 г. (включительно)\n"
     ]
    }
   ],
   "source": [
    "ans10 = df10[df10['profit'] == df10['profit'].min()][['title', 'id', 'profit']].values\n",
    "print(f'Фильм \\033[1m\\033[30m{ans10[0][0]} ({ans10[0][1]}) \\033[0m оказался самым \\\n",
    "убыточным за период с 2012 по 2014 г. (включительно)')"
   ]
  },
  {
   "cell_type": "markdown",
   "metadata": {
    "colab_type": "text",
    "id": "EA7Sa9dkVp_I"
   },
   "source": [
    "# 11. Какого жанра фильмов больше всего?"
   ]
  },
  {
   "cell_type": "code",
   "execution_count": 36,
   "metadata": {},
   "outputs": [],
   "source": [
    "# Ответ на 11-й вопрос:\n",
    "\n",
    "answers['11'] = '3. Drama' # \"+\""
   ]
  },
  {
   "cell_type": "code",
   "execution_count": 37,
   "metadata": {
    "colab": {},
    "colab_type": "code",
    "id": "zsJAwJ8QVp_J"
   },
   "outputs": [
    {
     "data": {
      "text/plain": [
       "'Drama'"
      ]
     },
     "execution_count": 37,
     "metadata": {},
     "output_type": "execute_result"
    }
   ],
   "source": [
    "# эту задачу тоже можно решать разными подходами, попробуй реализовать разные варианты\n",
    "# если будешь добавлять функцию - выноси ее в предобработку что в начале\n",
    "# решение вопроса № 11:\n",
    "\n",
    "df['genres'].str.split('|').explode().value_counts().index[0]"
   ]
  },
  {
   "cell_type": "code",
   "execution_count": 38,
   "metadata": {},
   "outputs": [
    {
     "name": "stdout",
     "output_type": "stream",
     "text": [
      "Фильмов с жанром \u001b[1m\u001b[30mDrama \u001b[0mбольше всего\n"
     ]
    }
   ],
   "source": [
    "ans11 = df['genres'].str.split('|').explode().value_counts().index[0]\n",
    "print(f'Фильмов с жанром \\033[1m\\033[30m{ans11} \\033[0mбольше всего')"
   ]
  },
  {
   "cell_type": "markdown",
   "metadata": {
    "colab_type": "text",
    "id": "Ax6g2C8SVp_M"
   },
   "source": [
    "ВАРИАНТ 2"
   ]
  },
  {
   "cell_type": "code",
   "execution_count": 39,
   "metadata": {},
   "outputs": [
    {
     "data": {
      "text/plain": [
       "'Drama'"
      ]
     },
     "execution_count": 39,
     "metadata": {},
     "output_type": "execute_result"
    }
   ],
   "source": [
    "# еще решение вопроса № 11:\n",
    "df11 = df.copy()\n",
    "# разделяем текст в столбце жанров на несколько строк (пользовательская функция)\n",
    "# explode_df\n",
    "df11_ = explode_df(df11, 'genres')\n",
    "df11_['genres'].value_counts().index[0]"
   ]
  },
  {
   "cell_type": "code",
   "execution_count": 40,
   "metadata": {},
   "outputs": [
    {
     "name": "stdout",
     "output_type": "stream",
     "text": [
      "Фильмов с жанром \u001b[1m\u001b[30mDrama \u001b[0mбольше всего\n"
     ]
    }
   ],
   "source": [
    "ans11_2 = df11_['genres'].value_counts().index[0]\n",
    "print(f'Фильмов с жанром \\033[1m\\033[30m{ans11_2} \\033[0mбольше всего')"
   ]
  },
  {
   "cell_type": "code",
   "execution_count": 41,
   "metadata": {
    "colab": {},
    "colab_type": "code",
    "id": "otO3SbrSVp_N"
   },
   "outputs": [
    {
     "name": "stdout",
     "output_type": "stream",
     "text": [
      "Фильмов с жанром \u001b[1m\u001b[30mDrama \u001b[0mбольше всего\n"
     ]
    }
   ],
   "source": [
    "# еще решение вопроса № 11:\n",
    "\n",
    "ans11_3 = Counter(df11_['genres']).most_common(1)\n",
    "print(f'Фильмов с жанром \\033[1m\\033[30m{ans11_3[0][0]} \\033[0mбольше всего')"
   ]
  },
  {
   "cell_type": "markdown",
   "metadata": {
    "colab_type": "text",
    "id": "T9_bPWpkVp_Q"
   },
   "source": [
    "# 12. Фильмы какого жанра чаще всего становятся прибыльными? "
   ]
  },
  {
   "cell_type": "code",
   "execution_count": 42,
   "metadata": {},
   "outputs": [],
   "source": [
    "# Ответ на 12-й вопрос:\n",
    "\n",
    "answers['12'] = '1. Drama' # \"+\""
   ]
  },
  {
   "cell_type": "code",
   "execution_count": 43,
   "metadata": {
    "colab": {},
    "colab_type": "code",
    "id": "Tmt8MaK1Vp_R"
   },
   "outputs": [
    {
     "data": {
      "text/plain": [
       "'Drama'"
      ]
     },
     "execution_count": 43,
     "metadata": {},
     "output_type": "execute_result"
    }
   ],
   "source": [
    "# решение вопроса № 12:\n",
    "# выделяем только прибыльные фильмы\n",
    "df12 = df[df['profit'] > 0][['genres']]\n",
    "\n",
    "# разделяем текст в столбце жанров на несколько строк (пользовательская функция)\n",
    "df12 = explode_df(df12, 'genres')\n",
    "\n",
    "# определим самый прибыльный жанр фильма \n",
    "df12['genres'].value_counts().index[0]"
   ]
  },
  {
   "cell_type": "code",
   "execution_count": 44,
   "metadata": {},
   "outputs": [
    {
     "name": "stdout",
     "output_type": "stream",
     "text": [
      "Фильмы жанра \u001b[1m\u001b[30mDrama\u001b[0m чаще всего становятся прибыльными\n"
     ]
    }
   ],
   "source": [
    "ans12 = df12['genres'].value_counts().index[0]\n",
    "print(f'Фильмы жанра \\033[1m\\033[30m{ans12}\\033[0m чаще всего становятся прибыльными')"
   ]
  },
  {
   "cell_type": "markdown",
   "metadata": {
    "colab_type": "text",
    "id": "0F23bgsDVp_U"
   },
   "source": [
    "# 13. У какого режиссера самые большие суммарные кассовые сборы?"
   ]
  },
  {
   "cell_type": "code",
   "execution_count": 45,
   "metadata": {},
   "outputs": [],
   "source": [
    "# Ответ на 13-й вопрос:\n",
    "\n",
    "answers['13'] = '5. Peter Jackson' # \"+\""
   ]
  },
  {
   "cell_type": "code",
   "execution_count": 46,
   "metadata": {
    "colab": {},
    "colab_type": "code",
    "id": "K6Z3J8ygVp_X"
   },
   "outputs": [
    {
     "data": {
      "text/plain": [
       "'Peter Jackson'"
      ]
     },
     "execution_count": 46,
     "metadata": {},
     "output_type": "execute_result"
    }
   ],
   "source": [
    "# решение вопроса № 13:\n",
    "# создаем DataFrame с данными по режиссерам\n",
    "df_dir = df.iloc[:,2:12:2].copy()\n",
    "\n",
    "# разделяем текст в столбце режиссеров на несколько строк (пользовательская функция)\n",
    "df13 = explode_df(df_dir, 'director')\n",
    "\n",
    "# группируя по режиссерам, суммируем кассовые сборы и находим режиссера\n",
    "# с наибольшими кассовыми сборами\n",
    "df13.groupby(['director'])['revenue'].sum().sort_values(ascending=False).index[0]"
   ]
  },
  {
   "cell_type": "code",
   "execution_count": 47,
   "metadata": {},
   "outputs": [
    {
     "name": "stdout",
     "output_type": "stream",
     "text": [
      "\u001b[1m\u001b[30mPeter Jackson \u001b[0m - это режиссер, у которого самые большие кассовые сборы\n"
     ]
    }
   ],
   "source": [
    "ans13 = df13.groupby(['director'])['revenue'].sum().\\\n",
    "                    sort_values(ascending=False).index[0]\n",
    "print(f'\\033[1m\\033[30m{ans13} \\033[0m - это режиссер, у которого самые \\\n",
    "большие кассовые сборы')"
   ]
  },
  {
   "cell_type": "markdown",
   "metadata": {
    "colab_type": "text",
    "id": "PsYC9FgRVp_a"
   },
   "source": [
    "# 14. Какой режисер снял больше всего фильмов в стиле Action?"
   ]
  },
  {
   "cell_type": "code",
   "execution_count": 48,
   "metadata": {},
   "outputs": [],
   "source": [
    "# Ответ на 14-й вопрос:\n",
    "\n",
    "answers['14'] = '3. Robert Rodriguez' # \"+\""
   ]
  },
  {
   "cell_type": "code",
   "execution_count": 49,
   "metadata": {
    "colab": {},
    "colab_type": "code",
    "id": "wd2M-wHeVp_b"
   },
   "outputs": [
    {
     "data": {
      "text/plain": [
       "'Robert Rodriguez'"
      ]
     },
     "execution_count": 49,
     "metadata": {},
     "output_type": "execute_result"
    }
   ],
   "source": [
    "# решение вопроса № 14:\n",
    "# берем DataFrame с данными по режиссерам на предыдущем шаге - df13\n",
    "\n",
    "# разделяем текст в столбце жанров на несколько строк (пользовательская функция)\n",
    "df14 = explode_df(df13, 'genres')\n",
    "\n",
    "# определяем режиссера, снявшего больше всего фильмов в жанре Action\n",
    "df14[df14['genres'] == 'Action']['director'].value_counts().index[0]"
   ]
  },
  {
   "cell_type": "code",
   "execution_count": 50,
   "metadata": {},
   "outputs": [
    {
     "name": "stdout",
     "output_type": "stream",
     "text": [
      "Режиссер \u001b[1m\u001b[30mRobert Rodriguez\u001b[0m снял больше всего фильмов в стиле Action\n"
     ]
    }
   ],
   "source": [
    "ans14 = df14[df14['genres'] == 'Action']['director'].value_counts().index[0]\n",
    "print(f'Режиссер \\033[1m\\033[30m{ans14}\\033[0m снял больше всего фильмов в стиле Action')"
   ]
  },
  {
   "cell_type": "markdown",
   "metadata": {
    "colab_type": "text",
    "id": "PQ0KciD7Vp_f"
   },
   "source": [
    "# 15. Фильмы с каким актером принесли самые высокие кассовые сборы в 2012 году? "
   ]
  },
  {
   "cell_type": "code",
   "execution_count": 51,
   "metadata": {},
   "outputs": [],
   "source": [
    "# Ответ на 15-й вопрос:\n",
    "\n",
    "answers['15'] = '3. Chris Hemsworth' # \"+\""
   ]
  },
  {
   "cell_type": "code",
   "execution_count": 52,
   "metadata": {
    "colab": {},
    "colab_type": "code",
    "id": "aga62oeKVp_g"
   },
   "outputs": [
    {
     "data": {
      "text/plain": [
       "'Chris Hemsworth'"
      ]
     },
     "execution_count": 52,
     "metadata": {},
     "output_type": "execute_result"
    }
   ],
   "source": [
    "# решение вопроса № 15:\n",
    "# создаем DataFrame с данными по актерам\n",
    "df_act = df.iloc[:,1:6].copy()\n",
    "df_act['genres'] = df['genres']\n",
    "df_act['rel_year'] = df['rel_year']\n",
    "\n",
    "# разделяем текст в столбце актеров на несколько строк (пользовательская функция)\n",
    "df15 = explode_df(df_act, 'cast')\n",
    "\n",
    "# выделяем фильмы, вышедшие в прокат в 2012\n",
    "df15 = df15[df15['rel_year'] == 2012]\n",
    "\n",
    "# группируя по актерам, суммируем кассовые сборы и находим актера,\n",
    "# фильмы c которым были с наибольшими кассовыми сборами\n",
    "df15.groupby(['cast'])['revenue'].sum().sort_values(ascending=False).index[0]"
   ]
  },
  {
   "cell_type": "code",
   "execution_count": 53,
   "metadata": {},
   "outputs": [
    {
     "name": "stdout",
     "output_type": "stream",
     "text": [
      "Фильмы с актером \u001b[1m\u001b[30mChris Hemsworth\u001b[0m принесли самые высокие кассовые сборы в 2012 году\n"
     ]
    }
   ],
   "source": [
    "ans15 = df15.groupby(['cast'])['revenue'].sum().sort_values(ascending=False).index[0]\n",
    "print(f'Фильмы с актером \\033[1m\\033[30m{ans15}\\033[0m принесли самые высокие кассовые \\\n",
    "сборы в 2012 году')"
   ]
  },
  {
   "cell_type": "markdown",
   "metadata": {
    "colab_type": "text",
    "id": "mWHyyL7QVp_j"
   },
   "source": [
    "# 16. Какой актер снялся в большем количестве высокобюджетных фильмов?"
   ]
  },
  {
   "cell_type": "code",
   "execution_count": 54,
   "metadata": {},
   "outputs": [],
   "source": [
    "# Ответ на 16-й вопрос:\n",
    "\n",
    "answers['16'] = '3. Matt Damon' # \"+\""
   ]
  },
  {
   "cell_type": "code",
   "execution_count": 55,
   "metadata": {
    "colab": {},
    "colab_type": "code",
    "id": "qQtmHKTFVp_k"
   },
   "outputs": [
    {
     "data": {
      "text/plain": [
       "'Matt Damon'"
      ]
     },
     "execution_count": 55,
     "metadata": {},
     "output_type": "execute_result"
    }
   ],
   "source": [
    "# решение вопроса № 16:\n",
    "# берем DataFrame с данными по актерам на предыдущем шаге - df_act\n",
    "\n",
    "# разделяем текст в столбце актеров на несколько строк (пользовательская функция)\n",
    "df16 = explode_df(df_act, 'cast')\n",
    "\n",
    "df16[df16['budget'] > df16['budget'].mean()]['cast'].value_counts().index[0]"
   ]
  },
  {
   "cell_type": "code",
   "execution_count": 56,
   "metadata": {},
   "outputs": [
    {
     "name": "stdout",
     "output_type": "stream",
     "text": [
      "Актер \u001b[1m\u001b[30mMatt Damon\u001b[0m снялся в большем количестве высокобюджетных фильмов\n"
     ]
    }
   ],
   "source": [
    "ans16 = df16[df16['budget'] > df16['budget'].mean()]['cast'].value_counts().index[0]\n",
    "print(f'Актер \\033[1m\\033[30m{ans16}\\033[0m снялся в большем количестве высокобюджетных \\\n",
    "фильмов')"
   ]
  },
  {
   "cell_type": "markdown",
   "metadata": {
    "colab_type": "text",
    "id": "NIh6AaW5Vp_n"
   },
   "source": [
    "# 17. В фильмах какого жанра больше всего снимался Nicolas Cage? "
   ]
  },
  {
   "cell_type": "code",
   "execution_count": 57,
   "metadata": {},
   "outputs": [],
   "source": [
    "# Ответ на 17-й вопрос:\n",
    "\n",
    "answers['17'] = '2. Action' # \"+\""
   ]
  },
  {
   "cell_type": "code",
   "execution_count": 58,
   "metadata": {
    "colab": {},
    "colab_type": "code",
    "id": "H74SJDIBVp_n"
   },
   "outputs": [
    {
     "data": {
      "text/plain": [
       "'Action'"
      ]
     },
     "execution_count": 58,
     "metadata": {},
     "output_type": "execute_result"
    }
   ],
   "source": [
    "# решение вопроса № 17:\n",
    "# берем DataFrame с данными по актерам на предыдущем шаге - df16\n",
    "\n",
    "# разделяем текст в столбце жанров на несколько строк (пользовательская функция)\n",
    "df17 = explode_df(df16, 'genres')\n",
    "\n",
    "df17[df17['cast'] == 'Nicolas Cage']['genres'].value_counts().index[0]"
   ]
  },
  {
   "cell_type": "code",
   "execution_count": 59,
   "metadata": {},
   "outputs": [
    {
     "name": "stdout",
     "output_type": "stream",
     "text": [
      "В фильмах жанра \u001b[1m\u001b[30mAction\u001b[0m больше всего снимался Nicolas Cage\n"
     ]
    }
   ],
   "source": [
    "ans17 = df17[df17['cast'] == 'Nicolas Cage']['genres'].value_counts().index[0]\n",
    "print(f'В фильмах жанра \\033[1m\\033[30m{ans17}\\033[0m больше всего снимался Nicolas Cage')"
   ]
  },
  {
   "cell_type": "markdown",
   "metadata": {
    "colab_type": "text",
    "id": "RqOmPRfWVp_q"
   },
   "source": [
    "# 18. Самый убыточный фильм от Paramount Pictures"
   ]
  },
  {
   "cell_type": "code",
   "execution_count": 60,
   "metadata": {},
   "outputs": [],
   "source": [
    "# Ответ на 18-й вопрос:\n",
    "\n",
    "answers['18'] = '1. K-19: The Widowmaker (tt0267626)' # \"+\""
   ]
  },
  {
   "cell_type": "code",
   "execution_count": 61,
   "metadata": {
    "colab": {},
    "colab_type": "code",
    "id": "9E_B0Y96Vp_r"
   },
   "outputs": [
    {
     "data": {
      "text/html": [
       "<div>\n",
       "<style scoped>\n",
       "    .dataframe tbody tr th:only-of-type {\n",
       "        vertical-align: middle;\n",
       "    }\n",
       "\n",
       "    .dataframe tbody tr th {\n",
       "        vertical-align: top;\n",
       "    }\n",
       "\n",
       "    .dataframe thead th {\n",
       "        text-align: right;\n",
       "    }\n",
       "</style>\n",
       "<table border=\"1\" class=\"dataframe\">\n",
       "  <thead>\n",
       "    <tr style=\"text-align: right;\">\n",
       "      <th></th>\n",
       "      <th>title</th>\n",
       "      <th>id</th>\n",
       "    </tr>\n",
       "  </thead>\n",
       "  <tbody>\n",
       "    <tr>\n",
       "      <th>925</th>\n",
       "      <td>K-19: The Widowmaker</td>\n",
       "      <td>tt0267626</td>\n",
       "    </tr>\n",
       "  </tbody>\n",
       "</table>\n",
       "</div>"
      ],
      "text/plain": [
       "                    title         id\n",
       "925  K-19: The Widowmaker  tt0267626"
      ]
     },
     "execution_count": 61,
     "metadata": {},
     "output_type": "execute_result"
    }
   ],
   "source": [
    "# решение вопроса № 18:\n",
    "# создаем DataFrame с данными по киностудиям\n",
    "df_comp = df.iloc[:,:12].copy()\n",
    "df_comp['rel_year'] = df['rel_year']\n",
    "\n",
    "# разделяем текст в столбце киностудий на несколько строк (пользовательская функция)\n",
    "df18 = explode_df(df_comp, 'prod_comp')\n",
    "\n",
    "# из компаний оставляем только Paramount Pictures\n",
    "df18_ = df18[df18['prod_comp'] == 'Paramount Pictures']\n",
    "\n",
    "# выбираем самый убыточный фильм\n",
    "df18_[df18_['profit'] == df18_['profit'].min()][['title', 'id']]"
   ]
  },
  {
   "cell_type": "code",
   "execution_count": 62,
   "metadata": {},
   "outputs": [
    {
     "name": "stdout",
     "output_type": "stream",
     "text": [
      "Фильм \u001b[1m\u001b[30mK-19: The Widowmaker (tt0267626) \u001b[0m оказался самым убыточным фильмом Paramount Pictures\n"
     ]
    }
   ],
   "source": [
    "ans18 = df18_[df18_['profit'] == df18_['profit'].min()][['title', 'id']].values\n",
    "print(f'Фильм \\033[1m\\033[30m{ans18[0][0]} ({ans18[0][1]}) \\033[0m оказался самым \\\n",
    "убыточным фильмом Paramount Pictures')"
   ]
  },
  {
   "cell_type": "markdown",
   "metadata": {
    "colab_type": "text",
    "id": "vS8Ur6ddVp_u"
   },
   "source": [
    "# 19. Какой год стал самым успешным по суммарным кассовым сборам?"
   ]
  },
  {
   "cell_type": "code",
   "execution_count": 63,
   "metadata": {},
   "outputs": [],
   "source": [
    "# Ответ на 19-й вопрос:\n",
    "\n",
    "answers['19'] = '5. 2015' # \"+\""
   ]
  },
  {
   "cell_type": "code",
   "execution_count": 64,
   "metadata": {},
   "outputs": [
    {
     "name": "stdout",
     "output_type": "stream",
     "text": [
      "\u001b[1m\u001b[30m2015 \u001b[0mстал самым успешным по суммарным кассовым сборам\n"
     ]
    }
   ],
   "source": [
    "# решение вопроса № 19:\n",
    "\n",
    "ans19 = df.groupby('rel_year')['revenue'].sum().sort_values(ascending=False).index[0]\n",
    "print(f'\\033[1m\\033[30m{ans19} \\033[0mстал самым успешным по суммарным кассовым сборам')"
   ]
  },
  {
   "cell_type": "markdown",
   "metadata": {
    "colab_type": "text",
    "id": "JAzJh4QAVp_z"
   },
   "source": [
    "# 20. Какой самый прибыльный год для студии Warner Bros?"
   ]
  },
  {
   "cell_type": "code",
   "execution_count": 65,
   "metadata": {},
   "outputs": [],
   "source": [
    "# Ответ на 20-й вопрос:\n",
    "\n",
    "answers['20'] = '1. 2014' # \"+\""
   ]
  },
  {
   "cell_type": "code",
   "execution_count": 66,
   "metadata": {
    "colab": {},
    "colab_type": "code",
    "id": "wgVu02DEVp_0"
   },
   "outputs": [
    {
     "name": "stdout",
     "output_type": "stream",
     "text": [
      "\u001b[1m\u001b[30m2014 \u001b[0mсамый прибыльный год для студии Warner Bros\n"
     ]
    }
   ],
   "source": [
    "# решение вопроса № 20:\n",
    "\n",
    "# берем DataFrame с данными по студиями на вопросе № 18 - df18\n",
    "# ищем вхождение Warner Bros,группируем по году выхода, суммируем кассовые сборы по годам,\n",
    "# находим самый прибыльный год\n",
    "ans20 = df18[df18.prod_comp.str.contains('Warner Bros')].groupby('rel_year')\\\n",
    "                    ['revenue'].sum().sort_values(ascending=False).index[0]\n",
    "print(f'\\033[1m\\033[30m{ans20} \\033[0mсамый прибыльный год для студии Warner Bros')"
   ]
  },
  {
   "cell_type": "markdown",
   "metadata": {
    "colab_type": "text",
    "id": "8Im1S2HRVp_4"
   },
   "source": [
    "# 21. В каком месяце за все годы суммарно вышло больше всего фильмов?"
   ]
  },
  {
   "cell_type": "code",
   "execution_count": 67,
   "metadata": {},
   "outputs": [],
   "source": [
    "# Ответ на 21-й вопрос:\n",
    "\n",
    "answers['21'] = '4. Сентябрь' # \"+\""
   ]
  },
  {
   "cell_type": "code",
   "execution_count": 68,
   "metadata": {
    "colab": {},
    "colab_type": "code",
    "id": "lev6TH7gVp_4"
   },
   "outputs": [
    {
     "name": "stdout",
     "output_type": "stream",
     "text": [
      "В *\u001b[1m\u001b[30mсентябре* \u001b[0mза все годы суммарно вышло больше всего фильмов\n"
     ]
    }
   ],
   "source": [
    "# решение вопроса № 21:\n",
    "\n",
    "# группируем данные по месяцам, просчитывая количество вышедших в прокат фильмов\n",
    "ans21 = df.groupby(['month'])['title'].count().sort_values(ascending=False).index[0]\n",
    "print(f'В *\\033[1m\\033[30mс{ans21[1:-1]}е* \\033[0mза все годы суммарно вышло больше всего фильмов')"
   ]
  },
  {
   "cell_type": "markdown",
   "metadata": {
    "colab_type": "text",
    "id": "uAJsZ_NeVp_7"
   },
   "source": [
    "# 22. Сколько суммарно вышло фильмов летом? (за июнь, июль, август)"
   ]
  },
  {
   "cell_type": "code",
   "execution_count": 69,
   "metadata": {},
   "outputs": [],
   "source": [
    "# Ответ на 22-й вопрос:\n",
    "\n",
    "answers['22'] = '2. 450' # \"+\""
   ]
  },
  {
   "cell_type": "code",
   "execution_count": 70,
   "metadata": {
    "colab": {},
    "colab_type": "code",
    "id": "Aa-hEREoVp_8"
   },
   "outputs": [
    {
     "name": "stdout",
     "output_type": "stream",
     "text": [
      "Летом (за июнь, июль, август) суммарно вышло \u001b[1m\u001b[30m450 \u001b[0mфильмов\n"
     ]
    }
   ],
   "source": [
    "# решение вопроса № 22:\n",
    "\n",
    "ans22 = df.query('month in [\"Июнь\", \"Июль\", \"Август\"]')['title'].count()\n",
    "print(f'Летом (за июнь, июль, август) суммарно вышло \\033[1m\\033[30m{ans22} \\033[0mфильмов')"
   ]
  },
  {
   "cell_type": "markdown",
   "metadata": {
    "colab_type": "text",
    "id": "G94ppOY1VqAA"
   },
   "source": [
    "# 23. Для какого режиссера зима – самое продуктивное время года? "
   ]
  },
  {
   "cell_type": "code",
   "execution_count": 71,
   "metadata": {},
   "outputs": [],
   "source": [
    "# Ответ на 23-й вопрос:\n",
    "\n",
    "answers['23'] = '5. Peter Jackson' # \"+\""
   ]
  },
  {
   "cell_type": "code",
   "execution_count": 72,
   "metadata": {
    "colab": {},
    "colab_type": "code",
    "id": "RhNTsamuVqAB"
   },
   "outputs": [
    {
     "data": {
      "text/html": [
       "<div>\n",
       "<style scoped>\n",
       "    .dataframe tbody tr th:only-of-type {\n",
       "        vertical-align: middle;\n",
       "    }\n",
       "\n",
       "    .dataframe tbody tr th {\n",
       "        vertical-align: top;\n",
       "    }\n",
       "\n",
       "    .dataframe thead th {\n",
       "        text-align: right;\n",
       "    }\n",
       "</style>\n",
       "<table border=\"1\" class=\"dataframe\">\n",
       "  <thead>\n",
       "    <tr style=\"text-align: right;\">\n",
       "      <th>month</th>\n",
       "      <th>Декабрь</th>\n",
       "      <th>Февраль</th>\n",
       "      <th>Январь</th>\n",
       "      <th>winter</th>\n",
       "    </tr>\n",
       "    <tr>\n",
       "      <th>director</th>\n",
       "      <th></th>\n",
       "      <th></th>\n",
       "      <th></th>\n",
       "      <th></th>\n",
       "    </tr>\n",
       "  </thead>\n",
       "  <tbody>\n",
       "    <tr>\n",
       "      <th>Peter Jackson</th>\n",
       "      <td>7.0</td>\n",
       "      <td>NaN</td>\n",
       "      <td>NaN</td>\n",
       "      <td>7.0</td>\n",
       "    </tr>\n",
       "  </tbody>\n",
       "</table>\n",
       "</div>"
      ],
      "text/plain": [
       "month          Декабрь  Февраль  Январь  winter\n",
       "director                                       \n",
       "Peter Jackson      7.0      NaN     NaN     7.0"
      ]
     },
     "execution_count": 72,
     "metadata": {},
     "output_type": "execute_result"
    }
   ],
   "source": [
    "# решение вопроса № 23:\n",
    "# 1-й вариант\n",
    "df23 = df.copy()\n",
    "\n",
    "# разделяем текст в столбце режиссеров на несколько строк (пользовательская функция)\n",
    "df23_ = explode_df(df23, 'director')\n",
    "\n",
    "# группируем по режиссерам и месяцам с подсчетом кол-ва фильмов\n",
    "df_col = df23_.groupby(['director', 'month'])['title'].count().unstack()\\\n",
    "                .drop(['Март', 'Апрель', 'Май', 'Июнь', 'Июль', 'Август', \\\n",
    "                       'Сентябрь', 'Октябрь', 'Ноябрь'], axis=1)     \n",
    "\n",
    "# добавляем новый столбец, содержащий cумму фильмов за 3 зимних месяца\n",
    "df_col['winter'] = df_col[['Декабрь','Январь','Февраль']].sum(axis=1)\n",
    "df_col[df_col['winter'] == df_col['winter'].max()]"
   ]
  },
  {
   "cell_type": "code",
   "execution_count": 73,
   "metadata": {},
   "outputs": [
    {
     "name": "stdout",
     "output_type": "stream",
     "text": [
      "Для \u001b[1m\u001b[30mPeter Jackson \u001b[0mзима – самое продуктивное время года\n"
     ]
    }
   ],
   "source": [
    "ans23 = df_col[df_col['winter'] == df_col['winter'].max()].index\n",
    "print(f'Для \\033[1m\\033[30m{ans23[0]} \\033[0mзима – самое продуктивное время года')"
   ]
  },
  {
   "cell_type": "code",
   "execution_count": 75,
   "metadata": {},
   "outputs": [
    {
     "data": {
      "text/plain": [
       "'Peter Jackson'"
      ]
     },
     "execution_count": 75,
     "metadata": {},
     "output_type": "execute_result"
    }
   ],
   "source": [
    "# решение вопроса № 23:\n",
    "# 2-й вариант\n",
    "df_23 = df.copy()\n",
    "\n",
    "# разделяем текст в столбце режиссеров на несколько строк (пользовательская функция)\n",
    "df23_2 = explode_df(df_23, 'director')\n",
    "\n",
    "# в новом DataFrame отбираем зимние месяцы, группируем по режиссерам и подсчитываем значения\n",
    "df_= df23_2[df23_2['rel_date'].dt.month.isin([1, 2, 12,])]\n",
    "df_col2 = df_.groupby(['director']).count()\n",
    "\n",
    "# определяем режиссера с максимальным количеством вышедших фильмов\n",
    "df_col2[df_col2['title'] == df_col2['title'].max()].index[0]"
   ]
  },
  {
   "cell_type": "code",
   "execution_count": 76,
   "metadata": {},
   "outputs": [
    {
     "name": "stdout",
     "output_type": "stream",
     "text": [
      "Для \u001b[1m\u001b[30mPeter Jackson \u001b[0mзима – самое продуктивное время года\n"
     ]
    }
   ],
   "source": [
    "ans23_2 = df_col2[df_col2['title'] == df_col2['title'].max()].index[0]\n",
    "print(f'Для \\033[1m\\033[30m{ans23_2} \\033[0mзима – самое продуктивное время года')"
   ]
  },
  {
   "cell_type": "markdown",
   "metadata": {
    "colab_type": "text",
    "id": "RBo0JVjVVqAF"
   },
   "source": [
    "# 24. Какая студия дает самые длинные названия своим фильмам по количеству символов?"
   ]
  },
  {
   "cell_type": "code",
   "execution_count": 77,
   "metadata": {},
   "outputs": [],
   "source": [
    "# Ответ на 24-й вопрос:\n",
    "\n",
    "answers['24'] = '5. Four By Two Productions' # \"+\""
   ]
  },
  {
   "cell_type": "code",
   "execution_count": 78,
   "metadata": {
    "colab": {},
    "colab_type": "code",
    "id": "QRGS8L0iVqAG"
   },
   "outputs": [
    {
     "data": {
      "text/plain": [
       "'Four By Two Productions'"
      ]
     },
     "execution_count": 78,
     "metadata": {},
     "output_type": "execute_result"
    }
   ],
   "source": [
    "# решение вопроса № 24:\n",
    "\n",
    "# создаем DataFrame с данными по киностудиям\n",
    "df24 = df[['prod_comp', 'title', 'view']].copy()\n",
    "\n",
    "# разделяем текст в столбце киностудий на несколько строк (пользовательская функция)\n",
    "df24 = explode_df(df24, 'prod_comp')\n",
    "\n",
    "# добавляем столбец с длиной названия фильма\n",
    "df24['title_len'] = df24['title'].apply(lambda title:len(title))\n",
    "\n",
    "#находим студию, которая дает фильмам длинные названия\n",
    "df24.groupby(['prod_comp'])['title_len'].mean().sort_values(ascending=False).index[0]"
   ]
  },
  {
   "cell_type": "code",
   "execution_count": 79,
   "metadata": {},
   "outputs": [
    {
     "name": "stdout",
     "output_type": "stream",
     "text": [
      "Студия \u001b[1m\u001b[30mFour By Two Productions \u001b[0mдает самые длинные названия своим фильмам по количеству символов\n"
     ]
    }
   ],
   "source": [
    "ans24 = df24.groupby(['prod_comp'])['title_len'].mean().sort_values(ascending=False)\\\n",
    "                                                                            .index[0]\n",
    "print(f'Студия \\033[1m\\033[30m{ans24} \\033[0mдает самые длинные названия своим \\\n",
    "фильмам по количеству символов')"
   ]
  },
  {
   "cell_type": "markdown",
   "metadata": {
    "colab_type": "text",
    "id": "9G0hbvR7VqAK"
   },
   "source": [
    "# 25. Описание фильмов какой студии в среднем самые длинные по количеству слов?"
   ]
  },
  {
   "cell_type": "code",
   "execution_count": 80,
   "metadata": {},
   "outputs": [],
   "source": [
    "# Ответ на 25-й вопрос:\n",
    "\n",
    "answers['25'] = '3. Midnight Picture Show' # \"+\""
   ]
  },
  {
   "cell_type": "code",
   "execution_count": 81,
   "metadata": {
    "colab": {},
    "colab_type": "code",
    "id": "Ge2GsLNxVqAK"
   },
   "outputs": [
    {
     "data": {
      "text/plain": [
       "'Midnight Picture Show'"
      ]
     },
     "execution_count": 81,
     "metadata": {},
     "output_type": "execute_result"
    }
   ],
   "source": [
    "# решение вопроса № 25:\n",
    "\n",
    "# берем DataFrame с предыдущего вопроса df24\n",
    "# добавляем столбец с длиной описания фильма, ислючая пробелы\n",
    "df24['view_len'] = df24['view'].apply(lambda view:len(view.split(' ')))\n",
    "\n",
    "#находим студию, у которой самые длинные описания фильмов\n",
    "df24.groupby(['prod_comp'])['view_len'].mean().sort_values(ascending=False).index[0]"
   ]
  },
  {
   "cell_type": "code",
   "execution_count": 82,
   "metadata": {},
   "outputs": [
    {
     "name": "stdout",
     "output_type": "stream",
     "text": [
      "У студии \u001b[1m\u001b[30mMidnight Picture Show \u001b[0mописание фильмов в среднем самые длинные по количеству слов\n"
     ]
    }
   ],
   "source": [
    "ans25 = df24.groupby(['prod_comp'])['view_len'].mean().sort_values(ascending=False)\\\n",
    "                                                                           .index[0]\n",
    "print(f'У студии \\033[1m\\033[30m{ans25} \\033[0mописание фильмов в среднем самые \\\n",
    "длинные по количеству слов')"
   ]
  },
  {
   "cell_type": "markdown",
   "metadata": {
    "colab_type": "text",
    "id": "FJ1AFt90VqAP"
   },
   "source": [
    "# 26. Какие фильмы входят в 1 процент лучших по рейтингу? \n",
    "по vote_average"
   ]
  },
  {
   "cell_type": "code",
   "execution_count": 83,
   "metadata": {},
   "outputs": [],
   "source": [
    "# Ответ на 26-й вопрос:\n",
    "\n",
    "answers['26'] = '1. Inside Out, The Dark Knight, 12 Years a Slave' # \"+\""
   ]
  },
  {
   "cell_type": "code",
   "execution_count": 84,
   "metadata": {
    "colab": {},
    "colab_type": "code",
    "id": "8qmJVq4CVqAQ"
   },
   "outputs": [
    {
     "data": {
      "text/html": [
       "<div>\n",
       "<style scoped>\n",
       "    .dataframe tbody tr th:only-of-type {\n",
       "        vertical-align: middle;\n",
       "    }\n",
       "\n",
       "    .dataframe tbody tr th {\n",
       "        vertical-align: top;\n",
       "    }\n",
       "\n",
       "    .dataframe thead th {\n",
       "        text-align: right;\n",
       "    }\n",
       "</style>\n",
       "<table border=\"1\" class=\"dataframe\">\n",
       "  <thead>\n",
       "    <tr style=\"text-align: right;\">\n",
       "      <th></th>\n",
       "      <th>title</th>\n",
       "      <th>vote_aver</th>\n",
       "    </tr>\n",
       "  </thead>\n",
       "  <tbody>\n",
       "    <tr>\n",
       "      <th>599</th>\n",
       "      <td>The Dark Knight</td>\n",
       "      <td>8.1</td>\n",
       "    </tr>\n",
       "    <tr>\n",
       "      <th>9</th>\n",
       "      <td>Inside Out</td>\n",
       "      <td>8.0</td>\n",
       "    </tr>\n",
       "    <tr>\n",
       "      <th>34</th>\n",
       "      <td>Room</td>\n",
       "      <td>8.0</td>\n",
       "    </tr>\n",
       "    <tr>\n",
       "      <th>118</th>\n",
       "      <td>Interstellar</td>\n",
       "      <td>8.0</td>\n",
       "    </tr>\n",
       "    <tr>\n",
       "      <th>125</th>\n",
       "      <td>The Imitation Game</td>\n",
       "      <td>8.0</td>\n",
       "    </tr>\n",
       "    <tr>\n",
       "      <th>119</th>\n",
       "      <td>Guardians of the Galaxy</td>\n",
       "      <td>7.9</td>\n",
       "    </tr>\n",
       "    <tr>\n",
       "      <th>128</th>\n",
       "      <td>Gone Girl</td>\n",
       "      <td>7.9</td>\n",
       "    </tr>\n",
       "    <tr>\n",
       "      <th>138</th>\n",
       "      <td>The Grand Budapest Hotel</td>\n",
       "      <td>7.9</td>\n",
       "    </tr>\n",
       "    <tr>\n",
       "      <th>370</th>\n",
       "      <td>Inception</td>\n",
       "      <td>7.9</td>\n",
       "    </tr>\n",
       "    <tr>\n",
       "      <th>872</th>\n",
       "      <td>The Pianist</td>\n",
       "      <td>7.9</td>\n",
       "    </tr>\n",
       "    <tr>\n",
       "      <th>1081</th>\n",
       "      <td>The Lord of the Rings: The Return of the King</td>\n",
       "      <td>7.9</td>\n",
       "    </tr>\n",
       "    <tr>\n",
       "      <th>1183</th>\n",
       "      <td>The Wolf of Wall Street</td>\n",
       "      <td>7.9</td>\n",
       "    </tr>\n",
       "    <tr>\n",
       "      <th>1191</th>\n",
       "      <td>12 Years a Slave</td>\n",
       "      <td>7.9</td>\n",
       "    </tr>\n",
       "    <tr>\n",
       "      <th>1800</th>\n",
       "      <td>Memento</td>\n",
       "      <td>7.9</td>\n",
       "    </tr>\n",
       "  </tbody>\n",
       "</table>\n",
       "</div>"
      ],
      "text/plain": [
       "                                              title  vote_aver\n",
       "599                                 The Dark Knight        8.1\n",
       "9                                        Inside Out        8.0\n",
       "34                                             Room        8.0\n",
       "118                                    Interstellar        8.0\n",
       "125                              The Imitation Game        8.0\n",
       "119                         Guardians of the Galaxy        7.9\n",
       "128                                       Gone Girl        7.9\n",
       "138                        The Grand Budapest Hotel        7.9\n",
       "370                                       Inception        7.9\n",
       "872                                     The Pianist        7.9\n",
       "1081  The Lord of the Rings: The Return of the King        7.9\n",
       "1183                        The Wolf of Wall Street        7.9\n",
       "1191                               12 Years a Slave        7.9\n",
       "1800                                        Memento        7.9"
      ]
     },
     "execution_count": 84,
     "metadata": {},
     "output_type": "execute_result"
    }
   ],
   "source": [
    "# решение вопроса № 26:\n",
    "\n",
    "# создаем DataFrame с данными по рейтингу фильмов\n",
    "df26 = df[['title', 'vote_aver']].copy()\n",
    "\n",
    "# оставляем только фильмы с рейтингом 99%\n",
    "df26_ = df26[df26['vote_aver'] > df26['vote_aver'].quantile(q=0.99)].\\\n",
    "                        sort_values(by=['vote_aver'], ascending=False)\n",
    "df26_"
   ]
  },
  {
   "cell_type": "code",
   "execution_count": 85,
   "metadata": {},
   "outputs": [
    {
     "name": "stdout",
     "output_type": "stream",
     "text": [
      "В 1 процент лучших по рейтингу фильмов входят фильмы:\n",
      "- \u001b[1m\u001b[30mThe Dark Knight  \u001b[0mс рейтингом \u001b[1m\u001b[30m8.1\n",
      "- \u001b[1m\u001b[30mInside Out       \u001b[0mс рейтингом \u001b[1m\u001b[30m8.0\n",
      "- \u001b[1m\u001b[30m12 Years a Slave \u001b[0mс рейтингом \u001b[1m\u001b[30m7.9\n"
     ]
    }
   ],
   "source": [
    "ans26 = df26_\n",
    "print(f'В 1 процент лучших по рейтингу фильмов входят фильмы:')\n",
    "print(f'- \\033[1m\\033[30m{ans26.iloc[0][0]}  \\033[0mс рейтингом \\033[1m\\033[30m{ans26.iloc[0][1]}')\n",
    "print(f'- \\033[1m\\033[30m{ans26.iloc[1][0]}       \\033[0mс рейтингом \\033[1m\\033[30m{ans26.iloc[1][1]}')\n",
    "print(f'- \\033[1m\\033[30m{ans26.iloc[12][0]} \\033[0mс рейтингом \\033[1m\\033[30m{ans26.iloc[12][1]}')"
   ]
  },
  {
   "cell_type": "markdown",
   "metadata": {
    "colab_type": "text",
    "id": "MdXsUXbCVqAV"
   },
   "source": [
    "# 27. Какие актеры чаще всего снимаются в одном фильме вместе?\n"
   ]
  },
  {
   "cell_type": "code",
   "execution_count": 86,
   "metadata": {},
   "outputs": [],
   "source": [
    "# Ответ на 27-й вопрос:\n",
    "\n",
    "answers['27'] = '5. Daniel Radcliffe & Rupert Grint ' # \"+\""
   ]
  },
  {
   "cell_type": "code",
   "execution_count": 89,
   "metadata": {},
   "outputs": [
    {
     "data": {
      "text/plain": [
       "[(('Daniel Radcliffe', 'Rupert Grint'), 8),\n",
       " (('Daniel Radcliffe', 'Emma Watson'), 8),\n",
       " (('Rupert Grint', 'Emma Watson'), 7)]"
      ]
     },
     "execution_count": 89,
     "metadata": {},
     "output_type": "execute_result"
    }
   ],
   "source": [
    "# решение вопроса № 27:\n",
    "\n",
    "# разделяем текст в каждой строке столбца артистов,\n",
    "# находим комбинации сочетаний артистов по парам без повторений\n",
    "pairs = Counter()\n",
    "for i in range(0, len(df)):\n",
    "    artist = df.cast[i].split('|')\n",
    "    for j in list(combinations(artist, 2)):\n",
    "        if j not in pairs:\n",
    "            pairs[j] = 1\n",
    "        else:\n",
    "            pairs[j] +=1\n",
    "pairs.most_common(3)"
   ]
  },
  {
   "cell_type": "code",
   "execution_count": 90,
   "metadata": {},
   "outputs": [
    {
     "name": "stdout",
     "output_type": "stream",
     "text": [
      "\u001b[1m\u001b[30mDaniel Radcliffe \u001b[0mвместе с \u001b[1m\u001b[30mRupert Grint\u001b[0mснимались в одних фильмах \u001b[1m\u001b[30m8 раз\n"
     ]
    }
   ],
   "source": [
    "ans27 = pairs.most_common(3)[0]\n",
    "print(f'\\033[1m\\033[30m{ans27[0][0]} \\033[0mвместе с \\033[1m\\033[30m{ans27[0][1]}\\\n",
    "\\033[0mснимались в одних фильмах \\033[1m\\033[30m{ans27[1]} раз')"
   ]
  },
  {
   "cell_type": "markdown",
   "metadata": {
    "colab_type": "text",
    "id": "4ymnxEVoVqAW"
   },
   "source": [
    "ВАРИАНТ 2"
   ]
  },
  {
   "cell_type": "markdown",
   "metadata": {
    "colab_type": "text",
    "id": "U0nONFnGVqAX"
   },
   "source": [
    "# Submission"
   ]
  },
  {
   "cell_type": "code",
   "execution_count": 91,
   "metadata": {
    "colab": {},
    "colab_type": "code",
    "id": "IfcaRO9-VqAX",
    "outputId": "0f132912-32bb-4196-c98c-abfbc4ad5a5f"
   },
   "outputs": [
    {
     "data": {
      "text/plain": [
       "{'1': '5. Pirates of the Caribbean: On Stranger Tides (tt1298650)',\n",
       " '2': '2. Gods and Generals (tt0279111)',\n",
       " '3': '3. Winnie the Pooh (tt1449283)',\n",
       " '4': '2. 110',\n",
       " '5': '1. 107',\n",
       " '6': '5. Avatar (tt0499549)',\n",
       " '7': '5. The Lone Ranger (tt1210819)',\n",
       " '8': '1. 1478',\n",
       " '9': '4. The Dark Knight (tt0468569)',\n",
       " '10': '5. The Lone Ranger (tt1210819)',\n",
       " '11': '3. Drama',\n",
       " '12': '1. Drama',\n",
       " '13': '5. Peter Jackson',\n",
       " '14': '3. Robert Rodriguez',\n",
       " '15': '3. Chris Hemsworth',\n",
       " '16': '3. Matt Damon',\n",
       " '17': '2. Action',\n",
       " '18': '1. K-19: The Widowmaker (tt0267626)',\n",
       " '19': '5. 2015',\n",
       " '20': '1. 2014',\n",
       " '21': '4. Сентябрь',\n",
       " '22': '2. 450',\n",
       " '23': '5. Peter Jackson',\n",
       " '24': '5. Four By Two Productions',\n",
       " '25': '3. Midnight Picture Show',\n",
       " '26': '1. Inside Out, The Dark Knight, 12 Years a Slave',\n",
       " '27': '5. Daniel Radcliffe & Rupert Grint '}"
      ]
     },
     "execution_count": 91,
     "metadata": {},
     "output_type": "execute_result"
    }
   ],
   "source": [
    "# в конце можно посмотреть свои ответы к каждому вопросу\n",
    "answers"
   ]
  },
  {
   "cell_type": "code",
   "execution_count": 92,
   "metadata": {
    "colab": {},
    "colab_type": "code",
    "id": "SiRmHPl8VqAd"
   },
   "outputs": [
    {
     "data": {
      "text/plain": [
       "27"
      ]
     },
     "execution_count": 92,
     "metadata": {},
     "output_type": "execute_result"
    }
   ],
   "source": [
    "# и убедиться что ни чего не пропустил)\n",
    "len(answers)"
   ]
  },
  {
   "cell_type": "code",
   "execution_count": null,
   "metadata": {
    "colab": {},
    "colab_type": "code",
    "id": "uCfuTkRbVqAg"
   },
   "outputs": [],
   "source": []
  },
  {
   "cell_type": "code",
   "execution_count": null,
   "metadata": {
    "colab": {},
    "colab_type": "code",
    "id": "Vwx3NrkSVqAl"
   },
   "outputs": [],
   "source": []
  }
 ],
 "metadata": {
  "colab": {
   "name": "Copy of [SF-DST] Movies IMBD v4.1 TEMPLATE.ipynb",
   "provenance": []
  },
  "kernelspec": {
   "display_name": "Python 3",
   "language": "python",
   "name": "python3"
  },
  "language_info": {
   "codemirror_mode": {
    "name": "ipython",
    "version": 3
   },
   "file_extension": ".py",
   "mimetype": "text/x-python",
   "name": "python",
   "nbconvert_exporter": "python",
   "pygments_lexer": "ipython3",
   "version": "3.8.5"
  }
 },
 "nbformat": 4,
 "nbformat_minor": 1
}
