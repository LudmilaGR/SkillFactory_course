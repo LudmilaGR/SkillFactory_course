{
 "cells": [
  {
   "cell_type": "code",
   "execution_count": 2,
   "metadata": {},
   "outputs": [
    {
     "name": "stdout",
     "output_type": "stream",
     "text": [
      "Ваш алгоритм угадывает число в среднем за 5 попыток\n"
     ]
    },
    {
     "data": {
      "text/plain": [
       "5"
      ]
     },
     "execution_count": 2,
     "metadata": {},
     "output_type": "execute_result"
    }
   ],
   "source": [
    "# Code for calculating the average number of attempts for which the algorithm can determine the desired number\n",
    "import numpy as np\n",
    "\n",
    "\n",
    "def game_core_v3(number):\n",
    "    '''First, we set the expected number equal to the middle of the entire search\n",
    "    range in which the hidden number can be found. Then we shift the left or right\n",
    "    border of the range depending on whether the expected number is greater or less \n",
    "    than the desired one, and we define the new assumed number as the middle of the\n",
    "    new search range. The function takes the guessed number and returns the number\n",
    "    of attempts to guess'''\n",
    "    count = 1  # the attempt counter\n",
    "    left_border = -1  # fixed the left border of the number search range\n",
    "    right_border = len(range(0,101))  # fixed the right border of the number search range\n",
    "    predicted_number = (left_border + right_border)//2  # the middle of the first range of the number search is determined\n",
    "    \n",
    "    while left_border + 1 < right_border and number != predicted_number:\n",
    "        count += 1\n",
    "        predicted_number = (left_border + right_border)//2 # the middle of the new number search range is determined\n",
    "        if number > predicted_number: \n",
    "            left_border = predicted_number + 1  # a new border of the left range is set if the desired number is greater\n",
    "                                                ## than the expected one\n",
    "        elif number < predicted_number: \n",
    "            right_border = predicted_number - 1 # a new border of the right range is set if the desired number is less \n",
    "                                                ## than the expected one\n",
    "            \n",
    "    return(count) # exit the loop if you guessed the hidden number\n",
    "        \n",
    "        \n",
    "def score_game(game_core):\n",
    "    '''Run the game 1000 times to find out how fast the game guesses the number.'''\n",
    "    count_ls = []\n",
    "    np.random.seed(1)  # fix RANDOM SEED so that the experiment is reproducible!\n",
    "    random_array = np.random.randint(1,101, size=(1000)) # made a number (an array of 1000 pseudo-random numbers)\n",
    "\n",
    "    for number in random_array:\n",
    "        count_ls.append(game_core(number))\n",
    "\n",
    "    score = int(np.mean(count_ls))\n",
    "    print(f\"Ваш алгоритм угадывает число в среднем за {score} попыток\")\n",
    "    return(score)\n",
    "\n",
    "\n",
    "# running \n",
    "score_game(game_core_v3)"
   ]
  }
 ],
 "metadata": {
  "kernelspec": {
   "display_name": "Python 3",
   "language": "python",
   "name": "python3"
  },
  "language_info": {
   "codemirror_mode": {
    "name": "ipython",
    "version": 3
   },
   "file_extension": ".py",
   "mimetype": "text/x-python",
   "name": "python",
   "nbconvert_exporter": "python",
   "pygments_lexer": "ipython3",
   "version": "3.8.5"
  }
 },
 "nbformat": 4,
 "nbformat_minor": 4
}
